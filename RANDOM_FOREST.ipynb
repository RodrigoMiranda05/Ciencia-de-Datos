{
  "cells": [
    {
      "cell_type": "markdown",
      "metadata": {
        "id": "view-in-github",
        "colab_type": "text"
      },
      "source": [
        "<a href=\"https://colab.research.google.com/github/RodrigoMiranda05/Ciencia-de-Datos/blob/main/RANDOM_FOREST.ipynb\" target=\"_parent\"><img src=\"https://colab.research.google.com/assets/colab-badge.svg\" alt=\"Open In Colab\"/></a>"
      ]
    },
    {
      "cell_type": "markdown",
      "id": "051532cf",
      "metadata": {
        "id": "051532cf"
      },
      "source": [
        "# Aplicación de un Bosque Aleatorio (Random Forest) para la Predicción de Incumplimiento de Préstamos Bancarios\n",
        "\n",
        "En este nuevo notebook, nos adentraremos en la implementación de un modelo de Bosque Aleatorio (Random Forest) como una alternativa tras haber evaluado previamente un Árbol de Decisión y una Regresión Logística en el contexto de nuestro proyecto de incumplimiento de préstamos bancarios. A continuación, resaltaremos algunos aspectos clave que hacen que el Bosque Aleatorio sea una elección prometedora en este contexto:\n",
        "\n",
        "**1. Mayor Estabilidad en la Predicción del Incumplimiento:**\n",
        "El Bosque Aleatorio se destaca por su estabilidad y capacidad para resistir el sobreajuste, lo que es esencial al predecir incumplimientos de préstamos. Al combinar múltiples árboles de decisión y promediar sus resultados, reduce la variabilidad en nuestras predicciones y mejora la fiabilidad de nuestro modelo.\n",
        "\n",
        "**2. Mejor Generalización en Conjuntos de Datos Bancarios:**\n",
        "Este modelo tiende a generalizar de manera efectiva en una variedad de conjuntos de datos bancarios. Puede manejar tanto características numéricas como categóricas, lo que es crucial al trabajar con datos financieros. Además, es menos susceptible a problemas de multicolinealidad, lo que mejora la capacidad de predecir el incumplimiento de préstamos de manera precisa.\n",
        "\n",
        "**3. Identificación de Características Relevantes:**\n",
        "El Bosque Aleatorio proporciona una estimación de la importancia de las características, lo cual es valioso en el contexto de identificar los factores más influyentes en el incumplimiento de préstamos. Esta información puede ser esencial para la selección de características y la interpretación de los resultados.\n",
        "\n",
        "**4. Evaluación de Importancia de Características Simplificada:**\n",
        "Con la capacidad integrada de evaluar la importancia de las características, el Bosque Aleatorio simplifica el proceso de identificar las variables más críticas en la predicción de incumplimiento de préstamos.\n",
        "\n",
        "**5. Mayor Tolerancia al Ruido en Datos Financieros:**\n",
        "Debido a su naturaleza de conjunto, el Bosque Aleatorio es menos sensible al ruido y valores atípicos en los datos bancarios, lo que conduce a una mejor capacidad de generalización y una predicción más robusta del incumplimiento de préstamos.\n",
        "\n",
        "En este notebook, exploraremos la implementación del Bosque Aleatorio, ajustaremos sus hiperparámetros si es necesario y evaluaremos su rendimiento en comparación con los modelos previamente probados en el contexto específico del incumplimiento de préstamos bancarios. Esto nos permitirá determinar si el Bosque Aleatorio es la opción más adecuada para cumplir nuestros objetivos en este proyecto financiero.\n"
      ]
    },
    {
      "cell_type": "markdown",
      "id": "b04ddfeb",
      "metadata": {
        "id": "b04ddfeb"
      },
      "source": [
        "## Configuración Inicial\n",
        "\n",
        "En esta sección, importamos las bibliotecas necesarias para nuestro análisis de datos y configuramos algunas opciones iniciales. Aquí están las bibliotecas que utilizamos:\n",
        "\n",
        "- `numpy` y `pandas` para el análisis numérico y el manejo de datos, respectivamente.\n",
        "- `matplotlib.pyplot` y `seaborn` para la visualización de gráficos.\n",
        "- `warnings` para gestionar las advertencias y evitar que se muestren durante el análisis.\n",
        "\n",
        "Además, se utiliza la línea `%matplotlib inline` para asegurarse de que los gráficos se muestren en el cuaderno.\n"
      ]
    },
    {
      "cell_type": "code",
      "execution_count": null,
      "id": "6630a144",
      "metadata": {
        "id": "6630a144"
      },
      "outputs": [],
      "source": [
        "import numpy as np                          # analisis numérico\n",
        "import pandas as pd                         # manejo de datos\n",
        "import matplotlib.pyplot as plt             # Gráficos\n",
        "import seaborn as sns                       # Gráficos\n",
        "\n",
        "import warnings\n",
        "warnings.filterwarnings('ignore')\n",
        "\n",
        "%matplotlib inline"
      ]
    },
    {
      "cell_type": "markdown",
      "id": "245b3ce8",
      "metadata": {
        "id": "245b3ce8"
      },
      "source": [
        "## Importación de Bibliotecas de Aprendizaje Automático\n",
        "\n",
        "En esta parte del notebook, importamos las bibliotecas relacionadas con el aprendizaje automático que necesitaremos para nuestro análisis. Las bibliotecas incluyen:\n",
        "\n",
        "- `train_test_split` y `GridSearchCV` de `sklearn.model_selection` para dividir los datos en conjuntos de entrenamiento y prueba, así como para la búsqueda de hiperparámetros.\n",
        "- `classification_report`, `roc_auc_score`, `average_precision_score`, `make_scorer`, `accuracy_score`, `confusion_matrix`, y `f1_score` de `sklearn.metrics` para evaluar el rendimiento de nuestros modelos.\n",
        "- `RandomForestClassifier` de `sklearn.ensemble` para implementar el modelo de Random Forest que hemos mencionado anteriormente.\n",
        "\n",
        "Estas bibliotecas serán esenciales para entrenar, evaluar y ajustar nuestro modelo de Random Forest en nuestro análisis.\n"
      ]
    },
    {
      "cell_type": "code",
      "execution_count": null,
      "id": "a71822e4",
      "metadata": {
        "id": "a71822e4"
      },
      "outputs": [],
      "source": [
        "from sklearn.model_selection import train_test_split, GridSearchCV\n",
        "from sklearn.metrics import classification_report, roc_auc_score, average_precision_score, make_scorer, accuracy_score\n",
        "from sklearn.metrics import confusion_matrix, f1_score"
      ]
    },
    {
      "cell_type": "code",
      "execution_count": null,
      "id": "14d61eed",
      "metadata": {
        "id": "14d61eed"
      },
      "outputs": [],
      "source": [
        "from sklearn.ensemble import RandomForestClassifier"
      ]
    },
    {
      "cell_type": "markdown",
      "id": "0ae53ec8",
      "metadata": {
        "id": "0ae53ec8"
      },
      "source": [
        "## Carga de Datos\n",
        "\n",
        "En este paso, hemos cargado los datos desde un archivo CSV llamado \"datos_imputados.csv\" producto de la limpieza de datos anterior utilizando la biblioteca `pandas`. Para obtener una vista previa de los datos, hemos utilizado el método `.head()`, que muestra las primeras filas del DataFrame.\n",
        "\n",
        "Este proceso inicial nos permite familiarizarnos con la estructura y el contenido de los datos que utilizaremos en nuestro análisis, lo que es fundamental para comprender y preparar los datos para el modelo de Random Forest.\n"
      ]
    },
    {
      "cell_type": "code",
      "execution_count": null,
      "id": "4ca7e41b",
      "metadata": {
        "id": "4ca7e41b",
        "outputId": "f1e79013-ce6a-4f19-ed7c-8ff1c554621f"
      },
      "outputs": [
        {
          "data": {
            "text/html": [
              "<div>\n",
              "<style scoped>\n",
              "    .dataframe tbody tr th:only-of-type {\n",
              "        vertical-align: middle;\n",
              "    }\n",
              "\n",
              "    .dataframe tbody tr th {\n",
              "        vertical-align: top;\n",
              "    }\n",
              "\n",
              "    .dataframe thead th {\n",
              "        text-align: right;\n",
              "    }\n",
              "</style>\n",
              "<table border=\"1\" class=\"dataframe\">\n",
              "  <thead>\n",
              "    <tr style=\"text-align: right;\">\n",
              "      <th></th>\n",
              "      <th>loan_limit</th>\n",
              "      <th>approv_in_adv</th>\n",
              "      <th>loan_purpose</th>\n",
              "      <th>business_or_commercial</th>\n",
              "      <th>loan_amount</th>\n",
              "      <th>Upfront_charges</th>\n",
              "      <th>Neg_ammortization</th>\n",
              "      <th>property_value</th>\n",
              "      <th>income</th>\n",
              "      <th>Credit_Score</th>\n",
              "      <th>co-applicant_credit_type</th>\n",
              "      <th>submission_of_application</th>\n",
              "      <th>LTV</th>\n",
              "      <th>Status</th>\n",
              "      <th>dtir1</th>\n",
              "    </tr>\n",
              "  </thead>\n",
              "  <tbody>\n",
              "    <tr>\n",
              "      <th>0</th>\n",
              "      <td>cf</td>\n",
              "      <td>nopre</td>\n",
              "      <td>p1</td>\n",
              "      <td>nob/c</td>\n",
              "      <td>116500</td>\n",
              "      <td>0.0</td>\n",
              "      <td>not_neg</td>\n",
              "      <td>118000.0</td>\n",
              "      <td>1740.0</td>\n",
              "      <td>758</td>\n",
              "      <td>CIB</td>\n",
              "      <td>to_inst</td>\n",
              "      <td>98.728814</td>\n",
              "      <td>1</td>\n",
              "      <td>45.0</td>\n",
              "    </tr>\n",
              "    <tr>\n",
              "      <th>1</th>\n",
              "      <td>cf</td>\n",
              "      <td>pre</td>\n",
              "      <td>p1</td>\n",
              "      <td>nob/c</td>\n",
              "      <td>406500</td>\n",
              "      <td>595.0</td>\n",
              "      <td>neg_amm</td>\n",
              "      <td>508000.0</td>\n",
              "      <td>9480.0</td>\n",
              "      <td>834</td>\n",
              "      <td>CIB</td>\n",
              "      <td>to_inst</td>\n",
              "      <td>80.019685</td>\n",
              "      <td>0</td>\n",
              "      <td>46.0</td>\n",
              "    </tr>\n",
              "    <tr>\n",
              "      <th>2</th>\n",
              "      <td>cf</td>\n",
              "      <td>nopre</td>\n",
              "      <td>p4</td>\n",
              "      <td>nob/c</td>\n",
              "      <td>456500</td>\n",
              "      <td>0.0</td>\n",
              "      <td>not_neg</td>\n",
              "      <td>658000.0</td>\n",
              "      <td>11880.0</td>\n",
              "      <td>587</td>\n",
              "      <td>CIB</td>\n",
              "      <td>not_inst</td>\n",
              "      <td>69.376900</td>\n",
              "      <td>0</td>\n",
              "      <td>42.0</td>\n",
              "    </tr>\n",
              "    <tr>\n",
              "      <th>3</th>\n",
              "      <td>cf</td>\n",
              "      <td>pre</td>\n",
              "      <td>p1</td>\n",
              "      <td>nob/c</td>\n",
              "      <td>696500</td>\n",
              "      <td>0.0</td>\n",
              "      <td>not_neg</td>\n",
              "      <td>758000.0</td>\n",
              "      <td>10440.0</td>\n",
              "      <td>602</td>\n",
              "      <td>EXP</td>\n",
              "      <td>not_inst</td>\n",
              "      <td>91.886544</td>\n",
              "      <td>0</td>\n",
              "      <td>39.0</td>\n",
              "    </tr>\n",
              "    <tr>\n",
              "      <th>4</th>\n",
              "      <td>cf</td>\n",
              "      <td>pre</td>\n",
              "      <td>p1</td>\n",
              "      <td>nob/c</td>\n",
              "      <td>706500</td>\n",
              "      <td>370.0</td>\n",
              "      <td>not_neg</td>\n",
              "      <td>1008000.0</td>\n",
              "      <td>10080.0</td>\n",
              "      <td>864</td>\n",
              "      <td>EXP</td>\n",
              "      <td>not_inst</td>\n",
              "      <td>70.089286</td>\n",
              "      <td>0</td>\n",
              "      <td>40.0</td>\n",
              "    </tr>\n",
              "  </tbody>\n",
              "</table>\n",
              "</div>"
            ],
            "text/plain": [
              "  loan_limit approv_in_adv loan_purpose business_or_commercial  loan_amount  \\\n",
              "0         cf         nopre           p1                  nob/c       116500   \n",
              "1         cf           pre           p1                  nob/c       406500   \n",
              "2         cf         nopre           p4                  nob/c       456500   \n",
              "3         cf           pre           p1                  nob/c       696500   \n",
              "4         cf           pre           p1                  nob/c       706500   \n",
              "\n",
              "   Upfront_charges Neg_ammortization  property_value   income  Credit_Score  \\\n",
              "0              0.0           not_neg        118000.0   1740.0           758   \n",
              "1            595.0           neg_amm        508000.0   9480.0           834   \n",
              "2              0.0           not_neg        658000.0  11880.0           587   \n",
              "3              0.0           not_neg        758000.0  10440.0           602   \n",
              "4            370.0           not_neg       1008000.0  10080.0           864   \n",
              "\n",
              "  co-applicant_credit_type submission_of_application        LTV  Status  dtir1  \n",
              "0                      CIB                   to_inst  98.728814       1   45.0  \n",
              "1                      CIB                   to_inst  80.019685       0   46.0  \n",
              "2                      CIB                  not_inst  69.376900       0   42.0  \n",
              "3                      EXP                  not_inst  91.886544       0   39.0  \n",
              "4                      EXP                  not_inst  70.089286       0   40.0  "
            ]
          },
          "execution_count": 4,
          "metadata": {},
          "output_type": "execute_result"
        }
      ],
      "source": [
        "df = pd.read_csv(\"datos_imputados.csv\")\n",
        "df.head()"
      ]
    },
    {
      "cell_type": "markdown",
      "id": "5f69b6ba",
      "metadata": {
        "id": "5f69b6ba"
      },
      "source": [
        "## Preprocesamiento de Datos: Codificación One-Hot para Columnas Categóricas\n",
        "\n",
        "En los códigos que siguen, realizamos el preprocesamiento de los datos. Primero, hemos identificado las columnas categóricas en nuestro DataFrame utilizando la función `select_dtypes` de `pandas`. Luego, hemos obtenido una lista de estas columnas categóricas.\n",
        "\n",
        "A continuación, aplicamos la codificación one-hot (one-hot encoding) solo a las columnas categóricas utilizando la función `pd.get_dummies`. Este proceso convierte las variables categóricas en representaciones numéricas binarias, lo que facilita el manejo de estas características en nuestro modelo.\n",
        "\n",
        "El preprocesamiento de datos es un paso crítico en la preparación de los datos para el aprendizaje automático y garantiza que nuestro modelo pueda trabajar de manera efectiva con todas las características.\n"
      ]
    },
    {
      "cell_type": "code",
      "execution_count": null,
      "id": "ed54fd72",
      "metadata": {
        "id": "ed54fd72"
      },
      "outputs": [],
      "source": [
        "# Obtén una lista de las columnas categóricas\n",
        "columnas_categoricas = df.select_dtypes(include=['object']).columns.tolist()"
      ]
    },
    {
      "cell_type": "code",
      "execution_count": null,
      "id": "930271e1",
      "metadata": {
        "id": "930271e1"
      },
      "outputs": [],
      "source": [
        "# Aplica one-hot encoding solo a las columnas categóricas\n",
        "df = pd.get_dummies(df, columns=columnas_categoricas)"
      ]
    },
    {
      "cell_type": "code",
      "execution_count": null,
      "id": "ce5998e4",
      "metadata": {
        "scrolled": true,
        "id": "ce5998e4",
        "outputId": "0f65bc47-9bd3-4434-95bf-760ed44f4542"
      },
      "outputs": [
        {
          "data": {
            "text/html": [
              "<div>\n",
              "<style scoped>\n",
              "    .dataframe tbody tr th:only-of-type {\n",
              "        vertical-align: middle;\n",
              "    }\n",
              "\n",
              "    .dataframe tbody tr th {\n",
              "        vertical-align: top;\n",
              "    }\n",
              "\n",
              "    .dataframe thead th {\n",
              "        text-align: right;\n",
              "    }\n",
              "</style>\n",
              "<table border=\"1\" class=\"dataframe\">\n",
              "  <thead>\n",
              "    <tr style=\"text-align: right;\">\n",
              "      <th></th>\n",
              "      <th>loan_amount</th>\n",
              "      <th>Upfront_charges</th>\n",
              "      <th>property_value</th>\n",
              "      <th>income</th>\n",
              "      <th>Credit_Score</th>\n",
              "      <th>LTV</th>\n",
              "      <th>Status</th>\n",
              "      <th>dtir1</th>\n",
              "      <th>loan_limit_cf</th>\n",
              "      <th>loan_limit_ncf</th>\n",
              "      <th>...</th>\n",
              "      <th>loan_purpose_p3</th>\n",
              "      <th>loan_purpose_p4</th>\n",
              "      <th>business_or_commercial_b/c</th>\n",
              "      <th>business_or_commercial_nob/c</th>\n",
              "      <th>Neg_ammortization_neg_amm</th>\n",
              "      <th>Neg_ammortization_not_neg</th>\n",
              "      <th>co-applicant_credit_type_CIB</th>\n",
              "      <th>co-applicant_credit_type_EXP</th>\n",
              "      <th>submission_of_application_not_inst</th>\n",
              "      <th>submission_of_application_to_inst</th>\n",
              "    </tr>\n",
              "  </thead>\n",
              "  <tbody>\n",
              "    <tr>\n",
              "      <th>0</th>\n",
              "      <td>116500</td>\n",
              "      <td>0.0</td>\n",
              "      <td>118000.0</td>\n",
              "      <td>1740.0</td>\n",
              "      <td>758</td>\n",
              "      <td>98.728814</td>\n",
              "      <td>1</td>\n",
              "      <td>45.0</td>\n",
              "      <td>True</td>\n",
              "      <td>False</td>\n",
              "      <td>...</td>\n",
              "      <td>False</td>\n",
              "      <td>False</td>\n",
              "      <td>False</td>\n",
              "      <td>True</td>\n",
              "      <td>False</td>\n",
              "      <td>True</td>\n",
              "      <td>True</td>\n",
              "      <td>False</td>\n",
              "      <td>False</td>\n",
              "      <td>True</td>\n",
              "    </tr>\n",
              "    <tr>\n",
              "      <th>1</th>\n",
              "      <td>406500</td>\n",
              "      <td>595.0</td>\n",
              "      <td>508000.0</td>\n",
              "      <td>9480.0</td>\n",
              "      <td>834</td>\n",
              "      <td>80.019685</td>\n",
              "      <td>0</td>\n",
              "      <td>46.0</td>\n",
              "      <td>True</td>\n",
              "      <td>False</td>\n",
              "      <td>...</td>\n",
              "      <td>False</td>\n",
              "      <td>False</td>\n",
              "      <td>False</td>\n",
              "      <td>True</td>\n",
              "      <td>True</td>\n",
              "      <td>False</td>\n",
              "      <td>True</td>\n",
              "      <td>False</td>\n",
              "      <td>False</td>\n",
              "      <td>True</td>\n",
              "    </tr>\n",
              "    <tr>\n",
              "      <th>2</th>\n",
              "      <td>456500</td>\n",
              "      <td>0.0</td>\n",
              "      <td>658000.0</td>\n",
              "      <td>11880.0</td>\n",
              "      <td>587</td>\n",
              "      <td>69.376900</td>\n",
              "      <td>0</td>\n",
              "      <td>42.0</td>\n",
              "      <td>True</td>\n",
              "      <td>False</td>\n",
              "      <td>...</td>\n",
              "      <td>False</td>\n",
              "      <td>True</td>\n",
              "      <td>False</td>\n",
              "      <td>True</td>\n",
              "      <td>False</td>\n",
              "      <td>True</td>\n",
              "      <td>True</td>\n",
              "      <td>False</td>\n",
              "      <td>True</td>\n",
              "      <td>False</td>\n",
              "    </tr>\n",
              "    <tr>\n",
              "      <th>3</th>\n",
              "      <td>696500</td>\n",
              "      <td>0.0</td>\n",
              "      <td>758000.0</td>\n",
              "      <td>10440.0</td>\n",
              "      <td>602</td>\n",
              "      <td>91.886544</td>\n",
              "      <td>0</td>\n",
              "      <td>39.0</td>\n",
              "      <td>True</td>\n",
              "      <td>False</td>\n",
              "      <td>...</td>\n",
              "      <td>False</td>\n",
              "      <td>False</td>\n",
              "      <td>False</td>\n",
              "      <td>True</td>\n",
              "      <td>False</td>\n",
              "      <td>True</td>\n",
              "      <td>False</td>\n",
              "      <td>True</td>\n",
              "      <td>True</td>\n",
              "      <td>False</td>\n",
              "    </tr>\n",
              "    <tr>\n",
              "      <th>4</th>\n",
              "      <td>706500</td>\n",
              "      <td>370.0</td>\n",
              "      <td>1008000.0</td>\n",
              "      <td>10080.0</td>\n",
              "      <td>864</td>\n",
              "      <td>70.089286</td>\n",
              "      <td>0</td>\n",
              "      <td>40.0</td>\n",
              "      <td>True</td>\n",
              "      <td>False</td>\n",
              "      <td>...</td>\n",
              "      <td>False</td>\n",
              "      <td>False</td>\n",
              "      <td>False</td>\n",
              "      <td>True</td>\n",
              "      <td>False</td>\n",
              "      <td>True</td>\n",
              "      <td>False</td>\n",
              "      <td>True</td>\n",
              "      <td>True</td>\n",
              "      <td>False</td>\n",
              "    </tr>\n",
              "  </tbody>\n",
              "</table>\n",
              "<p>5 rows × 23 columns</p>\n",
              "</div>"
            ],
            "text/plain": [
              "   loan_amount  Upfront_charges  property_value   income  Credit_Score  \\\n",
              "0       116500              0.0        118000.0   1740.0           758   \n",
              "1       406500            595.0        508000.0   9480.0           834   \n",
              "2       456500              0.0        658000.0  11880.0           587   \n",
              "3       696500              0.0        758000.0  10440.0           602   \n",
              "4       706500            370.0       1008000.0  10080.0           864   \n",
              "\n",
              "         LTV  Status  dtir1  loan_limit_cf  loan_limit_ncf  ...  \\\n",
              "0  98.728814       1   45.0           True           False  ...   \n",
              "1  80.019685       0   46.0           True           False  ...   \n",
              "2  69.376900       0   42.0           True           False  ...   \n",
              "3  91.886544       0   39.0           True           False  ...   \n",
              "4  70.089286       0   40.0           True           False  ...   \n",
              "\n",
              "   loan_purpose_p3  loan_purpose_p4  business_or_commercial_b/c  \\\n",
              "0            False            False                       False   \n",
              "1            False            False                       False   \n",
              "2            False             True                       False   \n",
              "3            False            False                       False   \n",
              "4            False            False                       False   \n",
              "\n",
              "   business_or_commercial_nob/c  Neg_ammortization_neg_amm  \\\n",
              "0                          True                      False   \n",
              "1                          True                       True   \n",
              "2                          True                      False   \n",
              "3                          True                      False   \n",
              "4                          True                      False   \n",
              "\n",
              "   Neg_ammortization_not_neg  co-applicant_credit_type_CIB  \\\n",
              "0                       True                          True   \n",
              "1                      False                          True   \n",
              "2                       True                          True   \n",
              "3                       True                         False   \n",
              "4                       True                         False   \n",
              "\n",
              "   co-applicant_credit_type_EXP  submission_of_application_not_inst  \\\n",
              "0                         False                               False   \n",
              "1                         False                               False   \n",
              "2                         False                                True   \n",
              "3                          True                                True   \n",
              "4                          True                                True   \n",
              "\n",
              "   submission_of_application_to_inst  \n",
              "0                               True  \n",
              "1                               True  \n",
              "2                              False  \n",
              "3                              False  \n",
              "4                              False  \n",
              "\n",
              "[5 rows x 23 columns]"
            ]
          },
          "execution_count": 7,
          "metadata": {},
          "output_type": "execute_result"
        }
      ],
      "source": [
        "df.head()"
      ]
    },
    {
      "cell_type": "markdown",
      "id": "40e99440",
      "metadata": {
        "id": "40e99440"
      },
      "source": [
        "## División de los Datos en Conjuntos de Entrenamiento y Prueba\n",
        "\n",
        "En esta etapa, hemos dividido nuestros datos en conjuntos de entrenamiento y prueba, lo que es esencial para evaluar el rendimiento de nuestro modelo de Random Forest. Aquí se describen los pasos realizados:\n",
        "\n",
        "1. Creamos la matriz de características `X` eliminando la columna 'Status' del DataFrame original `df`.\n",
        "2. Creamos el vector de etiquetas `y`, que contiene la columna 'Status'.\n",
        "3. Utilizamos la función `train_test_split` de `sklearn.model_selection` para dividir los datos en conjuntos de entrenamiento (`X_train` y `y_train`) y prueba (`X_test` y `y_test`).\n",
        "4. Hemos especificado un tamaño de prueba del 20% y una semilla aleatoria (`random_state`) para garantizar la reproducibilidad del proceso de división.\n",
        "5. Además, hemos utilizado la opción `stratify` para asegurarnos de que la distribución de clases en los conjuntos de entrenamiento y prueba sea similar, lo que es importante en problemas de clasificación.\n",
        "\n",
        "Esta división nos permitirá entrenar nuestro modelo en un conjunto de datos y evaluar su rendimiento en otro conjunto independiente, lo que es fundamental para una evaluación imparcial del modelo.\n"
      ]
    },
    {
      "cell_type": "code",
      "execution_count": null,
      "id": "e77158a3",
      "metadata": {
        "id": "e77158a3"
      },
      "outputs": [],
      "source": [
        "X = df.drop('Status', axis=1)\n",
        "y = df['Status']"
      ]
    },
    {
      "cell_type": "code",
      "execution_count": null,
      "id": "62815d16",
      "metadata": {
        "id": "62815d16"
      },
      "outputs": [],
      "source": [
        "X_train, X_test, y_train, y_test = train_test_split(X, y, test_size=0.3, random_state=42, stratify= y)"
      ]
    },
    {
      "cell_type": "markdown",
      "id": "51e1f60d",
      "metadata": {
        "id": "51e1f60d"
      },
      "source": [
        "## Creación y Entrenamiento del Modelo de Bosque Aleatorio\n",
        "\n",
        "En esta sección, hemos creado un modelo de Bosque Aleatorio, una técnica de aprendizaje automático basada en ensambles de árboles de decisión. A continuación, se detallan los pasos realizados:\n",
        "\n",
        "1. Creamos el modelo de Bosque Aleatorio utilizando `RandomForestClassifier` de `sklearn.ensemble`. Especificamos 100 estimadores (`n_estimators`) y fijamos una semilla aleatoria (`random_state`) para garantizar la reproducibilidad de los resultados. Además, habilitamos la opción `oob_score` para calcular el puntaje out-of-bag (oob), que proporciona una estimación adicional del rendimiento del modelo.\n",
        "\n",
        "2. Entrenamos el modelo utilizando los datos de entrenamiento (`X_train` y `y_train`) mediante el método `.fit()`. El modelo aprenderá a realizar predicciones basadas en los datos de entrenamiento.\n",
        "\n",
        "3. Luego, realizamos predicciones en el conjunto de prueba (`X_test`) utilizando el modelo entrenado y almacenamos las predicciones en `y_pred`.\n",
        "\n"
      ]
    },
    {
      "cell_type": "code",
      "execution_count": null,
      "id": "79b64f44",
      "metadata": {
        "id": "79b64f44"
      },
      "outputs": [],
      "source": [
        "# Crea un modelo de Bosque Aleatorio\n",
        "modelo = RandomForestClassifier(n_estimators=100, random_state=42, oob_score = True)"
      ]
    },
    {
      "cell_type": "code",
      "execution_count": null,
      "id": "c4534d05",
      "metadata": {
        "id": "c4534d05",
        "outputId": "5431644c-854a-4a66-ba51-601f85f1cffa"
      },
      "outputs": [
        {
          "data": {
            "text/html": [
              "<style>#sk-container-id-1 {color: black;}#sk-container-id-1 pre{padding: 0;}#sk-container-id-1 div.sk-toggleable {background-color: white;}#sk-container-id-1 label.sk-toggleable__label {cursor: pointer;display: block;width: 100%;margin-bottom: 0;padding: 0.3em;box-sizing: border-box;text-align: center;}#sk-container-id-1 label.sk-toggleable__label-arrow:before {content: \"▸\";float: left;margin-right: 0.25em;color: #696969;}#sk-container-id-1 label.sk-toggleable__label-arrow:hover:before {color: black;}#sk-container-id-1 div.sk-estimator:hover label.sk-toggleable__label-arrow:before {color: black;}#sk-container-id-1 div.sk-toggleable__content {max-height: 0;max-width: 0;overflow: hidden;text-align: left;background-color: #f0f8ff;}#sk-container-id-1 div.sk-toggleable__content pre {margin: 0.2em;color: black;border-radius: 0.25em;background-color: #f0f8ff;}#sk-container-id-1 input.sk-toggleable__control:checked~div.sk-toggleable__content {max-height: 200px;max-width: 100%;overflow: auto;}#sk-container-id-1 input.sk-toggleable__control:checked~label.sk-toggleable__label-arrow:before {content: \"▾\";}#sk-container-id-1 div.sk-estimator input.sk-toggleable__control:checked~label.sk-toggleable__label {background-color: #d4ebff;}#sk-container-id-1 div.sk-label input.sk-toggleable__control:checked~label.sk-toggleable__label {background-color: #d4ebff;}#sk-container-id-1 input.sk-hidden--visually {border: 0;clip: rect(1px 1px 1px 1px);clip: rect(1px, 1px, 1px, 1px);height: 1px;margin: -1px;overflow: hidden;padding: 0;position: absolute;width: 1px;}#sk-container-id-1 div.sk-estimator {font-family: monospace;background-color: #f0f8ff;border: 1px dotted black;border-radius: 0.25em;box-sizing: border-box;margin-bottom: 0.5em;}#sk-container-id-1 div.sk-estimator:hover {background-color: #d4ebff;}#sk-container-id-1 div.sk-parallel-item::after {content: \"\";width: 100%;border-bottom: 1px solid gray;flex-grow: 1;}#sk-container-id-1 div.sk-label:hover label.sk-toggleable__label {background-color: #d4ebff;}#sk-container-id-1 div.sk-serial::before {content: \"\";position: absolute;border-left: 1px solid gray;box-sizing: border-box;top: 0;bottom: 0;left: 50%;z-index: 0;}#sk-container-id-1 div.sk-serial {display: flex;flex-direction: column;align-items: center;background-color: white;padding-right: 0.2em;padding-left: 0.2em;position: relative;}#sk-container-id-1 div.sk-item {position: relative;z-index: 1;}#sk-container-id-1 div.sk-parallel {display: flex;align-items: stretch;justify-content: center;background-color: white;position: relative;}#sk-container-id-1 div.sk-item::before, #sk-container-id-1 div.sk-parallel-item::before {content: \"\";position: absolute;border-left: 1px solid gray;box-sizing: border-box;top: 0;bottom: 0;left: 50%;z-index: -1;}#sk-container-id-1 div.sk-parallel-item {display: flex;flex-direction: column;z-index: 1;position: relative;background-color: white;}#sk-container-id-1 div.sk-parallel-item:first-child::after {align-self: flex-end;width: 50%;}#sk-container-id-1 div.sk-parallel-item:last-child::after {align-self: flex-start;width: 50%;}#sk-container-id-1 div.sk-parallel-item:only-child::after {width: 0;}#sk-container-id-1 div.sk-dashed-wrapped {border: 1px dashed gray;margin: 0 0.4em 0.5em 0.4em;box-sizing: border-box;padding-bottom: 0.4em;background-color: white;}#sk-container-id-1 div.sk-label label {font-family: monospace;font-weight: bold;display: inline-block;line-height: 1.2em;}#sk-container-id-1 div.sk-label-container {text-align: center;}#sk-container-id-1 div.sk-container {/* jupyter's `normalize.less` sets `[hidden] { display: none; }` but bootstrap.min.css set `[hidden] { display: none !important; }` so we also need the `!important` here to be able to override the default hidden behavior on the sphinx rendered scikit-learn.org. See: https://github.com/scikit-learn/scikit-learn/issues/21755 */display: inline-block !important;position: relative;}#sk-container-id-1 div.sk-text-repr-fallback {display: none;}</style><div id=\"sk-container-id-1\" class=\"sk-top-container\"><div class=\"sk-text-repr-fallback\"><pre>RandomForestClassifier(oob_score=True, random_state=42)</pre><b>In a Jupyter environment, please rerun this cell to show the HTML representation or trust the notebook. <br />On GitHub, the HTML representation is unable to render, please try loading this page with nbviewer.org.</b></div><div class=\"sk-container\" hidden><div class=\"sk-item\"><div class=\"sk-estimator sk-toggleable\"><input class=\"sk-toggleable__control sk-hidden--visually\" id=\"sk-estimator-id-1\" type=\"checkbox\" checked><label for=\"sk-estimator-id-1\" class=\"sk-toggleable__label sk-toggleable__label-arrow\">RandomForestClassifier</label><div class=\"sk-toggleable__content\"><pre>RandomForestClassifier(oob_score=True, random_state=42)</pre></div></div></div></div></div>"
            ],
            "text/plain": [
              "RandomForestClassifier(oob_score=True, random_state=42)"
            ]
          },
          "execution_count": 11,
          "metadata": {},
          "output_type": "execute_result"
        }
      ],
      "source": [
        "# Entrena el modelo en los datos de entrenamiento\n",
        "modelo.fit(X_train, y_train)"
      ]
    },
    {
      "cell_type": "code",
      "execution_count": null,
      "id": "725da79d",
      "metadata": {
        "id": "725da79d"
      },
      "outputs": [],
      "source": [
        "# Realiza predicciones en el conjunto de prueba\n",
        "y_pred = modelo.predict(X_test)"
      ]
    },
    {
      "cell_type": "markdown",
      "id": "86ad0720",
      "metadata": {
        "id": "86ad0720"
      },
      "source": [
        "## Evaluación del Modelo y Visualización de la Matriz de Confusión\n",
        "\n",
        "A continuación, evaluamos el rendimiento de nuestro modelo de Bosque Aleatorio. Aquí se detallan los pasos realizados:\n",
        "\n",
        "1. Calculamos la precisión del modelo utilizando la función `accuracy_score` de `sklearn.metrics`. Comparamos las etiquetas reales (`y_test`) con las etiquetas predichas (`y_pred`) y mostramos el resultado en forma de porcentaje.\n",
        "\n",
        "2. A continuación, generamos y visualizamos la matriz de confusión, que es una herramienta importante para evaluar el rendimiento de un modelo de clasificación. Utilizamos `confusion_matrix` de `sklearn.metrics` para obtener la matriz y representamos visualmente la matriz de confusión como un mapa de calor (`heatmap`) con la biblioteca `seaborn`. Esto nos permite observar de manera efectiva cómo el modelo clasificó las muestras.\n",
        "\n",
        "Además, hemos incluido la opción `annot=True` para mostrar los valores en las celdas de la matriz de confusión y hemos ajustado el formato de los números con `fmt=\"d\"`. La paleta de colores utilizada es \"Blues\".\n",
        "\n",
        "La precisión y la matriz de confusión son herramientas cruciales para comprender el rendimiento de nuestro modelo y determinar su capacidad de clasificación.\n"
      ]
    },
    {
      "cell_type": "code",
      "execution_count": null,
      "id": "4fb0efc4",
      "metadata": {
        "id": "4fb0efc4",
        "outputId": "db1a4440-ace7-4f70-971b-85fc3efd7571"
      },
      "outputs": [
        {
          "name": "stdout",
          "output_type": "stream",
          "text": [
            "Precisión del modelo: 93.71%\n"
          ]
        }
      ],
      "source": [
        "# Calcula la precisión del modelo\n",
        "accuracy = accuracy_score(y_test, y_pred)\n",
        "print(f\"Precisión del modelo: {accuracy * 100:.2f}%\")"
      ]
    },
    {
      "cell_type": "markdown",
      "id": "9b658064",
      "metadata": {
        "id": "9b658064"
      },
      "source": [
        "## Interpretación de la Precisión del Modelo\n",
        "\n",
        "\n",
        "La precisión del modelo es una métrica que mide la proporción de predicciones correctas realizadas por un modelo de clasificación. Se calcula como el cociente de las predicciones correctas (verdaderos positivos y verdaderos negativos) dividido por el total de predicciones. Una alta precisión indica que el modelo tiende a hacer predicciones precisas, pero puede no ser suficiente si las clases están desequilibradas o si se requieren otras métricas para evaluar completamente el rendimiento del modelo.\n",
        "\n",
        "\n",
        "Una precisión del modelo del 93.47% es un resultado prometedor en un proyecto de incumplimiento de préstamos bancarios. Esto indica que el modelo es efectivo en clasificar la mayoría de las solicitudes de préstamos como cumplimiento o incumplimiento. Sin embargo, es importante considerar el equilibrio de clases y evaluar métricas adicionales para obtener una visión completa del rendimiento del modelo.\n"
      ]
    },
    {
      "cell_type": "code",
      "execution_count": null,
      "id": "702c6c57",
      "metadata": {
        "scrolled": false,
        "id": "702c6c57",
        "outputId": "3cef8714-e071-4a1d-a87d-ad920e81c390"
      },
      "outputs": [
        {
          "name": "stdout",
          "output_type": "stream",
          "text": [
            "Matriz de Confusión:\n"
          ]
        },
        {
          "data": {
            "image/png": "[encoded data removed]",
            "text/plain": [
              "<Figure size 640x480 with 1 Axes>"
            ]
          },
          "metadata": {},
          "output_type": "display_data"
        }
      ],
      "source": [
        "matriz = confusion_matrix(y_test, y_pred)\n",
        "print('Matriz de Confusión:')\n",
        "\n",
        "## np.set_printoptions(suppress=True) # evita la notacion cientifica\n",
        "\n",
        "sns.heatmap(matriz, annot=True, fmt=\"d\", cmap=\"Blues\", cbar=False)\n",
        "plt.show()"
      ]
    },
    {
      "cell_type": "markdown",
      "id": "e1e2a357",
      "metadata": {
        "id": "e1e2a357"
      },
      "source": [
        "## Interpretación de la Matriz de Confusión\n",
        "\n",
        "La matriz de confusión es una herramienta esencial para evaluar el rendimiento de nuestro modelo de detección de incumplimiento de préstamos bancarios. A continuación, se proporciona una interpretación detallada de los resultados:\n",
        "\n",
        "\n",
        "\n",
        "Donde:\n",
        "\n",
        "- `[VP]` representa la cantidad de Verdaderos Positivos, es decir, las solicitudes de préstamos que el modelo predijo correctamente como incumplimiento.\n",
        "\n",
        "- `[FN]` representa la cantidad de Falsos Negativos, que son solicitudes de préstamos reales de incumplimiento que el modelo predijo incorrectamente como cumplimiento.\n",
        "\n",
        "- `[FP]` representa la cantidad de Falsos Positivos, es decir, las solicitudes de préstamos que el modelo predijo incorrectamente como incumplimiento cuando en realidad eran de cumplimiento.\n",
        "\n",
        "- `[VN]` representa la cantidad de Verdaderos Negativos, que son las solicitudes de préstamos de cumplimiento que el modelo predijo correctamente.\n",
        "\n",
        "**Interpretación**:\n",
        "\n",
        "- Verdaderos Positivos ([VP]): Estos representan los casos en los que el modelo acertó al predecir incumplimientos de préstamos. Cuanto mayor sea este número, mejor, ya que indica una detección efectiva de incumplimientos.\n",
        "\n",
        "- Falsos Negativos ([FN]): Estos son casos en los que el modelo no detectó incumplimientos de préstamos que realmente ocurrieron. Deben mantenerse bajos para evitar riesgos financieros.\n",
        "\n",
        "- Falsos Positivos ([FP]): Estos casos indican solicitudes de préstamos que el modelo clasificó como incumplimiento pero que, en realidad, eran de cumplimiento. Deben mantenerse bajos para evitar rechazar clientes solventes.\n",
        "\n",
        "- Verdaderos Negativos ([VN]): Representan las solicitudes de préstamos de cumplimiento que el modelo predijo correctamente. Cuanto mayor sea este número, mejor, ya que indica una identificación precisa de los préstamos cumplidos.\n",
        "\n",
        "La interpretación de la matriz de confusión es fundamental para evaluar el rendimiento del modelo y tomar decisiones informadas en un contexto de incumplimiento de préstamos. Debes considerar el equilibrio entre estos valores en función de las implicaciones financieras y de riesgo.\n"
      ]
    },
    {
      "cell_type": "markdown",
      "id": "e000943b",
      "metadata": {
        "id": "e000943b"
      },
      "source": [
        "## Evaluación del Rendimiento Utilizando Métricas de Clasificación\n",
        "\n",
        "En este paso, estamos evaluando el rendimiento de nuestro modelo de detección de incumplimiento de préstamos utilizando métricas de clasificación. Hemos generado un informe de clasificación que resume varias métricas importantes. Los pasos son los siguientes:\n",
        "\n",
        "1. Hemos impreso un \"Reporte de clasificación\" que proporciona una descripción detallada de las métricas de clasificación, incluyendo:\n",
        "   \n",
        "   - Precisión (Precision): La proporción de predicciones positivas correctas entre todas las predicciones positivas.\n",
        "   \n",
        "   - Sensibilidad (Recall): La proporción de casos positivos reales detectados por el modelo (Verdaderos Positivos).\n",
        "   \n",
        "   - F1-Score: La media armónica de precisión y sensibilidad, que es útil cuando se busca un equilibrio entre ambas métricas.\n",
        "   \n",
        "   - Soporte (Support): El número de ocurrencias de cada clase en el conjunto de prueba.\n",
        "\n",
        "Este informe proporciona información detallada sobre cómo el modelo se desempeña en la detección de incumplimientos de préstamos, ayudándote a evaluar su rendimiento de manera más completa.\n",
        "\n",
        "Es importante analizar estas métricas en conjunto para tomar decisiones informadas y ajustar el modelo si es necesario.\n"
      ]
    },
    {
      "cell_type": "code",
      "execution_count": null,
      "id": "507254e0",
      "metadata": {
        "scrolled": true,
        "id": "507254e0",
        "outputId": "5fec2294-d98d-4e49-e6cf-10b222a78fe1"
      },
      "outputs": [
        {
          "name": "stdout",
          "output_type": "stream",
          "text": [
            "Reporte de clasificación:\n",
            "              precision    recall  f1-score   support\n",
            "\n",
            "           0       0.96      0.96      0.96     31236\n",
            "           1       0.80      0.82      0.81      6096\n",
            "\n",
            "    accuracy                           0.94     37332\n",
            "   macro avg       0.88      0.89      0.89     37332\n",
            "weighted avg       0.94      0.94      0.94     37332\n",
            "\n"
          ]
        }
      ],
      "source": [
        "# Paso 5: Evaluar el rendimiento utilizando métricas de clasificación\n",
        "print(\"Reporte de clasificación:\")\n",
        "print(classification_report(y_test, y_pred))"
      ]
    },
    {
      "cell_type": "markdown",
      "id": "b1c6da41",
      "metadata": {
        "id": "b1c6da41"
      },
      "source": [
        "## Interpretación de las Métricas de Clasificación\n",
        "\n",
        "En el contexto de incumplimiento de préstamos, es fundamental analizar las métricas de clasificación para evaluar el rendimiento del modelo. A continuación, se presenta una interpretación numérica de las métricas clave:\n",
        "\n",
        "- **Precisión (Precision)**: La precisión del modelo es del 80% para la clase 1. Esto significa que aproximadamente el 80% de las solicitudes de préstamos clasificadas como incumplimiento por el modelo son realmente incumplimientos. Una alta precisión indica que el modelo tiende a hacer predicciones precisas de incumplimientos, lo que es importante para evitar pérdidas financieras al identificar con precisión los incumplimientos.\n",
        "\n",
        "- **Sensibilidad (Recall)**: La sensibilidad es del 82% para la clase 1. Esto indica que el modelo ha detectado aproximadamente el 82% de los incumplimientos reales en el conjunto de prueba. Una sensibilidad alta es crucial, ya que minimiza los falsos negativos y garantiza que la mayoría de los incumplimientos sean identificados.\n",
        "\n",
        "- **F1-Score**: El F1-Score es del 81% para la clase 1. Esta métrica combina precisión y sensibilidad en una única puntuación. Un F1-Score más alto indica un equilibrio entre la precisión y la sensibilidad. En el contexto de incumplimiento de préstamos, este valor de 81% sugiere un equilibrio aceptable entre la identificación precisa de incumplimientos y la minimización de falsos positivos.\n",
        "\n",
        "- **Soporte (Support)**: El soporte indica el número de solicitudes de préstamos en el conjunto de prueba para cada clase. Es esencial para contextualizar las otras métricas. En este caso, tenemos un soporte de 6096 para incumplimiento y 31236 para cumplimiento.\n",
        "\n",
        "Las métricas de clasificación muestran que el modelo tiene un alto nivel de precisión y sensibilidad, lo que es positivo en un contexto de incumplimiento de préstamos.\n",
        "\n"
      ]
    },
    {
      "cell_type": "markdown",
      "id": "c0ad5c8a",
      "metadata": {
        "id": "c0ad5c8a"
      },
      "source": [
        "## Importancia de las Características\n",
        "\n",
        "En esta etapa, estamos examinando la importancia de las características utilizadas en nuestro modelo de Bosque Aleatorio. Aquí se detallan los pasos realizados:\n",
        "\n",
        "1. Creamos un DataFrame llamado `importances` que contiene dos columnas: 'Predictor', que almacena los nombres de las características, y 'importancia', que muestra la importancia de cada característica calculada por el modelo. Utilizamos la propiedad `feature_importances_` del modelo de Bosque Aleatorio para obtener estas importancias.\n",
        "\n",
        "2. Luego, ordenamos el DataFrame `importances` en orden descendente según la importancia de las características, lo que nos permite identificar las características más relevantes en la toma de decisiones del modelo.\n",
        "\n",
        "Esta evaluación de la importancia de las características es valiosa para comprender qué características influyen más en las predicciones del modelo y puede ayudar en la selección de características o la interpretación de resultados.\n",
        "\n",
        "\n",
        "El análisis de importancia de las características revela qué aspectos del conjunto de datos tienen mayor influencia en las predicciones de nuestro modelo de Bosque Aleatorio. A continuación, se presentan las principales características ordenadas por importancia:\n",
        "\n",
        "1. **Upfront_charges (0.445)**: La característica \"Upfront_charges\" es la más influyente en las predicciones del modelo, con una importancia de aproximadamente el 44%. Esto significa que los cargos iniciales tienen un impacto significativo en la toma de decisiones del modelo.\n",
        "\n",
        "2. **income (0.088)**: La característica \"income\" sigue en importancia, con alrededor del 8.8% de influencia en las predicciones. Los ingresos son un factor clave en el modelo.\n",
        "\n",
        "3. **LTV (0.084)**: El Loan-to-Value ratio (LTV) también es una característica relevante, con aproximadamente un 8.4% de importancia.\n",
        "\n",
        "4. **dtir1 (0.082)**: El \"dtir1\" (debt-to-income ratio) tiene una importancia similar a LTV, con alrededor del 8.2%.\n",
        "\n",
        "5. **property_value (0.062)**: La característica \"property_value\" contribuye con un 6.2% de influencia en las predicciones.\n",
        "\n",
        "6. **loan_amount (0.058)**: El monto del préstamo (\"loan_amount\") y la puntuación de crédito (\"Credit_Score\") comparten un nivel de importancia del 5.8% cada uno.\n",
        "\n",
        "Estos resultados son útiles para comprender qué factores son más determinantes en las decisiones del modelo y pueden guiar futuras estrategias de modelado o la interpretación de los resultados. Las características con mayor importancia tienen un mayor impacto en las predicciones del modelo.\n"
      ]
    },
    {
      "cell_type": "code",
      "execution_count": null,
      "id": "de417b87",
      "metadata": {
        "id": "de417b87",
        "outputId": "3c713fd0-74e4-4f5c-ec98-1ac98ac65b52"
      },
      "outputs": [
        {
          "data": {
            "text/html": [
              "<div>\n",
              "<style scoped>\n",
              "    .dataframe tbody tr th:only-of-type {\n",
              "        vertical-align: middle;\n",
              "    }\n",
              "\n",
              "    .dataframe tbody tr th {\n",
              "        vertical-align: top;\n",
              "    }\n",
              "\n",
              "    .dataframe thead th {\n",
              "        text-align: right;\n",
              "    }\n",
              "</style>\n",
              "<table border=\"1\" class=\"dataframe\">\n",
              "  <thead>\n",
              "    <tr style=\"text-align: right;\">\n",
              "      <th></th>\n",
              "      <th>Predictor</th>\n",
              "      <th>importancia</th>\n",
              "    </tr>\n",
              "  </thead>\n",
              "  <tbody>\n",
              "    <tr>\n",
              "      <th>1</th>\n",
              "      <td>Upfront_charges</td>\n",
              "      <td>0.445</td>\n",
              "    </tr>\n",
              "    <tr>\n",
              "      <th>3</th>\n",
              "      <td>income</td>\n",
              "      <td>0.088</td>\n",
              "    </tr>\n",
              "    <tr>\n",
              "      <th>5</th>\n",
              "      <td>LTV</td>\n",
              "      <td>0.084</td>\n",
              "    </tr>\n",
              "    <tr>\n",
              "      <th>6</th>\n",
              "      <td>dtir1</td>\n",
              "      <td>0.082</td>\n",
              "    </tr>\n",
              "    <tr>\n",
              "      <th>2</th>\n",
              "      <td>property_value</td>\n",
              "      <td>0.062</td>\n",
              "    </tr>\n",
              "    <tr>\n",
              "      <th>4</th>\n",
              "      <td>Credit_Score</td>\n",
              "      <td>0.059</td>\n",
              "    </tr>\n",
              "    <tr>\n",
              "      <th>0</th>\n",
              "      <td>loan_amount</td>\n",
              "      <td>0.058</td>\n",
              "    </tr>\n",
              "    <tr>\n",
              "      <th>21</th>\n",
              "      <td>submission_of_application_to_inst</td>\n",
              "      <td>0.030</td>\n",
              "    </tr>\n",
              "    <tr>\n",
              "      <th>20</th>\n",
              "      <td>submission_of_application_not_inst</td>\n",
              "      <td>0.025</td>\n",
              "    </tr>\n",
              "    <tr>\n",
              "      <th>13</th>\n",
              "      <td>loan_purpose_p4</td>\n",
              "      <td>0.007</td>\n",
              "    </tr>\n",
              "    <tr>\n",
              "      <th>16</th>\n",
              "      <td>Neg_ammortization_neg_amm</td>\n",
              "      <td>0.007</td>\n",
              "    </tr>\n",
              "    <tr>\n",
              "      <th>17</th>\n",
              "      <td>Neg_ammortization_not_neg</td>\n",
              "      <td>0.007</td>\n",
              "    </tr>\n",
              "    <tr>\n",
              "      <th>12</th>\n",
              "      <td>loan_purpose_p3</td>\n",
              "      <td>0.006</td>\n",
              "    </tr>\n",
              "    <tr>\n",
              "      <th>15</th>\n",
              "      <td>business_or_commercial_nob/c</td>\n",
              "      <td>0.006</td>\n",
              "    </tr>\n",
              "    <tr>\n",
              "      <th>11</th>\n",
              "      <td>loan_purpose_p1</td>\n",
              "      <td>0.006</td>\n",
              "    </tr>\n",
              "    <tr>\n",
              "      <th>14</th>\n",
              "      <td>business_or_commercial_b/c</td>\n",
              "      <td>0.005</td>\n",
              "    </tr>\n",
              "    <tr>\n",
              "      <th>9</th>\n",
              "      <td>approv_in_adv_nopre</td>\n",
              "      <td>0.004</td>\n",
              "    </tr>\n",
              "    <tr>\n",
              "      <th>10</th>\n",
              "      <td>approv_in_adv_pre</td>\n",
              "      <td>0.004</td>\n",
              "    </tr>\n",
              "    <tr>\n",
              "      <th>18</th>\n",
              "      <td>co-applicant_credit_type_CIB</td>\n",
              "      <td>0.004</td>\n",
              "    </tr>\n",
              "    <tr>\n",
              "      <th>19</th>\n",
              "      <td>co-applicant_credit_type_EXP</td>\n",
              "      <td>0.004</td>\n",
              "    </tr>\n",
              "    <tr>\n",
              "      <th>8</th>\n",
              "      <td>loan_limit_ncf</td>\n",
              "      <td>0.003</td>\n",
              "    </tr>\n",
              "    <tr>\n",
              "      <th>7</th>\n",
              "      <td>loan_limit_cf</td>\n",
              "      <td>0.003</td>\n",
              "    </tr>\n",
              "  </tbody>\n",
              "</table>\n",
              "</div>"
            ],
            "text/plain": [
              "                             Predictor  importancia\n",
              "1                      Upfront_charges        0.445\n",
              "3                               income        0.088\n",
              "5                                  LTV        0.084\n",
              "6                                dtir1        0.082\n",
              "2                       property_value        0.062\n",
              "4                         Credit_Score        0.059\n",
              "0                          loan_amount        0.058\n",
              "21   submission_of_application_to_inst        0.030\n",
              "20  submission_of_application_not_inst        0.025\n",
              "13                     loan_purpose_p4        0.007\n",
              "16           Neg_ammortization_neg_amm        0.007\n",
              "17           Neg_ammortization_not_neg        0.007\n",
              "12                     loan_purpose_p3        0.006\n",
              "15        business_or_commercial_nob/c        0.006\n",
              "11                     loan_purpose_p1        0.006\n",
              "14          business_or_commercial_b/c        0.005\n",
              "9                  approv_in_adv_nopre        0.004\n",
              "10                   approv_in_adv_pre        0.004\n",
              "18        co-applicant_credit_type_CIB        0.004\n",
              "19        co-applicant_credit_type_EXP        0.004\n",
              "8                       loan_limit_ncf        0.003\n",
              "7                        loan_limit_cf        0.003"
            ]
          },
          "execution_count": 16,
          "metadata": {},
          "output_type": "execute_result"
        }
      ],
      "source": [
        "importances = pd.DataFrame({'Predictor':X_train.columns,'importancia':np.round(modelo.feature_importances_,3)})\n",
        "importances = importances.sort_values('importancia',ascending=False)\n",
        "importances"
      ]
    },
    {
      "cell_type": "markdown",
      "id": "e04d1802",
      "metadata": {
        "id": "e04d1802"
      },
      "source": [
        "## Visualización de la Curva ROC\n",
        "\n",
        "En esta etapa, estamos visualizando la Curva ROC (Receiver Operating Characteristic) para evaluar el rendimiento de nuestro modelo de Bosque Aleatorio en la clasificación. Aquí se detallan los pasos realizados:\n",
        "\n",
        "1. Utilizamos `RocCurveDisplay` de `sklearn.metrics` para crear una representación de la curva ROC a partir del modelo `modelo` y los datos de prueba (`X_test` y `y_test`). La curva ROC es una herramienta útil para evaluar la capacidad del modelo para distinguir entre las clases positivas y negativas.\n",
        "\n",
        "2. Finalmente, mostramos la Curva ROC utilizando `plt.show()`, lo que nos permite visualizar la relación entre la tasa de verdaderos positivos y la tasa de falsos positivos en diferentes umbrales de clasificación.\n",
        "\n",
        "La Curva ROC es una métrica importante para evaluar la calidad de un clasificador, y su visualización proporciona una comprensión clara del rendimiento del modelo en la tarea de clasificación.\n"
      ]
    },
    {
      "cell_type": "code",
      "execution_count": null,
      "id": "0276bcc7",
      "metadata": {
        "scrolled": true,
        "id": "0276bcc7",
        "outputId": "f2ffb49e-3bab-4957-8c22-4a75120660dd"
      },
      "outputs": [
        {
          "data": {
            "image/png": "[encoded data removed]",
            "text/plain": [
              "<Figure size 640x480 with 1 Axes>"
            ]
          },
          "metadata": {},
          "output_type": "display_data"
        }
      ],
      "source": [
        "from sklearn.metrics import RocCurveDisplay\n",
        "log_cor_est = RocCurveDisplay.from_estimator(modelo,X_test, y_test)\n",
        "plt.show()"
      ]
    },
    {
      "cell_type": "markdown",
      "id": "c76f2c0d",
      "metadata": {
        "id": "c76f2c0d"
      },
      "source": [
        "## Interpretación de la Curva ROC con AUC del 97%\n",
        "\n",
        "La Curva ROC (Receiver Operating Characteristic) es una herramienta esencial para evaluar el rendimiento de un clasificador en problemas de clasificación binaria. En este caso, hemos obtenido una Curva ROC con un Área Bajo la Curva (AUC) de 97%.\n",
        "\n",
        "- La Curva ROC representa la relación entre la tasa de verdaderos positivos (TPR) y la tasa de falsos positivos (FPR) en función de diferentes umbrales de clasificación. A medida que variamos el umbral, observamos cómo el modelo equilibra la capacidad de detectar verdaderos positivos (sensibilidad) con la capacidad de evitar falsos positivos (1 - especificidad).\n",
        "\n",
        "- Un AUC del 97% es una indicación de un excelente rendimiento del modelo. El AUC varía de 0 a 1, donde un valor de 1 indica un clasificador perfecto que puede distinguir perfectamente entre las clases positivas y negativas. En este caso, el valor del AUC del 97% sugiere que nuestro modelo tiene una alta capacidad para clasificar correctamente las muestras y minimizar los errores.\n",
        "\n",
        "- En resumen, una Curva ROC con un AUC del 97% indica que nuestro modelo de Bosque Aleatorio es altamente efectivo en la tarea de clasificación, con un equilibrio sólido entre sensibilidad y especificidad. Esto es un resultado muy prometedor y sugiere que el modelo tiene un alto poder discriminatorio.\n"
      ]
    },
    {
      "cell_type": "markdown",
      "id": "ee9df1dc",
      "metadata": {
        "id": "ee9df1dc"
      },
      "source": [
        "## Cálculo del Error Out-of-Bag (OOB)\n",
        "\n",
        "En esta etapa, estamos calculando el Error Out-of-Bag (OOB) como una métrica adicional de evaluación del rendimiento de nuestro modelo de Bosque Aleatorio. Aquí se detallan los pasos realizados:\n",
        "\n",
        "1. Calculamos el OOB Error utilizando la propiedad `oob_score_` del modelo. El OOB Error es una estimación del error de predicción del modelo en datos no vistos, utilizando las muestras que no se incluyeron en el conjunto de entrenamiento de cada árbol individual en el Bosque Aleatorio.\n",
        "\n",
        "2. Imprimimos el OOB Error con un formato específico para mostrarlo con cuatro decimales.\n",
        "\n",
        "El OOB Error proporciona una evaluación adicional de la capacidad de generalización del modelo y puede ser útil para comprender su rendimiento en datos no vistos.\n"
      ]
    },
    {
      "cell_type": "code",
      "execution_count": null,
      "id": "11ad3db4",
      "metadata": {
        "id": "11ad3db4",
        "outputId": "1d6544f1-3d74-43ee-8807-8282f1a9589e"
      },
      "outputs": [
        {
          "name": "stdout",
          "output_type": "stream",
          "text": [
            "OOB Error: 0.0620\n"
          ]
        }
      ],
      "source": [
        "oob_error = 1 - modelo.oob_score_\n",
        "print(f\"OOB Error: {oob_error:.4f}\")"
      ]
    },
    {
      "cell_type": "markdown",
      "id": "fd525fd9",
      "metadata": {
        "id": "fd525fd9"
      },
      "source": [
        "## Explicación e Interpretación del Error OOB (Out-of-Bag)\n",
        "\n",
        "El Error OOB (Out-of-Bag) del 0.0618 se refiere a la tasa de error estimada por el modelo de Bosque Aleatorio en datos que no se utilizaron durante el proceso de entrenamiento. Esta métrica proporciona una evaluación importante de la capacidad de generalización del modelo y puede interpretarse de la siguiente manera:\n",
        "\n",
        "- Un Error OOB de 0.0618 se traduce en un 6.18% de error en la clasificación de las muestras que no se utilizaron para entrenar el modelo.\n",
        "\n",
        "- En otras palabras, el modelo comete aproximadamente un 6.18% de errores en la clasificación de observaciones que no ha visto previamente, lo que indica que es capaz de predecir con precisión alrededor del 93.82% de las muestras no vistas.\n",
        "\n",
        "- Un Error OOB bajo, como en este caso, sugiere que el modelo tiene una buena capacidad de generalización y puede realizar predicciones precisas en datos que no formaron parte del conjunto de entrenamiento.\n",
        "\n",
        "En resumen, un Error OOB del 0.0618 es una métrica alentadora que indica un buen rendimiento del modelo de Bosque Aleatorio en la clasificación de nuevas observaciones no vistas, lo que respalda su utilidad en la tarea de clasificación.\n"
      ]
    },
    {
      "cell_type": "markdown",
      "id": "37f4f331",
      "metadata": {
        "id": "37f4f331"
      },
      "source": [
        "# Evaluación del Impacto Económico en la Detección de Incumplimientos Bancarios\n",
        "\n",
        "el siguiente código de Python se enfoca en evaluar el impacto económico de un modelo de detección de incumplimientos bancarios y simular diferentes escenarios basados en tasas de falsos positivos (FPR). La detección de incumplimientos bancarios es fundamental en la gestión de riesgos crediticios, y entender su impacto económico es crucial para la toma de decisiones.\n",
        "\n",
        "**Definición de Costos y Beneficios:**\n",
        "En este código, se definen costos y beneficios hipotéticos en dólares asociados a los resultados de la matriz de confusión. Específicamente, se consideran los siguientes costos:\n",
        "- `costo_falso_positivo`: El costo por cada falso positivo, que representa la pérdida resultante de otorgar préstamos a clientes que luego incumplen.\n",
        "- `costo_falso_negativo`: El costo por cada falso negativo, que representa la pérdida resultante de no otorgar préstamos a clientes solventes.\n",
        "- `beneficio_verdadero_positivo`: El beneficio por cada verdadero positivo, es decir, cuando el modelo clasifica correctamente un préstamo como incumplimiento.\n",
        "\n",
        "\n",
        "**Cálculo del Impacto Económico:** Se calcula el impacto económico de aplicar el modelo teniendo en cuenta los costos de los falsos positivos y falsos negativos, así como los beneficios de los verdaderos positivos. El impacto económico refleja una ganancia neta o pérdida económica.\n",
        "\n",
        "1. **Costo por Falso Positivo (Costo de Error Tipo I):** Este es el costo asociado cuando el modelo predice incorrectamente que un préstamo está en incumplimiento cuando en realidad no lo está. Es el costo de tomar una decisión negativa (rechazar el préstamo) cuando no debería haberse tomado.\n",
        "\n",
        "2. **Costo por Falso Negativo (Costo de Error Tipo II):** Este es el costo asociado cuando el modelo predice incorrectamente que un préstamo está en cumplimiento cuando en realidad no lo está. Es el costo de tomar una decisión positiva (aprobar el préstamo) cuando no debería haberse tomado.\n",
        "\n",
        "La ecuación considera estos costos y beneficios de la siguiente manera:\n",
        "\n",
        "- **Verdaderos Positivos:** El beneficio por cada verdadero positivo, es decir, cuando el modelo clasifica correctamente un préstamo como incumplimiento\n",
        "\n",
        "- **Verdaderos Negativos:** No hay costos ni beneficios, ya que el modelo predice correctamente que los préstamos están en cumplimiento.\n",
        "\n",
        "- **Falsos Positivos:** Aquí incurremos en el costo de rechazar incorrectamente préstamos que deberían haberse aprobado (Costo de Error Tipo I).\n",
        "\n",
        "- **Falsos Negativos:** En este caso, incurremos en el costo de aprobar préstamos que deberían haberse rechazado (Costo de Error Tipo II).\n",
        "\n",
        "**Interpretación del Impacto Económico:** El impacto económico es una medida que refleja la ganancia neta o pérdida económica resultante de la aplicación del modelo. Se compone de tres términos:\n",
        "- El beneficio acumulado por cada verdadero positivo.\n",
        "- Los costos acumulados por los falsos positivos (clasificaciones incorrectas de incumplimiento).\n",
        "- Los costos acumulados por los falsos negativos (clasificaciones incorrectas de cumplimiento).\n",
        "\n",
        "\n",
        "\n",
        "**Simulación de Escenarios:**\n",
        "Para comprender cómo diferentes tasas de falsos positivos (FPR) afectan el impacto económico, el código realiza una simulación de escenarios. Se varía la tasa FPR y se calcula el número de falsos positivos simulados en función de la tasa FPR y el tamaño de la muestra. Luego, se calcula el impacto económico simulado para cada escenario.\n",
        "\n",
        "\n",
        "\n",
        "\n"
      ]
    },
    {
      "cell_type": "code",
      "execution_count": null,
      "id": "54a6617a",
      "metadata": {
        "id": "54a6617a"
      },
      "outputs": [],
      "source": [
        "# Matriz de confusión\n",
        "verdaderos_positivos = matriz[1][1]\n",
        "verdaderos_negativos = matriz[0][0]\n",
        "falsos_positivos = matriz[1][0]\n",
        "falsos_negativos = matriz[0][1]"
      ]
    },
    {
      "cell_type": "code",
      "execution_count": null,
      "id": "76ce63ec",
      "metadata": {
        "id": "76ce63ec",
        "outputId": "bed35939-9d62-4412-d424-c010fd274585"
      },
      "outputs": [
        {
          "name": "stdout",
          "output_type": "stream",
          "text": [
            "Tasa FPR: 1.00% - Impacto Económico: $8558500.00\n",
            "Tasa FPR: 2.00% - Impacto Económico: $8383500.00\n",
            "Tasa FPR: 3.00% - Impacto Económico: $8208500.00\n",
            "Tasa FPR: 4.00% - Impacto Económico: $8033500.00\n",
            "Tasa FPR: 5.00% - Impacto Económico: $7858500.00\n"
          ]
        }
      ],
      "source": [
        "\n",
        "\n",
        "# Define los costos (en dólares) asociados a los resultados de la matriz de confusión\n",
        "costo_falso_positivo = 500  # Costo por cada falso positivo\n",
        "costo_falso_negativo = 1000  # Costo por cada falso negativo\n",
        "\n",
        "# Define los beneficios (en dólares) asociados a los resultados de la matriz de confusión\n",
        "beneficio_verdadero_positivo = 2000  # Beneficio por cada verdadero positivo\n",
        "\n",
        "\n",
        "# Calcula el impacto económico de aplicar el modelo\n",
        "impacto_economico = (verdaderos_positivos * beneficio_verdadero_positivo\n",
        "                    - falsos_positivos * costo_falso_positivo\n",
        "                    - falsos_negativos * costo_falso_negativo)\n",
        "\n",
        "# Simulación de escenarios\n",
        "# Calcula el impacto económico en diferentes tasas de falsos positivos (FPR)\n",
        "tasas_falsos_positivos = [0.01, 0.02, 0.03, 0.04, 0.05]  # Ejemplo de tasas de FPR\n",
        "\n",
        "for tasa_fpr in tasas_falsos_positivos:\n",
        "    # Calcula el número de falsos positivos en función de la tasa FPR y el tamaño de la muestra\n",
        "    tamaño_muestra = verdaderos_negativos + verdaderos_positivos\n",
        "    falsos_positivos_simulados = int(tamaño_muestra * tasa_fpr)\n",
        "\n",
        "    # Calcula el impacto económico simulado con la tasa de FPR actual\n",
        "    impacto_economico_simulado = (verdaderos_positivos * beneficio_verdadero_positivo\n",
        "                                  - falsos_positivos_simulados * costo_falso_positivo\n",
        "                                  - falsos_negativos * costo_falso_negativo)\n",
        "\n",
        "    print(f'Tasa FPR: {tasa_fpr:.2%} - Impacto Económico: ${impacto_economico_simulado:.2f}')\n",
        "\n"
      ]
    },
    {
      "cell_type": "markdown",
      "id": "32fd827c",
      "metadata": {
        "id": "32fd827c"
      },
      "source": [
        "# Interpretación de los Resultados de la Simulación de Escenarios\n",
        "\n",
        "Los resultados de la simulación de escenarios muestran cómo diferentes tasas de falsos positivos (FPR) afectan el impacto económico en el contexto de la detección de incumplimientos bancarios. A continuación, se presenta una interpretación de los resultados:\n",
        "\n",
        "- **Tasa FPR: 1.00% - Impacto Económico: \\$8,558,500.00**\n",
        "  En este escenario, con una tasa de falsos positivos del 1.00%, el impacto económico del modelo es de \\$ $8,558,500.00. En otras palabras, el modelo aporta una ganancia neta de \\$8,558,500.00 considerando los costos asociados a los falsos positivos y los beneficios derivados de los verdaderos positivos\n",
        "\n",
        "- **Tasa FPR: 2.00% - Impacto Económico: \\$8,383,500.00**\n",
        "  A medida que la tasa de falsos positivos aumenta al 2.00%, el impacto económico se reduce a \\$8,383,500.00. Esto refleja un mayor costo debido a la detección incorrecta de incumplimientos.\n",
        "\n",
        "- **Tasa FPR: 3.00% - Impacto Económico: \\$8,208,500.00**\n",
        "  Con una tasa de falsos positivos del 3.00%, el impacto económico alcanza los \\$8,208,500.00, indicando un aumento adicional en los costos debido a la tasa de falsos positivos.\n",
        "\n",
        "- **Tasa FPR: 4.00% - Impacto Económico: \\$8,033,500.00**\n",
        "  A una tasa de falsos positivos del 4.00%, el impacto económico es de \\$8,033,500.00. El aumento en la tasa FPR conlleva un aumento en los costos asociados a los falsos positivos.\n",
        "\n",
        "- **Tasa FPR: 5.00% - Impacto Económico: \\$7,858,500.00**\n",
        "  En el último escenario, con una tasa de falsos positivos del 5.00%, el impacto económico llega a \\$7,858,500.00. Esto indica que un mayor número de falsos positivos tiene un impacto económico significativamente más alto.\n",
        "\n",
        "\n",
        "Los resultados subrayan la importancia de controlar y minimizar la tasa de falsos positivos en la detección de incumplimientos bancarios. A medida que la tasa FPR aumenta, los costos asociados a los errores del modelo también aumentan. Esto tiene implicaciones directas en la rentabilidad y gestión de riesgos de la cartera de préstamos bancarios. Por lo tanto, es crucial encontrar un equilibrio entre la detección precisa de incumplimientos y la minimización de los falsos positivos para optimizar el impacto económico.\n"
      ]
    },
    {
      "cell_type": "markdown",
      "id": "a4ec6626",
      "metadata": {
        "id": "a4ec6626"
      },
      "source": [
        "# Conclusiónes\n",
        "\n",
        "En este notebook, nos enfrentamos a un desafío crítico en la detección de incumplimientos bancarios, centrándonos en la implementación y evaluación del modelo de Bosque Aleatorio. Aquí resumimos los aspectos más destacados de nuestro proyecto, que culminó en la selección del modelo de Bosque Aleatorio:\n",
        "\n",
        "1. **Preparación y Exploración de Datos en el Contexto Bancario:**\n",
        "   - Comenzamos importando las bibliotecas necesarias y configurando nuestro entorno de trabajo, centrándonos en la detección de incumplimientos bancarios.\n",
        "\n",
        "   - Realizamos el preprocesamiento de datos, incluyendo la codificación one-hot de características categóricas, esenciales para el modelo de Bosque Aleatorio.\n",
        "\n",
        "2. **Entrenamiento y Evaluación del Modelo de Bosque Aleatorio:**\n",
        "   - Dividimos nuestros datos en conjuntos de entrenamiento y prueba y procedimos a implementar el modelo de Bosque Aleatorio. Evaluamos su rendimiento utilizando métricas de clasificación, como precisión, recall y F1-score, relevantes para la detección de incumplimientos bancarios.\n",
        "\n",
        "3. **Evaluación del Impacto Económico en la Detección de Incumplimientos Bancarios:**\n",
        "   - Llevamos nuestro análisis un paso más allá al considerar el impacto económico de implementar el modelo de Bosque Aleatorio. Evaluamos cómo diferentes tasas de falsos positivos (FPR) pueden afectar los costos y beneficios asociados a la detección de incumplimientos bancarios, crucial en la gestión crediticia.\n",
        "\n",
        "4. **Cierre del Proyecto:**\n",
        "   - Con la selección y evaluación del modelo de Bosque Aleatorio, nuestro proyecto llega a su cierre. Hemos logrado un modelo efectivo para la detección de incumplimientos bancarios y hemos considerado su impacto económico en la gestión de riesgos crediticios.\n",
        "\n",
        "5. **Enfoque Integral en la Gestión de Riesgos Crediticios:**\n",
        "   - Este análisis destaca la importancia de un enfoque integral en la gestión de riesgos crediticios, desde la preparación de datos hasta la selección del modelo adecuado y la consideración de su impacto económico. Este enfoque proporciona una base sólida para la toma de decisiones informadas y la rentabilidad en el contexto de la detección de incumplimientos bancarios.\n",
        "\n",
        "La consideración del impacto económico no solo mejora la precisión del modelo, sino que también respalda la rentabilidad y la toma de decisiones estratégicas en la gestión de riesgos crediticios en el ámbito de la detección de incumplimientos bancarios. Con esta selección de modelo y evaluación de impacto, concluimos nuestro proyecto con una sólida solución basada en el modelo de Bosque Aleatorio.\n"
      ]
    },
    {
      "cell_type": "code",
      "execution_count": null,
      "id": "8dd13c31",
      "metadata": {
        "id": "8dd13c31"
      },
      "outputs": [],
      "source": []
    }
  ],
  "metadata": {
    "kernelspec": {
      "display_name": "Python 3 (ipykernel)",
      "language": "python",
      "name": "python3"
    },
    "language_info": {
      "codemirror_mode": {
        "name": "ipython",
        "version": 3
      },
      "file_extension": ".py",
      "mimetype": "text/x-python",
      "name": "python",
      "nbconvert_exporter": "python",
      "pygments_lexer": "ipython3",
      "version": "3.11.5"
    },
    "colab": {
      "provenance": [],
      "include_colab_link": true
    }
  },
  "nbformat": 4,
  "nbformat_minor": 5
}
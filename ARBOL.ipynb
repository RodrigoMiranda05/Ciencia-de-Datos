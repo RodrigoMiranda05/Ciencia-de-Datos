{
  "cells": [
    {
      "cell_type": "markdown",
      "metadata": {
        "id": "view-in-github",
        "colab_type": "text"
      },
      "source": [
        "<a href=\"https://colab.research.google.com/github/RodrigoMiranda05/Ciencia-de-Datos/blob/main/ARBOL.ipynb\" target=\"_parent\"><img src=\"https://colab.research.google.com/assets/colab-badge.svg\" alt=\"Open In Colab\"/></a>"
      ]
    },
    {
      "cell_type": "markdown",
      "id": "d522aadd",
      "metadata": {
        "id": "d522aadd"
      },
      "source": [
        "# Detección de Incumplimiento de Préstamos Bancarios con Árboles de Decisión\n",
        "\n",
        "En este notebook, abordaremos el desafío de detectar el incumplimiento de préstamos bancarios utilizando un enfoque basado en árboles de decisión. Anteriormente, se había probado un modelo de regresión logística para este propósito. Ahora, nos enfocamos en implementar un árbol de decisión y explicaremos por qué hemos elegido este enfoque sobre la regresión logística.\n",
        "\n",
        "## Elección de Árboles de Decisión\n",
        "\n",
        "### Ventajas de los Árboles de Decisión\n",
        "\n",
        "Los árboles de decisión ofrecen varias ventajas que los hacen atractivos para el problema de la detección de incumplimiento de préstamos:\n",
        "\n",
        "1. **Interpretación más sencilla:** Los árboles de decisión son modelos altamente interpretables, lo que significa que podemos entender fácilmente cómo se toman las decisiones y explicarlas a las partes interesadas. Esto es importante en un contexto bancario, donde la transparencia es esencial.\n",
        "\n",
        "2. **Manejo de relaciones no lineales:** A diferencia de la regresión logística, los árboles de decisión pueden capturar relaciones no lineales entre las variables predictoras y la variable objetivo. Los incumplimientos de préstamos pueden estar influenciados por múltiples factores, algunos de los cuales pueden no ser lineales.\n",
        "\n",
        "3. **Identificación de segmentos de alto riesgo:** Los árboles de decisión pueden identificar segmentos específicos de la población que presentan un alto riesgo de incumplimiento. Esto permite a los bancos tomar decisiones más específicas y estratégicas.\n",
        "\n",
        "4. **Robustez ante datos desequilibrados:** Si el conjunto de datos tiene clases desequilibradas (es decir, una proporción desigual de préstamos cumplidos e incumplidos), los árboles de decisión pueden manejarlos de manera efectiva.\n",
        "\n",
        "5. **Escalabilidad:** Los árboles de decisión funcionan bien en conjuntos de datos de gran tamaño, lo que es crucial para aplicaciones bancarias donde se manejan grandes volúmenes de préstamos.\n",
        "\n",
        "\n",
        "A continuación, procederemos a la implementación de un árbol de decisión y explicaremos cada paso en detalle.\n"
      ]
    },
    {
      "cell_type": "markdown",
      "id": "ffa427b9",
      "metadata": {
        "id": "ffa427b9"
      },
      "source": [
        "## Importación de Bibliotecas\n",
        "\n",
        "Para comenzar, hemos importado las siguientes bibliotecas que serán esenciales para nuestro análisis:\n",
        "\n",
        "- `numpy` y `pandas`: Estas bibliotecas se utilizan para el análisis numérico y el manejo de datos, respectivamente. Son fundamentales para la preparación y manipulación de nuestros datos.\n",
        "\n",
        "- `matplotlib.pyplot` y `seaborn`: Estas bibliotecas se utilizan para crear gráficos y visualizaciones que nos ayudarán a comprender mejor nuestros datos y los resultados del modelo.\n",
        "\n",
        "- `warnings`: Importamos esta biblioteca para suprimir las advertencias y evitar que llenen nuestra salida durante el proceso.\n",
        "\n",
        "- `%matplotlib inline`: Esta línea de código se utiliza para que los gráficos se muestren directamente en el notebook.\n",
        "\n",
        "- Varios módulos de `sklearn` como `train_test_split`, `DecisionTreeClassifier`, `classification_report`, `roc_auc_score`, `average_precision_score`, `make_scorer` y `confusion_matrix`. Estos módulos son necesarios para construir, evaluar y visualizar el modelo de árbol de decisión.\n",
        "\n",
        "- `six`, `tree`, `export_graphviz`, y `plot_tree` son utilizados para visualizar y exportar el árbol de decisión.\n",
        "\n",
        "- `load_iris`: Aunque no se usa en este código, se utiliza a menudo como un conjunto de datos de ejemplo en scikit-learn.\n",
        "\n"
      ]
    },
    {
      "cell_type": "code",
      "execution_count": null,
      "id": "ce0392fa",
      "metadata": {
        "id": "ce0392fa"
      },
      "outputs": [],
      "source": [
        "import numpy as np                          # analisis numérico\n",
        "import pandas as pd                         # manejo de datos\n",
        "import matplotlib.pyplot as plt             # Gráficos\n",
        "import seaborn as sns                       # Gráficos\n",
        "\n",
        "import warnings\n",
        "warnings.filterwarnings('ignore')\n",
        "\n",
        "%matplotlib inline\n"
      ]
    },
    {
      "cell_type": "code",
      "execution_count": null,
      "id": "f5f2fe9f",
      "metadata": {
        "id": "f5f2fe9f"
      },
      "outputs": [],
      "source": [
        "from sklearn.model_selection import train_test_split\n",
        "from sklearn.tree import DecisionTreeClassifier\n",
        "from sklearn.metrics import classification_report, roc_auc_score, average_precision_score, make_scorer\n",
        "\n",
        "\n",
        "from sklearn import tree\n",
        "from sklearn.tree import DecisionTreeClassifier\n",
        "from six import StringIO\n",
        "from sklearn.tree import export_graphviz\n",
        "\n",
        "\n",
        "from sklearn.datasets import load_iris\n",
        "from sklearn.tree import plot_tree\n",
        "\n",
        "from sklearn.model_selection import train_test_split\n",
        "\n",
        "from sklearn import metrics\n",
        "from sklearn.metrics import accuracy_score\n",
        "from sklearn.metrics import confusion_matrix"
      ]
    },
    {
      "cell_type": "markdown",
      "id": "513132ac",
      "metadata": {
        "id": "513132ac"
      },
      "source": [
        "## Carga de Datos\n",
        "\n",
        "En este fragmento de código, estamos cargando un conjunto de datos desde un archivo CSV llamado \"datos_imputados.csv\" producto de la limpieza realizada anteriormente utilizando la biblioteca `pandas`. El archivo CSV contiene datos que se utilizarán en nuestro análisis de incumplimiento de préstamos bancarios.\n",
        "\n"
      ]
    },
    {
      "cell_type": "code",
      "execution_count": null,
      "id": "d5793246",
      "metadata": {
        "scrolled": true,
        "id": "d5793246",
        "outputId": "2d79c68c-4993-4fc3-c566-bd5333ded8f9"
      },
      "outputs": [
        {
          "data": {
            "text/html": [
              "<div>\n",
              "<style scoped>\n",
              "    .dataframe tbody tr th:only-of-type {\n",
              "        vertical-align: middle;\n",
              "    }\n",
              "\n",
              "    .dataframe tbody tr th {\n",
              "        vertical-align: top;\n",
              "    }\n",
              "\n",
              "    .dataframe thead th {\n",
              "        text-align: right;\n",
              "    }\n",
              "</style>\n",
              "<table border=\"1\" class=\"dataframe\">\n",
              "  <thead>\n",
              "    <tr style=\"text-align: right;\">\n",
              "      <th></th>\n",
              "      <th>loan_limit</th>\n",
              "      <th>approv_in_adv</th>\n",
              "      <th>loan_purpose</th>\n",
              "      <th>business_or_commercial</th>\n",
              "      <th>loan_amount</th>\n",
              "      <th>Upfront_charges</th>\n",
              "      <th>Neg_ammortization</th>\n",
              "      <th>property_value</th>\n",
              "      <th>income</th>\n",
              "      <th>Credit_Score</th>\n",
              "      <th>co-applicant_credit_type</th>\n",
              "      <th>submission_of_application</th>\n",
              "      <th>LTV</th>\n",
              "      <th>Status</th>\n",
              "      <th>dtir1</th>\n",
              "    </tr>\n",
              "  </thead>\n",
              "  <tbody>\n",
              "    <tr>\n",
              "      <th>0</th>\n",
              "      <td>cf</td>\n",
              "      <td>nopre</td>\n",
              "      <td>p1</td>\n",
              "      <td>nob/c</td>\n",
              "      <td>116500</td>\n",
              "      <td>0.0</td>\n",
              "      <td>not_neg</td>\n",
              "      <td>118000.0</td>\n",
              "      <td>1740.0</td>\n",
              "      <td>758</td>\n",
              "      <td>CIB</td>\n",
              "      <td>to_inst</td>\n",
              "      <td>98.728814</td>\n",
              "      <td>1</td>\n",
              "      <td>45.0</td>\n",
              "    </tr>\n",
              "    <tr>\n",
              "      <th>1</th>\n",
              "      <td>cf</td>\n",
              "      <td>pre</td>\n",
              "      <td>p1</td>\n",
              "      <td>nob/c</td>\n",
              "      <td>406500</td>\n",
              "      <td>595.0</td>\n",
              "      <td>neg_amm</td>\n",
              "      <td>508000.0</td>\n",
              "      <td>9480.0</td>\n",
              "      <td>834</td>\n",
              "      <td>CIB</td>\n",
              "      <td>to_inst</td>\n",
              "      <td>80.019685</td>\n",
              "      <td>0</td>\n",
              "      <td>46.0</td>\n",
              "    </tr>\n",
              "    <tr>\n",
              "      <th>2</th>\n",
              "      <td>cf</td>\n",
              "      <td>nopre</td>\n",
              "      <td>p4</td>\n",
              "      <td>nob/c</td>\n",
              "      <td>456500</td>\n",
              "      <td>0.0</td>\n",
              "      <td>not_neg</td>\n",
              "      <td>658000.0</td>\n",
              "      <td>11880.0</td>\n",
              "      <td>587</td>\n",
              "      <td>CIB</td>\n",
              "      <td>not_inst</td>\n",
              "      <td>69.376900</td>\n",
              "      <td>0</td>\n",
              "      <td>42.0</td>\n",
              "    </tr>\n",
              "    <tr>\n",
              "      <th>3</th>\n",
              "      <td>cf</td>\n",
              "      <td>pre</td>\n",
              "      <td>p1</td>\n",
              "      <td>nob/c</td>\n",
              "      <td>696500</td>\n",
              "      <td>0.0</td>\n",
              "      <td>not_neg</td>\n",
              "      <td>758000.0</td>\n",
              "      <td>10440.0</td>\n",
              "      <td>602</td>\n",
              "      <td>EXP</td>\n",
              "      <td>not_inst</td>\n",
              "      <td>91.886544</td>\n",
              "      <td>0</td>\n",
              "      <td>39.0</td>\n",
              "    </tr>\n",
              "    <tr>\n",
              "      <th>4</th>\n",
              "      <td>cf</td>\n",
              "      <td>pre</td>\n",
              "      <td>p1</td>\n",
              "      <td>nob/c</td>\n",
              "      <td>706500</td>\n",
              "      <td>370.0</td>\n",
              "      <td>not_neg</td>\n",
              "      <td>1008000.0</td>\n",
              "      <td>10080.0</td>\n",
              "      <td>864</td>\n",
              "      <td>EXP</td>\n",
              "      <td>not_inst</td>\n",
              "      <td>70.089286</td>\n",
              "      <td>0</td>\n",
              "      <td>40.0</td>\n",
              "    </tr>\n",
              "  </tbody>\n",
              "</table>\n",
              "</div>"
            ],
            "text/plain": [
              "  loan_limit approv_in_adv loan_purpose business_or_commercial  loan_amount  \\\n",
              "0         cf         nopre           p1                  nob/c       116500   \n",
              "1         cf           pre           p1                  nob/c       406500   \n",
              "2         cf         nopre           p4                  nob/c       456500   \n",
              "3         cf           pre           p1                  nob/c       696500   \n",
              "4         cf           pre           p1                  nob/c       706500   \n",
              "\n",
              "   Upfront_charges Neg_ammortization  property_value   income  Credit_Score  \\\n",
              "0              0.0           not_neg        118000.0   1740.0           758   \n",
              "1            595.0           neg_amm        508000.0   9480.0           834   \n",
              "2              0.0           not_neg        658000.0  11880.0           587   \n",
              "3              0.0           not_neg        758000.0  10440.0           602   \n",
              "4            370.0           not_neg       1008000.0  10080.0           864   \n",
              "\n",
              "  co-applicant_credit_type submission_of_application        LTV  Status  dtir1  \n",
              "0                      CIB                   to_inst  98.728814       1   45.0  \n",
              "1                      CIB                   to_inst  80.019685       0   46.0  \n",
              "2                      CIB                  not_inst  69.376900       0   42.0  \n",
              "3                      EXP                  not_inst  91.886544       0   39.0  \n",
              "4                      EXP                  not_inst  70.089286       0   40.0  "
            ]
          },
          "execution_count": 3,
          "metadata": {},
          "output_type": "execute_result"
        }
      ],
      "source": [
        "df = pd.read_csv(\"datos_imputados.csv\")\n",
        "df.head()"
      ]
    },
    {
      "cell_type": "markdown",
      "id": "63517fa1",
      "metadata": {
        "id": "63517fa1"
      },
      "source": [
        "## Eliminación de Variables Correlacionadas\n",
        "\n",
        "En esta etapa, hemos realizado la eliminación de variables que presentan una alta correlación en nuestro DataFrame. Las variables eliminadas son 'property_value' y 'income'. La eliminación de estas variables se ha llevado a cabo utilizando el método `.drop()` con el argumento `axis=1`, lo que indica que estamos eliminando columnas.\n",
        "\n",
        "La eliminación de variables correlacionadas puede ser beneficiosa para reducir la multicolinealidad y mejorar la interpretación del modelo, ya que las variables redundantes pueden afectar negativamente el rendimiento del modelo y dificultar la identificación de características importantes.\n"
      ]
    },
    {
      "cell_type": "code",
      "execution_count": null,
      "id": "9069dbdf",
      "metadata": {
        "id": "9069dbdf"
      },
      "outputs": [],
      "source": [
        "# descarto las variables correlacionadas\n",
        "df = df.drop(['property_value', 'income' ], axis = 1 )"
      ]
    },
    {
      "cell_type": "markdown",
      "id": "4417e56d",
      "metadata": {
        "id": "4417e56d"
      },
      "source": [
        "## Preprocesamiento de Datos: Codificación One-Hot para Columnas Categóricas (Después de Eliminación)\n",
        "\n",
        "Continuando con nuestro proceso de preprocesamiento de datos, hemos realizado las siguientes acciones:\n",
        "\n",
        "1. Hemos obtenido una lista de las columnas categóricas que aún están presentes en nuestro DataFrame después de la eliminación de variables correlacionadas. Para ello, utilizamos `df.select_dtypes(include=['object']).columns.tolist()`.\n",
        "\n",
        "2. A continuación, aplicamos la codificación one-hot (one-hot encoding) solo a las columnas categóricas que permanecen en el DataFrame, utilizando la función `pd.get_dummies`. Este proceso convierte las variables categóricas en representaciones numéricas binarias, lo que facilita su manejo en nuestro análisis.\n",
        "\n",
        "Este paso de preprocesamiento nos permite trabajar con un conjunto de datos limpio y preparado para la implementación de modelos de aprendizaje automático, después de la eliminación de variables correlacionadas.\n"
      ]
    },
    {
      "cell_type": "code",
      "execution_count": null,
      "id": "c7266909",
      "metadata": {
        "id": "c7266909"
      },
      "outputs": [],
      "source": [
        "# Obtén una lista de las columnas categóricas\n",
        "columnas_categoricas = df.select_dtypes(include=['object']).columns.tolist()"
      ]
    },
    {
      "cell_type": "code",
      "execution_count": null,
      "id": "2c06dcba",
      "metadata": {
        "id": "2c06dcba"
      },
      "outputs": [],
      "source": [
        "# Aplica one-hot encoding solo a las columnas categóricas\n",
        "df = pd.get_dummies(df, columns=columnas_categoricas)"
      ]
    },
    {
      "cell_type": "code",
      "execution_count": null,
      "id": "4f9f89a8",
      "metadata": {
        "scrolled": true,
        "id": "4f9f89a8",
        "outputId": "c951708f-3f00-4043-f19d-131e7013a319"
      },
      "outputs": [
        {
          "data": {
            "text/html": [
              "<div>\n",
              "<style scoped>\n",
              "    .dataframe tbody tr th:only-of-type {\n",
              "        vertical-align: middle;\n",
              "    }\n",
              "\n",
              "    .dataframe tbody tr th {\n",
              "        vertical-align: top;\n",
              "    }\n",
              "\n",
              "    .dataframe thead th {\n",
              "        text-align: right;\n",
              "    }\n",
              "</style>\n",
              "<table border=\"1\" class=\"dataframe\">\n",
              "  <thead>\n",
              "    <tr style=\"text-align: right;\">\n",
              "      <th></th>\n",
              "      <th>loan_amount</th>\n",
              "      <th>Upfront_charges</th>\n",
              "      <th>Credit_Score</th>\n",
              "      <th>LTV</th>\n",
              "      <th>Status</th>\n",
              "      <th>dtir1</th>\n",
              "      <th>loan_limit_cf</th>\n",
              "      <th>loan_limit_ncf</th>\n",
              "      <th>approv_in_adv_nopre</th>\n",
              "      <th>approv_in_adv_pre</th>\n",
              "      <th>...</th>\n",
              "      <th>loan_purpose_p3</th>\n",
              "      <th>loan_purpose_p4</th>\n",
              "      <th>business_or_commercial_b/c</th>\n",
              "      <th>business_or_commercial_nob/c</th>\n",
              "      <th>Neg_ammortization_neg_amm</th>\n",
              "      <th>Neg_ammortization_not_neg</th>\n",
              "      <th>co-applicant_credit_type_CIB</th>\n",
              "      <th>co-applicant_credit_type_EXP</th>\n",
              "      <th>submission_of_application_not_inst</th>\n",
              "      <th>submission_of_application_to_inst</th>\n",
              "    </tr>\n",
              "  </thead>\n",
              "  <tbody>\n",
              "    <tr>\n",
              "      <th>0</th>\n",
              "      <td>116500</td>\n",
              "      <td>0.0</td>\n",
              "      <td>758</td>\n",
              "      <td>98.728814</td>\n",
              "      <td>1</td>\n",
              "      <td>45.0</td>\n",
              "      <td>True</td>\n",
              "      <td>False</td>\n",
              "      <td>True</td>\n",
              "      <td>False</td>\n",
              "      <td>...</td>\n",
              "      <td>False</td>\n",
              "      <td>False</td>\n",
              "      <td>False</td>\n",
              "      <td>True</td>\n",
              "      <td>False</td>\n",
              "      <td>True</td>\n",
              "      <td>True</td>\n",
              "      <td>False</td>\n",
              "      <td>False</td>\n",
              "      <td>True</td>\n",
              "    </tr>\n",
              "    <tr>\n",
              "      <th>1</th>\n",
              "      <td>406500</td>\n",
              "      <td>595.0</td>\n",
              "      <td>834</td>\n",
              "      <td>80.019685</td>\n",
              "      <td>0</td>\n",
              "      <td>46.0</td>\n",
              "      <td>True</td>\n",
              "      <td>False</td>\n",
              "      <td>False</td>\n",
              "      <td>True</td>\n",
              "      <td>...</td>\n",
              "      <td>False</td>\n",
              "      <td>False</td>\n",
              "      <td>False</td>\n",
              "      <td>True</td>\n",
              "      <td>True</td>\n",
              "      <td>False</td>\n",
              "      <td>True</td>\n",
              "      <td>False</td>\n",
              "      <td>False</td>\n",
              "      <td>True</td>\n",
              "    </tr>\n",
              "    <tr>\n",
              "      <th>2</th>\n",
              "      <td>456500</td>\n",
              "      <td>0.0</td>\n",
              "      <td>587</td>\n",
              "      <td>69.376900</td>\n",
              "      <td>0</td>\n",
              "      <td>42.0</td>\n",
              "      <td>True</td>\n",
              "      <td>False</td>\n",
              "      <td>True</td>\n",
              "      <td>False</td>\n",
              "      <td>...</td>\n",
              "      <td>False</td>\n",
              "      <td>True</td>\n",
              "      <td>False</td>\n",
              "      <td>True</td>\n",
              "      <td>False</td>\n",
              "      <td>True</td>\n",
              "      <td>True</td>\n",
              "      <td>False</td>\n",
              "      <td>True</td>\n",
              "      <td>False</td>\n",
              "    </tr>\n",
              "    <tr>\n",
              "      <th>3</th>\n",
              "      <td>696500</td>\n",
              "      <td>0.0</td>\n",
              "      <td>602</td>\n",
              "      <td>91.886544</td>\n",
              "      <td>0</td>\n",
              "      <td>39.0</td>\n",
              "      <td>True</td>\n",
              "      <td>False</td>\n",
              "      <td>False</td>\n",
              "      <td>True</td>\n",
              "      <td>...</td>\n",
              "      <td>False</td>\n",
              "      <td>False</td>\n",
              "      <td>False</td>\n",
              "      <td>True</td>\n",
              "      <td>False</td>\n",
              "      <td>True</td>\n",
              "      <td>False</td>\n",
              "      <td>True</td>\n",
              "      <td>True</td>\n",
              "      <td>False</td>\n",
              "    </tr>\n",
              "    <tr>\n",
              "      <th>4</th>\n",
              "      <td>706500</td>\n",
              "      <td>370.0</td>\n",
              "      <td>864</td>\n",
              "      <td>70.089286</td>\n",
              "      <td>0</td>\n",
              "      <td>40.0</td>\n",
              "      <td>True</td>\n",
              "      <td>False</td>\n",
              "      <td>False</td>\n",
              "      <td>True</td>\n",
              "      <td>...</td>\n",
              "      <td>False</td>\n",
              "      <td>False</td>\n",
              "      <td>False</td>\n",
              "      <td>True</td>\n",
              "      <td>False</td>\n",
              "      <td>True</td>\n",
              "      <td>False</td>\n",
              "      <td>True</td>\n",
              "      <td>True</td>\n",
              "      <td>False</td>\n",
              "    </tr>\n",
              "  </tbody>\n",
              "</table>\n",
              "<p>5 rows × 21 columns</p>\n",
              "</div>"
            ],
            "text/plain": [
              "   loan_amount  Upfront_charges  Credit_Score        LTV  Status  dtir1  \\\n",
              "0       116500              0.0           758  98.728814       1   45.0   \n",
              "1       406500            595.0           834  80.019685       0   46.0   \n",
              "2       456500              0.0           587  69.376900       0   42.0   \n",
              "3       696500              0.0           602  91.886544       0   39.0   \n",
              "4       706500            370.0           864  70.089286       0   40.0   \n",
              "\n",
              "   loan_limit_cf  loan_limit_ncf  approv_in_adv_nopre  approv_in_adv_pre  ...  \\\n",
              "0           True           False                 True              False  ...   \n",
              "1           True           False                False               True  ...   \n",
              "2           True           False                 True              False  ...   \n",
              "3           True           False                False               True  ...   \n",
              "4           True           False                False               True  ...   \n",
              "\n",
              "   loan_purpose_p3  loan_purpose_p4  business_or_commercial_b/c  \\\n",
              "0            False            False                       False   \n",
              "1            False            False                       False   \n",
              "2            False             True                       False   \n",
              "3            False            False                       False   \n",
              "4            False            False                       False   \n",
              "\n",
              "   business_or_commercial_nob/c  Neg_ammortization_neg_amm  \\\n",
              "0                          True                      False   \n",
              "1                          True                       True   \n",
              "2                          True                      False   \n",
              "3                          True                      False   \n",
              "4                          True                      False   \n",
              "\n",
              "   Neg_ammortization_not_neg  co-applicant_credit_type_CIB  \\\n",
              "0                       True                          True   \n",
              "1                      False                          True   \n",
              "2                       True                          True   \n",
              "3                       True                         False   \n",
              "4                       True                         False   \n",
              "\n",
              "   co-applicant_credit_type_EXP  submission_of_application_not_inst  \\\n",
              "0                         False                               False   \n",
              "1                         False                               False   \n",
              "2                         False                                True   \n",
              "3                          True                                True   \n",
              "4                          True                                True   \n",
              "\n",
              "   submission_of_application_to_inst  \n",
              "0                               True  \n",
              "1                               True  \n",
              "2                              False  \n",
              "3                              False  \n",
              "4                              False  \n",
              "\n",
              "[5 rows x 21 columns]"
            ]
          },
          "execution_count": 7,
          "metadata": {},
          "output_type": "execute_result"
        }
      ],
      "source": [
        "df.head()"
      ]
    },
    {
      "cell_type": "markdown",
      "id": "199d24b1",
      "metadata": {
        "id": "199d24b1"
      },
      "source": [
        "## Creación, Entrenamiento y Evaluación de un Modelo de Árbol de Decisión\n",
        "\n",
        "En esta sección, hemos creado, entrenado y evaluado un modelo de Árbol de Decisión. A continuación, se describen las acciones realizadas:\n",
        "\n",
        "1. Creamos la matriz de características `X` eliminando la columna 'Status' del DataFrame `df` y el vector de etiquetas `y`, que contiene la columna 'Status'.\n",
        "\n",
        "2. Dividimos los datos en conjuntos de entrenamiento y prueba, utilizando la función `train_test_split`. Esto nos permite entrenar el modelo en un conjunto de datos y evaluar su rendimiento en otro conjunto independiente.\n",
        "\n",
        "3. Creamos un modelo de Árbol de Decisión utilizando `DecisionTreeClassifier` de `sklearn.tree`.\n",
        "\n",
        "4. Entrenamos el modelo en los datos de entrenamiento (`X_train` y `y_train`) mediante el método `.fit()`. El modelo aprenderá a realizar predicciones basadas en los datos de entrenamiento.\n",
        "\n",
        "5. Luego, realizamos predicciones en el conjunto de prueba (`X_test`) utilizando el modelo entrenado y almacenamos las predicciones en `y_pred`.\n",
        "\n"
      ]
    },
    {
      "cell_type": "code",
      "execution_count": null,
      "id": "1de53001",
      "metadata": {
        "id": "1de53001"
      },
      "outputs": [],
      "source": [
        "X = df.drop('Status', axis=1)\n",
        "y = df['Status']"
      ]
    },
    {
      "cell_type": "code",
      "execution_count": null,
      "id": "c63eb641",
      "metadata": {
        "id": "c63eb641"
      },
      "outputs": [],
      "source": [
        "X_train, X_test, y_train, y_test = train_test_split(X, y, test_size=0.2, random_state=42, stratify= y)"
      ]
    },
    {
      "cell_type": "code",
      "execution_count": null,
      "id": "a8d9d46c",
      "metadata": {
        "id": "a8d9d46c"
      },
      "outputs": [],
      "source": [
        "# weights = {0: 1, 1: 10}  # Peso 1 para la clase mayoritaria y peso 10 para la clase minoritaria"
      ]
    },
    {
      "cell_type": "code",
      "execution_count": null,
      "id": "00a13765",
      "metadata": {
        "id": "00a13765"
      },
      "outputs": [],
      "source": [
        "# modelo = DecisionTreeClassifier(class_weight = weights, max_depth= 3, criterion= 'gini', random_state = 42)\n",
        "modelo = DecisionTreeClassifier()"
      ]
    },
    {
      "cell_type": "code",
      "execution_count": null,
      "id": "010823b8",
      "metadata": {
        "id": "010823b8",
        "outputId": "8e68f016-bd6a-436c-9dd6-08ef60650814"
      },
      "outputs": [
        {
          "data": {
            "text/html": [
              "<style>#sk-container-id-1 {color: black;}#sk-container-id-1 pre{padding: 0;}#sk-container-id-1 div.sk-toggleable {background-color: white;}#sk-container-id-1 label.sk-toggleable__label {cursor: pointer;display: block;width: 100%;margin-bottom: 0;padding: 0.3em;box-sizing: border-box;text-align: center;}#sk-container-id-1 label.sk-toggleable__label-arrow:before {content: \"▸\";float: left;margin-right: 0.25em;color: #696969;}#sk-container-id-1 label.sk-toggleable__label-arrow:hover:before {color: black;}#sk-container-id-1 div.sk-estimator:hover label.sk-toggleable__label-arrow:before {color: black;}#sk-container-id-1 div.sk-toggleable__content {max-height: 0;max-width: 0;overflow: hidden;text-align: left;background-color: #f0f8ff;}#sk-container-id-1 div.sk-toggleable__content pre {margin: 0.2em;color: black;border-radius: 0.25em;background-color: #f0f8ff;}#sk-container-id-1 input.sk-toggleable__control:checked~div.sk-toggleable__content {max-height: 200px;max-width: 100%;overflow: auto;}#sk-container-id-1 input.sk-toggleable__control:checked~label.sk-toggleable__label-arrow:before {content: \"▾\";}#sk-container-id-1 div.sk-estimator input.sk-toggleable__control:checked~label.sk-toggleable__label {background-color: #d4ebff;}#sk-container-id-1 div.sk-label input.sk-toggleable__control:checked~label.sk-toggleable__label {background-color: #d4ebff;}#sk-container-id-1 input.sk-hidden--visually {border: 0;clip: rect(1px 1px 1px 1px);clip: rect(1px, 1px, 1px, 1px);height: 1px;margin: -1px;overflow: hidden;padding: 0;position: absolute;width: 1px;}#sk-container-id-1 div.sk-estimator {font-family: monospace;background-color: #f0f8ff;border: 1px dotted black;border-radius: 0.25em;box-sizing: border-box;margin-bottom: 0.5em;}#sk-container-id-1 div.sk-estimator:hover {background-color: #d4ebff;}#sk-container-id-1 div.sk-parallel-item::after {content: \"\";width: 100%;border-bottom: 1px solid gray;flex-grow: 1;}#sk-container-id-1 div.sk-label:hover label.sk-toggleable__label {background-color: #d4ebff;}#sk-container-id-1 div.sk-serial::before {content: \"\";position: absolute;border-left: 1px solid gray;box-sizing: border-box;top: 0;bottom: 0;left: 50%;z-index: 0;}#sk-container-id-1 div.sk-serial {display: flex;flex-direction: column;align-items: center;background-color: white;padding-right: 0.2em;padding-left: 0.2em;position: relative;}#sk-container-id-1 div.sk-item {position: relative;z-index: 1;}#sk-container-id-1 div.sk-parallel {display: flex;align-items: stretch;justify-content: center;background-color: white;position: relative;}#sk-container-id-1 div.sk-item::before, #sk-container-id-1 div.sk-parallel-item::before {content: \"\";position: absolute;border-left: 1px solid gray;box-sizing: border-box;top: 0;bottom: 0;left: 50%;z-index: -1;}#sk-container-id-1 div.sk-parallel-item {display: flex;flex-direction: column;z-index: 1;position: relative;background-color: white;}#sk-container-id-1 div.sk-parallel-item:first-child::after {align-self: flex-end;width: 50%;}#sk-container-id-1 div.sk-parallel-item:last-child::after {align-self: flex-start;width: 50%;}#sk-container-id-1 div.sk-parallel-item:only-child::after {width: 0;}#sk-container-id-1 div.sk-dashed-wrapped {border: 1px dashed gray;margin: 0 0.4em 0.5em 0.4em;box-sizing: border-box;padding-bottom: 0.4em;background-color: white;}#sk-container-id-1 div.sk-label label {font-family: monospace;font-weight: bold;display: inline-block;line-height: 1.2em;}#sk-container-id-1 div.sk-label-container {text-align: center;}#sk-container-id-1 div.sk-container {/* jupyter's `normalize.less` sets `[hidden] { display: none; }` but bootstrap.min.css set `[hidden] { display: none !important; }` so we also need the `!important` here to be able to override the default hidden behavior on the sphinx rendered scikit-learn.org. See: https://github.com/scikit-learn/scikit-learn/issues/21755 */display: inline-block !important;position: relative;}#sk-container-id-1 div.sk-text-repr-fallback {display: none;}</style><div id=\"sk-container-id-1\" class=\"sk-top-container\"><div class=\"sk-text-repr-fallback\"><pre>DecisionTreeClassifier()</pre><b>In a Jupyter environment, please rerun this cell to show the HTML representation or trust the notebook. <br />On GitHub, the HTML representation is unable to render, please try loading this page with nbviewer.org.</b></div><div class=\"sk-container\" hidden><div class=\"sk-item\"><div class=\"sk-estimator sk-toggleable\"><input class=\"sk-toggleable__control sk-hidden--visually\" id=\"sk-estimator-id-1\" type=\"checkbox\" checked><label for=\"sk-estimator-id-1\" class=\"sk-toggleable__label sk-toggleable__label-arrow\">DecisionTreeClassifier</label><div class=\"sk-toggleable__content\"><pre>DecisionTreeClassifier()</pre></div></div></div></div></div>"
            ],
            "text/plain": [
              "DecisionTreeClassifier()"
            ]
          },
          "execution_count": 11,
          "metadata": {},
          "output_type": "execute_result"
        }
      ],
      "source": [
        "modelo.fit(X_train, y_train)"
      ]
    },
    {
      "cell_type": "code",
      "execution_count": null,
      "id": "fe0e3523",
      "metadata": {
        "id": "fe0e3523"
      },
      "outputs": [],
      "source": [
        "y_pred = modelo.predict(X_test)"
      ]
    },
    {
      "cell_type": "markdown",
      "id": "8420fa66",
      "metadata": {
        "id": "8420fa66"
      },
      "source": [
        "## Importancia de las Características en el Modelo de Árbol de Decisión\n",
        "\n",
        "En esta etapa, estamos explorando la importancia de las características en nuestro modelo de Árbol de Decisión. A continuación, se detallan las acciones realizadas:\n",
        "\n",
        "1. Creamos un DataFrame llamado `importances` que contiene dos columnas: 'Predictor', que almacena los nombres de las características, y 'importancia', que muestra la importancia de cada característica calculada por el modelo de Árbol de Decisión. Hemos redondeado las importancias a tres decimales.\n",
        "\n",
        "2. Luego, ordenamos el DataFrame `importances` en orden descendente según la importancia de las características, lo que nos permite identificar las características más relevantes en la toma de decisiones del modelo de Árbol de Decisión.\n",
        "\n",
        "Este análisis de importancia de características nos proporciona información valiosa sobre qué características influyen más en las predicciones del modelo de Árbol de Decisión y puede ser útil para futuras estrategias de modelado o interpretación de resultados.\n",
        "\n",
        "\n",
        "## Resultados de la Importancia de las Características\n",
        "\n",
        "Tras analizar la importancia de las características en nuestro modelo de Árbol de Decisión, se han identificado las características más influyentes. A continuación, se presentan las principales características ordenadas por importancia:\n",
        "\n",
        "1. **Upfront_charges (0.423)**: La característica \"Upfront_charges\" es la más influyente en las predicciones del modelo de Árbol de Decisión, con una importancia de aproximadamente el 42.3%. Esto significa que los cargos iniciales tienen un impacto significativo en la toma de decisiones del modelo.\n",
        "\n",
        "2. **submission_of_application_to_inst (0.152)**: La característica \"submission_of_application_to_inst\" ocupa el segundo lugar en importancia, contribuyendo con alrededor del 15.2% en las predicciones. Esta característica también desempeña un papel relevante.\n",
        "\n",
        "3. **LTV (0.109)**: El Loan-to-Value ratio (LTV) es una característica importante, con una importancia del 10.9%. Esto sugiere que la relación entre el valor del préstamo y el valor de la propiedad es relevante en las decisiones del modelo.\n",
        "\n",
        "4. **Credit_Score (0.098)**: La puntuación de crédito (\"Credit_Score\") tiene una importancia del 9.8%, lo que la sitúa como una característica influyente en las predicciones.\n",
        "\n",
        "Luego de la optimizació de hiperparametros veremos si se modifican algunas de las variables de mayor importancia\n"
      ]
    },
    {
      "cell_type": "code",
      "execution_count": null,
      "id": "e1c230cd",
      "metadata": {
        "scrolled": true,
        "id": "e1c230cd",
        "outputId": "89f9e67c-387d-4a97-d1d5-7c2e4d11632f"
      },
      "outputs": [
        {
          "data": {
            "text/html": [
              "<div>\n",
              "<style scoped>\n",
              "    .dataframe tbody tr th:only-of-type {\n",
              "        vertical-align: middle;\n",
              "    }\n",
              "\n",
              "    .dataframe tbody tr th {\n",
              "        vertical-align: top;\n",
              "    }\n",
              "\n",
              "    .dataframe thead th {\n",
              "        text-align: right;\n",
              "    }\n",
              "</style>\n",
              "<table border=\"1\" class=\"dataframe\">\n",
              "  <thead>\n",
              "    <tr style=\"text-align: right;\">\n",
              "      <th></th>\n",
              "      <th>Predictor</th>\n",
              "      <th>importancia</th>\n",
              "    </tr>\n",
              "  </thead>\n",
              "  <tbody>\n",
              "    <tr>\n",
              "      <th>1</th>\n",
              "      <td>Upfront_charges</td>\n",
              "      <td>0.423</td>\n",
              "    </tr>\n",
              "    <tr>\n",
              "      <th>19</th>\n",
              "      <td>submission_of_application_to_inst</td>\n",
              "      <td>0.152</td>\n",
              "    </tr>\n",
              "    <tr>\n",
              "      <th>3</th>\n",
              "      <td>LTV</td>\n",
              "      <td>0.109</td>\n",
              "    </tr>\n",
              "    <tr>\n",
              "      <th>2</th>\n",
              "      <td>Credit_Score</td>\n",
              "      <td>0.098</td>\n",
              "    </tr>\n",
              "    <tr>\n",
              "      <th>4</th>\n",
              "      <td>dtir1</td>\n",
              "      <td>0.083</td>\n",
              "    </tr>\n",
              "    <tr>\n",
              "      <th>0</th>\n",
              "      <td>loan_amount</td>\n",
              "      <td>0.073</td>\n",
              "    </tr>\n",
              "    <tr>\n",
              "      <th>13</th>\n",
              "      <td>business_or_commercial_nob/c</td>\n",
              "      <td>0.009</td>\n",
              "    </tr>\n",
              "    <tr>\n",
              "      <th>11</th>\n",
              "      <td>loan_purpose_p4</td>\n",
              "      <td>0.007</td>\n",
              "    </tr>\n",
              "    <tr>\n",
              "      <th>17</th>\n",
              "      <td>co-applicant_credit_type_EXP</td>\n",
              "      <td>0.007</td>\n",
              "    </tr>\n",
              "    <tr>\n",
              "      <th>9</th>\n",
              "      <td>loan_purpose_p1</td>\n",
              "      <td>0.006</td>\n",
              "    </tr>\n",
              "    <tr>\n",
              "      <th>10</th>\n",
              "      <td>loan_purpose_p3</td>\n",
              "      <td>0.006</td>\n",
              "    </tr>\n",
              "    <tr>\n",
              "      <th>7</th>\n",
              "      <td>approv_in_adv_nopre</td>\n",
              "      <td>0.004</td>\n",
              "    </tr>\n",
              "    <tr>\n",
              "      <th>16</th>\n",
              "      <td>co-applicant_credit_type_CIB</td>\n",
              "      <td>0.004</td>\n",
              "    </tr>\n",
              "    <tr>\n",
              "      <th>6</th>\n",
              "      <td>loan_limit_ncf</td>\n",
              "      <td>0.003</td>\n",
              "    </tr>\n",
              "    <tr>\n",
              "      <th>8</th>\n",
              "      <td>approv_in_adv_pre</td>\n",
              "      <td>0.003</td>\n",
              "    </tr>\n",
              "    <tr>\n",
              "      <th>5</th>\n",
              "      <td>loan_limit_cf</td>\n",
              "      <td>0.003</td>\n",
              "    </tr>\n",
              "    <tr>\n",
              "      <th>12</th>\n",
              "      <td>business_or_commercial_b/c</td>\n",
              "      <td>0.003</td>\n",
              "    </tr>\n",
              "    <tr>\n",
              "      <th>14</th>\n",
              "      <td>Neg_ammortization_neg_amm</td>\n",
              "      <td>0.003</td>\n",
              "    </tr>\n",
              "    <tr>\n",
              "      <th>15</th>\n",
              "      <td>Neg_ammortization_not_neg</td>\n",
              "      <td>0.003</td>\n",
              "    </tr>\n",
              "    <tr>\n",
              "      <th>18</th>\n",
              "      <td>submission_of_application_not_inst</td>\n",
              "      <td>0.000</td>\n",
              "    </tr>\n",
              "  </tbody>\n",
              "</table>\n",
              "</div>"
            ],
            "text/plain": [
              "                             Predictor  importancia\n",
              "1                      Upfront_charges        0.423\n",
              "19   submission_of_application_to_inst        0.152\n",
              "3                                  LTV        0.109\n",
              "2                         Credit_Score        0.098\n",
              "4                                dtir1        0.083\n",
              "0                          loan_amount        0.073\n",
              "13        business_or_commercial_nob/c        0.009\n",
              "11                     loan_purpose_p4        0.007\n",
              "17        co-applicant_credit_type_EXP        0.007\n",
              "9                      loan_purpose_p1        0.006\n",
              "10                     loan_purpose_p3        0.006\n",
              "7                  approv_in_adv_nopre        0.004\n",
              "16        co-applicant_credit_type_CIB        0.004\n",
              "6                       loan_limit_ncf        0.003\n",
              "8                    approv_in_adv_pre        0.003\n",
              "5                        loan_limit_cf        0.003\n",
              "12          business_or_commercial_b/c        0.003\n",
              "14           Neg_ammortization_neg_amm        0.003\n",
              "15           Neg_ammortization_not_neg        0.003\n",
              "18  submission_of_application_not_inst        0.000"
            ]
          },
          "execution_count": 13,
          "metadata": {},
          "output_type": "execute_result"
        }
      ],
      "source": [
        "importances = pd.DataFrame({'Predictor':X_train.columns,'importancia':np.round(modelo.feature_importances_,3)})\n",
        "importances = importances.sort_values('importancia',ascending=False)\n",
        "importances"
      ]
    },
    {
      "cell_type": "markdown",
      "id": "2fb9b834",
      "metadata": {
        "id": "2fb9b834"
      },
      "source": [
        "## Visualización de la Matriz de Confusión\n",
        "\n",
        "En esta etapa, estamos evaluando el rendimiento de nuestro modelo de Árbol de Decisión mediante la visualización de la matriz de confusión. A continuación, se describen las acciones realizadas:\n",
        "\n",
        "1. Calculamos la matriz de confusión utilizando la función `confusion_matrix` de `sklearn.metrics`. Esta matriz muestra la cantidad de verdaderos positivos, verdaderos negativos, falsos positivos y falsos negativos, lo que es esencial para evaluar el rendimiento del modelo.\n",
        "\n",
        "2. Luego, hemos visualizado la matriz de confusión como un mapa de calor (`heatmap`) utilizando la biblioteca `seaborn`. Esta representación gráfica nos permite observar de manera efectiva cómo el modelo clasificó las muestras en función de las etiquetas reales.\n",
        "\n",
        "Hemos incluido la opción `annot=True` para mostrar los valores en las celdas de la matriz de confusión y hemos ajustado el formato de los números con `fmt=\"d\"`. La paleta de colores utilizada es \"Blues\".\n"
      ]
    },
    {
      "cell_type": "code",
      "execution_count": null,
      "id": "819341a0",
      "metadata": {
        "id": "819341a0",
        "outputId": "794ffb8f-58cb-4276-ced6-b873d8847d52"
      },
      "outputs": [
        {
          "name": "stdout",
          "output_type": "stream",
          "text": [
            "Matriz de Confusión:\n"
          ]
        },
        {
          "data": {
            "image/png": "[encoded data removed]",
            "text/plain": [
              "<Figure size 640x480 with 1 Axes>"
            ]
          },
          "metadata": {},
          "output_type": "display_data"
        }
      ],
      "source": [
        "matriz = confusion_matrix(y_test, y_pred)\n",
        "print('Matriz de Confusión:')\n",
        "\n",
        "## np.set_printoptions(suppress=True) # evita la notacion cientifica\n",
        "\n",
        "sns.heatmap(matriz, annot=True, fmt=\"d\", cmap=\"Blues\", cbar=False)\n",
        "plt.show()"
      ]
    },
    {
      "cell_type": "markdown",
      "id": "8fbca34a",
      "metadata": {
        "id": "8fbca34a"
      },
      "source": [
        "## Evaluación del Rendimiento Utilizando Métricas de Clasificación\n",
        "\n",
        "En esta etapa, estamos evaluando el rendimiento de nuestro modelo de Árbol de Decisión utilizando métricas de clasificación. A continuación, se describen las acciones realizadas:\n",
        "\n",
        "1. Imprimimos un \"Reporte de Clasificación\" utilizando la función `classification_report` de `sklearn.metrics`. Este reporte proporciona información detallada sobre métricas de clasificación, como precisión, recuperación (recall), F1-score y soporte, tanto para la clase positiva como para la clase negativa. Es una herramienta valiosa para comprender cómo nuestro modelo clasifica las muestras en función de las etiquetas reales y predichas.\n",
        "\n"
      ]
    },
    {
      "cell_type": "code",
      "execution_count": null,
      "id": "fc5cd5bb",
      "metadata": {
        "id": "fc5cd5bb",
        "outputId": "345172bf-2fcb-41a0-e077-a11145d5c9d7"
      },
      "outputs": [
        {
          "name": "stdout",
          "output_type": "stream",
          "text": [
            "Reporte de clasificación:\n",
            "              precision    recall  f1-score   support\n",
            "\n",
            "           0       0.94      0.94      0.94     20824\n",
            "           1       0.69      0.69      0.69      4064\n",
            "\n",
            "    accuracy                           0.90     24888\n",
            "   macro avg       0.82      0.82      0.82     24888\n",
            "weighted avg       0.90      0.90      0.90     24888\n",
            "\n"
          ]
        }
      ],
      "source": [
        "# Paso 5: Evaluar el rendimiento utilizando métricas de clasificación\n",
        "print(\"Reporte de clasificación:\")\n",
        "print(classification_report(y_test, y_pred))"
      ]
    },
    {
      "cell_type": "markdown",
      "id": "fcd10ae2",
      "metadata": {
        "id": "fcd10ae2"
      },
      "source": [
        "## Explicación de las Métricas de Clasificación\n",
        "\n",
        "El \"Reporte de Clasificación\" contiene varias métricas de clasificación que evalúan el rendimiento del modelo de Árbol de Decisión. A continuación, se explican las métricas más comunes incluidas en el reporte:\n",
        "\n",
        "- **Precisión (Precision)**: La precisión mide la proporción de predicciones positivas correctas con respecto al total de predicciones positivas. Es útil para evaluar la exactitud de las predicciones positivas.\n",
        "\n",
        "- **Recuperación (Recall)**: La recuperación, también conocida como recall o tasa de verdaderos positivos, mide la proporción de verdaderos positivos con respecto al total de instancias positivas reales. Es útil para evaluar la capacidad del modelo para capturar todos los casos positivos.\n",
        "\n",
        "- **F1-Score**: El F1-score es una medida que combina precisión y recuperación en una sola métrica. Es útil cuando se busca un equilibrio entre precisión y recuperación.\n",
        "\n",
        "- **Soporte (Support)**: El soporte indica la cantidad de instancias en cada clase en el conjunto de prueba.\n",
        "\n",
        "Estas métricas son esenciales para comprender cómo se desempeña el modelo en la clasificación de las muestras, tanto en términos de aciertos como de errores. La elección de la métrica más relevante dependerá de los objetivos y las restricciones específicas del problema que estás abordando.\n",
        "\n",
        "Llegados a este punto, consideramos que la matriz de confusión resultante, junto con las metricas evaluadas anteriormente, tienen cierto margen para mejorar, por lo que implementaremos una optimización de hiper parametros para ver si conseguimos mejorar los resultados.\n"
      ]
    },
    {
      "cell_type": "markdown",
      "id": "c08e805f",
      "metadata": {
        "id": "c08e805f"
      },
      "source": [
        "## Búsqueda de los Mejores Hiperparámetros con GridSearchCV\n",
        "\n",
        "En esta sección, estamos realizando la búsqueda de los mejores hiperparámetros para nuestro modelo de Árbol de Decisión utilizando la técnica de GridSearchCV. A continuación, se describen las acciones realizadas:\n",
        "\n",
        "1. Creamos un objeto `arbol` que representa un modelo de Árbol de Decisión y utilizamos el método `get_params()` para obtener los hiperparámetros actuales del modelo.\n",
        "\n",
        "2. Definimos dos conjuntos de pesos de clase, `weights1` y `weights2`, que asignan diferentes pesos a las clases positivas y negativas. También especificamos un conjunto de posibles valores para los hiperparámetros, como `criterion`, `max_depth` y `class_weight`, que deseamos ajustar.\n",
        "\n",
        "3. Utilizamos la métrica `f1_score` y la función `make_scorer` para crear un evaluador que se utilizará para comparar diferentes configuraciones de hiperparámetros.\n",
        "\n",
        "4. Creamos un objeto `rejilla` (grid) de GridSearchCV con el modelo de Árbol de Decisión, los parámetros definidos y el evaluador de métrica. Luego, ajustamos la rejilla utilizando los datos de entrenamiento.\n",
        "\n",
        "5. Imprimimos los resultados de la búsqueda, incluyendo el rango de las puntuaciones de prueba, las puntuaciones promedio de prueba y la mejor puntuación obtenida.\n",
        "\n",
        "6. Obtenemos los mejores hiperparámetros encontrados durante la búsqueda y los almacenamos en `best_params`.\n",
        "\n"
      ]
    },
    {
      "cell_type": "code",
      "execution_count": null,
      "id": "3c3ad4c2",
      "metadata": {
        "id": "3c3ad4c2",
        "outputId": "04464c23-ec31-4be8-ded5-b28bc24e75cc"
      },
      "outputs": [
        {
          "data": {
            "text/plain": [
              "{'ccp_alpha': 0.0,\n",
              " 'class_weight': None,\n",
              " 'criterion': 'gini',\n",
              " 'max_depth': None,\n",
              " 'max_features': None,\n",
              " 'max_leaf_nodes': None,\n",
              " 'min_impurity_decrease': 0.0,\n",
              " 'min_samples_leaf': 1,\n",
              " 'min_samples_split': 2,\n",
              " 'min_weight_fraction_leaf': 0.0,\n",
              " 'random_state': None,\n",
              " 'splitter': 'best'}"
            ]
          },
          "execution_count": 16,
          "metadata": {},
          "output_type": "execute_result"
        }
      ],
      "source": [
        "arbol = DecisionTreeClassifier()\n",
        "arbol.get_params()"
      ]
    },
    {
      "cell_type": "code",
      "execution_count": null,
      "id": "37f17eb1",
      "metadata": {
        "id": "37f17eb1",
        "outputId": "6d62ae95-37d4-4683-ade6-967a78d4d1da"
      },
      "outputs": [
        {
          "data": {
            "text/html": [
              "<style>#sk-container-id-2 {color: black;}#sk-container-id-2 pre{padding: 0;}#sk-container-id-2 div.sk-toggleable {background-color: white;}#sk-container-id-2 label.sk-toggleable__label {cursor: pointer;display: block;width: 100%;margin-bottom: 0;padding: 0.3em;box-sizing: border-box;text-align: center;}#sk-container-id-2 label.sk-toggleable__label-arrow:before {content: \"▸\";float: left;margin-right: 0.25em;color: #696969;}#sk-container-id-2 label.sk-toggleable__label-arrow:hover:before {color: black;}#sk-container-id-2 div.sk-estimator:hover label.sk-toggleable__label-arrow:before {color: black;}#sk-container-id-2 div.sk-toggleable__content {max-height: 0;max-width: 0;overflow: hidden;text-align: left;background-color: #f0f8ff;}#sk-container-id-2 div.sk-toggleable__content pre {margin: 0.2em;color: black;border-radius: 0.25em;background-color: #f0f8ff;}#sk-container-id-2 input.sk-toggleable__control:checked~div.sk-toggleable__content {max-height: 200px;max-width: 100%;overflow: auto;}#sk-container-id-2 input.sk-toggleable__control:checked~label.sk-toggleable__label-arrow:before {content: \"▾\";}#sk-container-id-2 div.sk-estimator input.sk-toggleable__control:checked~label.sk-toggleable__label {background-color: #d4ebff;}#sk-container-id-2 div.sk-label input.sk-toggleable__control:checked~label.sk-toggleable__label {background-color: #d4ebff;}#sk-container-id-2 input.sk-hidden--visually {border: 0;clip: rect(1px 1px 1px 1px);clip: rect(1px, 1px, 1px, 1px);height: 1px;margin: -1px;overflow: hidden;padding: 0;position: absolute;width: 1px;}#sk-container-id-2 div.sk-estimator {font-family: monospace;background-color: #f0f8ff;border: 1px dotted black;border-radius: 0.25em;box-sizing: border-box;margin-bottom: 0.5em;}#sk-container-id-2 div.sk-estimator:hover {background-color: #d4ebff;}#sk-container-id-2 div.sk-parallel-item::after {content: \"\";width: 100%;border-bottom: 1px solid gray;flex-grow: 1;}#sk-container-id-2 div.sk-label:hover label.sk-toggleable__label {background-color: #d4ebff;}#sk-container-id-2 div.sk-serial::before {content: \"\";position: absolute;border-left: 1px solid gray;box-sizing: border-box;top: 0;bottom: 0;left: 50%;z-index: 0;}#sk-container-id-2 div.sk-serial {display: flex;flex-direction: column;align-items: center;background-color: white;padding-right: 0.2em;padding-left: 0.2em;position: relative;}#sk-container-id-2 div.sk-item {position: relative;z-index: 1;}#sk-container-id-2 div.sk-parallel {display: flex;align-items: stretch;justify-content: center;background-color: white;position: relative;}#sk-container-id-2 div.sk-item::before, #sk-container-id-2 div.sk-parallel-item::before {content: \"\";position: absolute;border-left: 1px solid gray;box-sizing: border-box;top: 0;bottom: 0;left: 50%;z-index: -1;}#sk-container-id-2 div.sk-parallel-item {display: flex;flex-direction: column;z-index: 1;position: relative;background-color: white;}#sk-container-id-2 div.sk-parallel-item:first-child::after {align-self: flex-end;width: 50%;}#sk-container-id-2 div.sk-parallel-item:last-child::after {align-self: flex-start;width: 50%;}#sk-container-id-2 div.sk-parallel-item:only-child::after {width: 0;}#sk-container-id-2 div.sk-dashed-wrapped {border: 1px dashed gray;margin: 0 0.4em 0.5em 0.4em;box-sizing: border-box;padding-bottom: 0.4em;background-color: white;}#sk-container-id-2 div.sk-label label {font-family: monospace;font-weight: bold;display: inline-block;line-height: 1.2em;}#sk-container-id-2 div.sk-label-container {text-align: center;}#sk-container-id-2 div.sk-container {/* jupyter's `normalize.less` sets `[hidden] { display: none; }` but bootstrap.min.css set `[hidden] { display: none !important; }` so we also need the `!important` here to be able to override the default hidden behavior on the sphinx rendered scikit-learn.org. See: https://github.com/scikit-learn/scikit-learn/issues/21755 */display: inline-block !important;position: relative;}#sk-container-id-2 div.sk-text-repr-fallback {display: none;}</style><div id=\"sk-container-id-2\" class=\"sk-top-container\"><div class=\"sk-text-repr-fallback\"><pre>GridSearchCV(estimator=DecisionTreeClassifier(),\n",
              "             param_grid={&#x27;class_weight&#x27;: ({0: 1, 1: 10}, {0: 1, 1: 100},\n",
              "                                          &#x27;balanced&#x27;),\n",
              "                         &#x27;criterion&#x27;: (&#x27;gini&#x27;, &#x27;entropy&#x27;),\n",
              "                         &#x27;max_depth&#x27;: (3, 5, 7)},\n",
              "             scoring=make_scorer(f1_score))</pre><b>In a Jupyter environment, please rerun this cell to show the HTML representation or trust the notebook. <br />On GitHub, the HTML representation is unable to render, please try loading this page with nbviewer.org.</b></div><div class=\"sk-container\" hidden><div class=\"sk-item sk-dashed-wrapped\"><div class=\"sk-label-container\"><div class=\"sk-label sk-toggleable\"><input class=\"sk-toggleable__control sk-hidden--visually\" id=\"sk-estimator-id-2\" type=\"checkbox\" ><label for=\"sk-estimator-id-2\" class=\"sk-toggleable__label sk-toggleable__label-arrow\">GridSearchCV</label><div class=\"sk-toggleable__content\"><pre>GridSearchCV(estimator=DecisionTreeClassifier(),\n",
              "             param_grid={&#x27;class_weight&#x27;: ({0: 1, 1: 10}, {0: 1, 1: 100},\n",
              "                                          &#x27;balanced&#x27;),\n",
              "                         &#x27;criterion&#x27;: (&#x27;gini&#x27;, &#x27;entropy&#x27;),\n",
              "                         &#x27;max_depth&#x27;: (3, 5, 7)},\n",
              "             scoring=make_scorer(f1_score))</pre></div></div></div><div class=\"sk-parallel\"><div class=\"sk-parallel-item\"><div class=\"sk-item\"><div class=\"sk-label-container\"><div class=\"sk-label sk-toggleable\"><input class=\"sk-toggleable__control sk-hidden--visually\" id=\"sk-estimator-id-3\" type=\"checkbox\" ><label for=\"sk-estimator-id-3\" class=\"sk-toggleable__label sk-toggleable__label-arrow\">estimator: DecisionTreeClassifier</label><div class=\"sk-toggleable__content\"><pre>DecisionTreeClassifier()</pre></div></div></div><div class=\"sk-serial\"><div class=\"sk-item\"><div class=\"sk-estimator sk-toggleable\"><input class=\"sk-toggleable__control sk-hidden--visually\" id=\"sk-estimator-id-4\" type=\"checkbox\" ><label for=\"sk-estimator-id-4\" class=\"sk-toggleable__label sk-toggleable__label-arrow\">DecisionTreeClassifier</label><div class=\"sk-toggleable__content\"><pre>DecisionTreeClassifier()</pre></div></div></div></div></div></div></div></div></div></div>"
            ],
            "text/plain": [
              "GridSearchCV(estimator=DecisionTreeClassifier(),\n",
              "             param_grid={'class_weight': ({0: 1, 1: 10}, {0: 1, 1: 100},\n",
              "                                          'balanced'),\n",
              "                         'criterion': ('gini', 'entropy'),\n",
              "                         'max_depth': (3, 5, 7)},\n",
              "             scoring=make_scorer(f1_score))"
            ]
          },
          "execution_count": 17,
          "metadata": {},
          "output_type": "execute_result"
        }
      ],
      "source": [
        "from sklearn.model_selection import GridSearchCV\n",
        "from sklearn.metrics import make_scorer, f1_score\n",
        "\n",
        "weights1 = {0: 1, 1: 10}\n",
        "weights2 = {0: 1, 1: 100}\n",
        "\n",
        "parametros = {'criterion': ('gini', 'entropy'),\n",
        "              'max_depth': (3, 5, 7),\n",
        "              'class_weight':(weights1, weights2, 'balanced') }\n",
        "\n",
        "scorer = make_scorer(f1_score)\n",
        "\n",
        "rejilla = GridSearchCV(arbol, parametros, scoring = scorer)\n",
        "rejilla.fit(X_train, y_train)"
      ]
    },
    {
      "cell_type": "code",
      "execution_count": null,
      "id": "faef0607",
      "metadata": {
        "id": "faef0607",
        "outputId": "4a9d893d-fef5-4962-ed06-19c9127799b2"
      },
      "outputs": [
        {
          "name": "stdout",
          "output_type": "stream",
          "text": [
            "[13 11  5 13 18  7  8 12  6 13  9 10 13  1  2 13  4  3]\n",
            "[0.68169582 0.68173361 0.68214791 0.68169582 0.68168347 0.68196645\n",
            " 0.68182613 0.68170524 0.68208155 0.68169582 0.68179677 0.68178275\n",
            " 0.68169582 0.78506422 0.78227673 0.68169582 0.72335395 0.77691019]\n",
            "0.7850642231325208\n"
          ]
        }
      ],
      "source": [
        "print(rejilla.cv_results_[\"rank_test_score\"])\n",
        "print(rejilla.cv_results_[\"mean_test_score\"])\n",
        "print(rejilla.best_score_)"
      ]
    },
    {
      "cell_type": "code",
      "execution_count": null,
      "id": "460ad3b3",
      "metadata": {
        "scrolled": true,
        "id": "460ad3b3",
        "outputId": "a76eb136-d3a0-4bbe-df38-b9bee978a6b8"
      },
      "outputs": [
        {
          "name": "stdout",
          "output_type": "stream",
          "text": [
            "Mejores hiperparámetros: {'class_weight': 'balanced', 'criterion': 'gini', 'max_depth': 5}\n"
          ]
        }
      ],
      "source": [
        "# Obtener los mejores hiperparámetros encontrados\n",
        "best_params = rejilla.best_params_\n",
        "print(\"Mejores hiperparámetros:\", best_params)"
      ]
    },
    {
      "cell_type": "markdown",
      "id": "84cac405",
      "metadata": {
        "id": "84cac405"
      },
      "source": [
        "## Entrenamiento del Modelo con los Mejores Hiperparámetros\n",
        "\n",
        "En esta etapa, estamos entrenando el modelo de Árbol de Decisión utilizando los mejores hiperparámetros encontrados a través de la búsqueda de hiperparámetros con GridSearchCV. A continuación, se describen las acciones realizadas:\n",
        "\n",
        "1. Creamos un nuevo modelo de Árbol de Decisión llamado `best_clf` utilizando los mejores hiperparámetros encontrados almacenados en `best_params`.\n",
        "\n",
        "2. Entrenamos el modelo `best_clf` en los datos de entrenamiento (`X_train` y `y_train`) utilizando el método `.fit()`. El modelo aprenderá a realizar predicciones basadas en los mejores hiperparámetros identificados.\n",
        "\n",
        "3. Realizamos predicciones en el conjunto de prueba (`X_test`) utilizando el modelo `best_clf` y almacenamos las predicciones en `y_pred`.\n",
        "\n",
        "Este paso es fundamental, ya que nos permite evaluar el rendimiento del modelo de Árbol de Decisión con la configuración óptima de hiperparámetros identificada durante la búsqueda.\n"
      ]
    },
    {
      "cell_type": "code",
      "execution_count": null,
      "id": "2b3019d3",
      "metadata": {
        "id": "2b3019d3",
        "outputId": "05365020-2f4d-41b9-ef3a-ba399ff7a13a"
      },
      "outputs": [
        {
          "data": {
            "text/html": [
              "<style>#sk-container-id-3 {color: black;}#sk-container-id-3 pre{padding: 0;}#sk-container-id-3 div.sk-toggleable {background-color: white;}#sk-container-id-3 label.sk-toggleable__label {cursor: pointer;display: block;width: 100%;margin-bottom: 0;padding: 0.3em;box-sizing: border-box;text-align: center;}#sk-container-id-3 label.sk-toggleable__label-arrow:before {content: \"▸\";float: left;margin-right: 0.25em;color: #696969;}#sk-container-id-3 label.sk-toggleable__label-arrow:hover:before {color: black;}#sk-container-id-3 div.sk-estimator:hover label.sk-toggleable__label-arrow:before {color: black;}#sk-container-id-3 div.sk-toggleable__content {max-height: 0;max-width: 0;overflow: hidden;text-align: left;background-color: #f0f8ff;}#sk-container-id-3 div.sk-toggleable__content pre {margin: 0.2em;color: black;border-radius: 0.25em;background-color: #f0f8ff;}#sk-container-id-3 input.sk-toggleable__control:checked~div.sk-toggleable__content {max-height: 200px;max-width: 100%;overflow: auto;}#sk-container-id-3 input.sk-toggleable__control:checked~label.sk-toggleable__label-arrow:before {content: \"▾\";}#sk-container-id-3 div.sk-estimator input.sk-toggleable__control:checked~label.sk-toggleable__label {background-color: #d4ebff;}#sk-container-id-3 div.sk-label input.sk-toggleable__control:checked~label.sk-toggleable__label {background-color: #d4ebff;}#sk-container-id-3 input.sk-hidden--visually {border: 0;clip: rect(1px 1px 1px 1px);clip: rect(1px, 1px, 1px, 1px);height: 1px;margin: -1px;overflow: hidden;padding: 0;position: absolute;width: 1px;}#sk-container-id-3 div.sk-estimator {font-family: monospace;background-color: #f0f8ff;border: 1px dotted black;border-radius: 0.25em;box-sizing: border-box;margin-bottom: 0.5em;}#sk-container-id-3 div.sk-estimator:hover {background-color: #d4ebff;}#sk-container-id-3 div.sk-parallel-item::after {content: \"\";width: 100%;border-bottom: 1px solid gray;flex-grow: 1;}#sk-container-id-3 div.sk-label:hover label.sk-toggleable__label {background-color: #d4ebff;}#sk-container-id-3 div.sk-serial::before {content: \"\";position: absolute;border-left: 1px solid gray;box-sizing: border-box;top: 0;bottom: 0;left: 50%;z-index: 0;}#sk-container-id-3 div.sk-serial {display: flex;flex-direction: column;align-items: center;background-color: white;padding-right: 0.2em;padding-left: 0.2em;position: relative;}#sk-container-id-3 div.sk-item {position: relative;z-index: 1;}#sk-container-id-3 div.sk-parallel {display: flex;align-items: stretch;justify-content: center;background-color: white;position: relative;}#sk-container-id-3 div.sk-item::before, #sk-container-id-3 div.sk-parallel-item::before {content: \"\";position: absolute;border-left: 1px solid gray;box-sizing: border-box;top: 0;bottom: 0;left: 50%;z-index: -1;}#sk-container-id-3 div.sk-parallel-item {display: flex;flex-direction: column;z-index: 1;position: relative;background-color: white;}#sk-container-id-3 div.sk-parallel-item:first-child::after {align-self: flex-end;width: 50%;}#sk-container-id-3 div.sk-parallel-item:last-child::after {align-self: flex-start;width: 50%;}#sk-container-id-3 div.sk-parallel-item:only-child::after {width: 0;}#sk-container-id-3 div.sk-dashed-wrapped {border: 1px dashed gray;margin: 0 0.4em 0.5em 0.4em;box-sizing: border-box;padding-bottom: 0.4em;background-color: white;}#sk-container-id-3 div.sk-label label {font-family: monospace;font-weight: bold;display: inline-block;line-height: 1.2em;}#sk-container-id-3 div.sk-label-container {text-align: center;}#sk-container-id-3 div.sk-container {/* jupyter's `normalize.less` sets `[hidden] { display: none; }` but bootstrap.min.css set `[hidden] { display: none !important; }` so we also need the `!important` here to be able to override the default hidden behavior on the sphinx rendered scikit-learn.org. See: https://github.com/scikit-learn/scikit-learn/issues/21755 */display: inline-block !important;position: relative;}#sk-container-id-3 div.sk-text-repr-fallback {display: none;}</style><div id=\"sk-container-id-3\" class=\"sk-top-container\"><div class=\"sk-text-repr-fallback\"><pre>DecisionTreeClassifier(class_weight=&#x27;balanced&#x27;, max_depth=5)</pre><b>In a Jupyter environment, please rerun this cell to show the HTML representation or trust the notebook. <br />On GitHub, the HTML representation is unable to render, please try loading this page with nbviewer.org.</b></div><div class=\"sk-container\" hidden><div class=\"sk-item\"><div class=\"sk-estimator sk-toggleable\"><input class=\"sk-toggleable__control sk-hidden--visually\" id=\"sk-estimator-id-5\" type=\"checkbox\" checked><label for=\"sk-estimator-id-5\" class=\"sk-toggleable__label sk-toggleable__label-arrow\">DecisionTreeClassifier</label><div class=\"sk-toggleable__content\"><pre>DecisionTreeClassifier(class_weight=&#x27;balanced&#x27;, max_depth=5)</pre></div></div></div></div></div>"
            ],
            "text/plain": [
              "DecisionTreeClassifier(class_weight='balanced', max_depth=5)"
            ]
          },
          "execution_count": 20,
          "metadata": {},
          "output_type": "execute_result"
        }
      ],
      "source": [
        "# Entrena el modelo con los mejores hiperparámetros encontrados\n",
        "best_clf = DecisionTreeClassifier(**best_params)\n",
        "best_clf.fit(X_train, y_train)"
      ]
    },
    {
      "cell_type": "code",
      "execution_count": null,
      "id": "8f251c74",
      "metadata": {
        "id": "8f251c74"
      },
      "outputs": [],
      "source": [
        "# Realiza predicciones en el conjunto de prueba\n",
        "y_pred = best_clf.predict(X_test)"
      ]
    },
    {
      "cell_type": "markdown",
      "id": "f96f328e",
      "metadata": {
        "id": "f96f328e"
      },
      "source": [
        "## Importancia de las Características en el Modelo de Árbol de Decisión (Mejores Hiperparámetros)\n",
        "\n",
        "En esta etapa, estamos explorando la importancia de las características en nuestro modelo de Árbol de Decisión después de haber entrenado el modelo con los mejores hiperparámetros encontrados. A continuación, se describen las acciones realizadas:\n",
        "\n",
        "1. Creamos un DataFrame llamado `importances2` que contiene dos columnas: 'Predictor', que almacena los nombres de las características, y 'importancia', que muestra la importancia de cada característica calculada por el modelo de Árbol de Decisión con los mejores hiperparámetros. Hemos redondeado las importancias a tres decimales.\n",
        "\n",
        "2. Luego, ordenamos el DataFrame `importances2` en orden descendente según la importancia de las características, lo que nos permite identificar las características más relevantes en la toma de decisiones del modelo de Árbol de Decisión con la configuración óptima de hiperparámetros.\n",
        "\n",
        "Este análisis de importancia de características nos proporciona información valiosa sobre qué características influyen más en las predicciones del modelo de Árbol de Decisión después de la optimización de los hiperparámetros. Estos resultados pueden ser útiles para tomar decisiones informadas y comprender la influencia de las características en las predicciones del modelo.\n",
        "\n",
        "## Resultados de la Importancia de las Características (Mejores Hiperparámetros)\n",
        "\n",
        "Tras analizar la importancia de las características en nuestro modelo de Árbol de Decisión con los mejores hiperparámetros, se han identificado las principales características ordenadas por importancia:\n",
        "\n",
        "1. **Upfront_charges (0.423)**: La característica \"Upfront_charges\" continúa siendo la más influyente en las predicciones del modelo, con una importancia de aproximadamente el 42.3%. Esto confirma su relevancia en la toma de decisiones del modelo.\n",
        "\n",
        "2. **submission_of_application_to_inst (0.152)**: La característica \"submission_of_application_to_inst\" sigue ocupando el segundo lugar en importancia, contribuyendo con alrededor del 15.2% en las predicciones.\n",
        "\n",
        "3. **LTV (0.109)**: El Loan-to-Value ratio (LTV) es otra característica importante, con una importancia del 10.9%, lo que refuerza su influencia en las decisiones del modelo.\n",
        "\n",
        "4. **Credit_Score (0.098)**: La puntuación de crédito (\"Credit_Score\") se mantiene como una característica relevante, con una importancia del 9.8%.\n",
        "\n",
        "Estos resultados confirman la importancia de las mismas características en la toma de decisiones del modelo, incluso después de la optimización de los hiperparámetros. Estas características siguen siendo fundamentales en la clasificación de las muestras.\n"
      ]
    },
    {
      "cell_type": "code",
      "execution_count": null,
      "id": "75e70a73",
      "metadata": {
        "scrolled": true,
        "id": "75e70a73",
        "outputId": "0a9e497d-f692-4494-8c37-a8d8b41d7ded"
      },
      "outputs": [
        {
          "data": {
            "text/html": [
              "<div>\n",
              "<style scoped>\n",
              "    .dataframe tbody tr th:only-of-type {\n",
              "        vertical-align: middle;\n",
              "    }\n",
              "\n",
              "    .dataframe tbody tr th {\n",
              "        vertical-align: top;\n",
              "    }\n",
              "\n",
              "    .dataframe thead th {\n",
              "        text-align: right;\n",
              "    }\n",
              "</style>\n",
              "<table border=\"1\" class=\"dataframe\">\n",
              "  <thead>\n",
              "    <tr style=\"text-align: right;\">\n",
              "      <th></th>\n",
              "      <th>Predictor</th>\n",
              "      <th>importancia</th>\n",
              "    </tr>\n",
              "  </thead>\n",
              "  <tbody>\n",
              "    <tr>\n",
              "      <th>1</th>\n",
              "      <td>Upfront_charges</td>\n",
              "      <td>0.423</td>\n",
              "    </tr>\n",
              "    <tr>\n",
              "      <th>19</th>\n",
              "      <td>submission_of_application_to_inst</td>\n",
              "      <td>0.152</td>\n",
              "    </tr>\n",
              "    <tr>\n",
              "      <th>3</th>\n",
              "      <td>LTV</td>\n",
              "      <td>0.109</td>\n",
              "    </tr>\n",
              "    <tr>\n",
              "      <th>2</th>\n",
              "      <td>Credit_Score</td>\n",
              "      <td>0.098</td>\n",
              "    </tr>\n",
              "    <tr>\n",
              "      <th>4</th>\n",
              "      <td>dtir1</td>\n",
              "      <td>0.083</td>\n",
              "    </tr>\n",
              "    <tr>\n",
              "      <th>0</th>\n",
              "      <td>loan_amount</td>\n",
              "      <td>0.073</td>\n",
              "    </tr>\n",
              "    <tr>\n",
              "      <th>13</th>\n",
              "      <td>business_or_commercial_nob/c</td>\n",
              "      <td>0.009</td>\n",
              "    </tr>\n",
              "    <tr>\n",
              "      <th>11</th>\n",
              "      <td>loan_purpose_p4</td>\n",
              "      <td>0.007</td>\n",
              "    </tr>\n",
              "    <tr>\n",
              "      <th>17</th>\n",
              "      <td>co-applicant_credit_type_EXP</td>\n",
              "      <td>0.007</td>\n",
              "    </tr>\n",
              "    <tr>\n",
              "      <th>10</th>\n",
              "      <td>loan_purpose_p3</td>\n",
              "      <td>0.006</td>\n",
              "    </tr>\n",
              "    <tr>\n",
              "      <th>9</th>\n",
              "      <td>loan_purpose_p1</td>\n",
              "      <td>0.006</td>\n",
              "    </tr>\n",
              "    <tr>\n",
              "      <th>7</th>\n",
              "      <td>approv_in_adv_nopre</td>\n",
              "      <td>0.004</td>\n",
              "    </tr>\n",
              "    <tr>\n",
              "      <th>16</th>\n",
              "      <td>co-applicant_credit_type_CIB</td>\n",
              "      <td>0.004</td>\n",
              "    </tr>\n",
              "    <tr>\n",
              "      <th>6</th>\n",
              "      <td>loan_limit_ncf</td>\n",
              "      <td>0.003</td>\n",
              "    </tr>\n",
              "    <tr>\n",
              "      <th>8</th>\n",
              "      <td>approv_in_adv_pre</td>\n",
              "      <td>0.003</td>\n",
              "    </tr>\n",
              "    <tr>\n",
              "      <th>5</th>\n",
              "      <td>loan_limit_cf</td>\n",
              "      <td>0.003</td>\n",
              "    </tr>\n",
              "    <tr>\n",
              "      <th>12</th>\n",
              "      <td>business_or_commercial_b/c</td>\n",
              "      <td>0.003</td>\n",
              "    </tr>\n",
              "    <tr>\n",
              "      <th>14</th>\n",
              "      <td>Neg_ammortization_neg_amm</td>\n",
              "      <td>0.003</td>\n",
              "    </tr>\n",
              "    <tr>\n",
              "      <th>15</th>\n",
              "      <td>Neg_ammortization_not_neg</td>\n",
              "      <td>0.003</td>\n",
              "    </tr>\n",
              "    <tr>\n",
              "      <th>18</th>\n",
              "      <td>submission_of_application_not_inst</td>\n",
              "      <td>0.000</td>\n",
              "    </tr>\n",
              "  </tbody>\n",
              "</table>\n",
              "</div>"
            ],
            "text/plain": [
              "                             Predictor  importancia\n",
              "1                      Upfront_charges        0.423\n",
              "19   submission_of_application_to_inst        0.152\n",
              "3                                  LTV        0.109\n",
              "2                         Credit_Score        0.098\n",
              "4                                dtir1        0.083\n",
              "0                          loan_amount        0.073\n",
              "13        business_or_commercial_nob/c        0.009\n",
              "11                     loan_purpose_p4        0.007\n",
              "17        co-applicant_credit_type_EXP        0.007\n",
              "10                     loan_purpose_p3        0.006\n",
              "9                      loan_purpose_p1        0.006\n",
              "7                  approv_in_adv_nopre        0.004\n",
              "16        co-applicant_credit_type_CIB        0.004\n",
              "6                       loan_limit_ncf        0.003\n",
              "8                    approv_in_adv_pre        0.003\n",
              "5                        loan_limit_cf        0.003\n",
              "12          business_or_commercial_b/c        0.003\n",
              "14           Neg_ammortization_neg_amm        0.003\n",
              "15           Neg_ammortization_not_neg        0.003\n",
              "18  submission_of_application_not_inst        0.000"
            ]
          },
          "execution_count": 22,
          "metadata": {},
          "output_type": "execute_result"
        }
      ],
      "source": [
        "importances2 = pd.DataFrame({'Predictor':X_train.columns,'importancia':np.round(best_clf.feature_importances_,3)})\n",
        "importances2 = importances.sort_values('importancia',ascending=False)\n",
        "importances2"
      ]
    },
    {
      "cell_type": "code",
      "execution_count": null,
      "id": "ca64456c",
      "metadata": {
        "scrolled": true,
        "id": "ca64456c",
        "outputId": "46a1eb09-60e6-45fb-f0a2-a8975138c863"
      },
      "outputs": [
        {
          "name": "stdout",
          "output_type": "stream",
          "text": [
            "Matriz de Confusión:\n"
          ]
        },
        {
          "data": {
            "image/png": "[encoded data removed]",
            "text/plain": [
              "<Figure size 640x480 with 1 Axes>"
            ]
          },
          "metadata": {},
          "output_type": "display_data"
        }
      ],
      "source": [
        "matriz_final = confusion_matrix(y_test, y_pred)\n",
        "print('Matriz de Confusión:')\n",
        "\n",
        "\n",
        "## np.set_printoptions(suppress=True) # evita la notacion cientifica\n",
        "\n",
        "sns.heatmap(matriz, annot=True, fmt=\"d\", cmap=\"Blues\", cbar=False)\n",
        "plt.show()"
      ]
    },
    {
      "cell_type": "code",
      "execution_count": null,
      "id": "a87ea1f4",
      "metadata": {
        "id": "a87ea1f4",
        "outputId": "d8184291-fc80-438c-adf5-1041ff1744d9"
      },
      "outputs": [
        {
          "name": "stdout",
          "output_type": "stream",
          "text": [
            "Reporte de clasificación:\n",
            "              precision    recall  f1-score   support\n",
            "\n",
            "           0       0.98      0.92      0.95     20824\n",
            "           1       0.69      0.88      0.77      4064\n",
            "\n",
            "    accuracy                           0.92     24888\n",
            "   macro avg       0.83      0.90      0.86     24888\n",
            "weighted avg       0.93      0.92      0.92     24888\n",
            "\n"
          ]
        }
      ],
      "source": [
        "# Evaluar el rendimiento utilizando métricas de clasificación\n",
        "print(\"Reporte de clasificación:\")\n",
        "print(classification_report(y_test, y_pred))"
      ]
    },
    {
      "cell_type": "markdown",
      "id": "11e0d2ca",
      "metadata": {
        "id": "11e0d2ca"
      },
      "source": [
        "## Evaluación Post-Optimización de Hiperparámetros\n",
        "\n",
        "Después de haber realizado la optimización de hiperparámetros en nuestro modelo de Árbol de Decisión, hemos evaluado nuevamente su rendimiento. A continuación, se presentan los resultados:\n",
        "\n",
        "- Se ha evaluado una nueva matriz de confusión que muestra cómo el modelo clasifica las muestras en función de las etiquetas reales después de la optimización de hiperparámetros.\n",
        "\n",
        "- Se ha generado un nuevo reporte de clasificación que incluye métricas detalladas como precisión, recuperación, F1-score y soporte para cada clase.\n",
        "\n",
        "Los resultados muestran que, si bien hubo una mejora leve en el rendimiento del modelo después de la optimización de hiperparámetros, estos avances no son suficientes para cumplir con los objetivos establecidos en nuestro trabajo. Esto indica la necesidad de explorar otras estrategias, modelos o enfoques para abordar de manera efectiva la tarea de clasificación.\n",
        "\n",
        "Para eso abordaremos la implementación de un Bosque Aleatorio, desarrollado en un nuevo notebook\n"
      ]
    },
    {
      "cell_type": "code",
      "execution_count": null,
      "id": "ce151742",
      "metadata": {
        "id": "ce151742",
        "outputId": "3b1afb59-1486-4b2c-98ac-356339a782f0"
      },
      "outputs": [
        {
          "data": {
            "image/png": "[encoded data removed]",
            "text/plain": [
              "<Figure size 640x480 with 1 Axes>"
            ]
          },
          "metadata": {},
          "output_type": "display_data"
        }
      ],
      "source": [
        "from sklearn.metrics import RocCurveDisplay\n",
        "log_cor_est = RocCurveDisplay.from_estimator(best_clf,X_test, y_test)\n",
        "plt.show()"
      ]
    },
    {
      "cell_type": "code",
      "execution_count": null,
      "id": "0801b7fa",
      "metadata": {
        "id": "0801b7fa"
      },
      "outputs": [],
      "source": []
    }
  ],
  "metadata": {
    "kernelspec": {
      "display_name": "Python 3 (ipykernel)",
      "language": "python",
      "name": "python3"
    },
    "language_info": {
      "codemirror_mode": {
        "name": "ipython",
        "version": 3
      },
      "file_extension": ".py",
      "mimetype": "text/x-python",
      "name": "python",
      "nbconvert_exporter": "python",
      "pygments_lexer": "ipython3",
      "version": "3.11.5"
    },
    "colab": {
      "provenance": [],
      "include_colab_link": true
    }
  },
  "nbformat": 4,
  "nbformat_minor": 5
}
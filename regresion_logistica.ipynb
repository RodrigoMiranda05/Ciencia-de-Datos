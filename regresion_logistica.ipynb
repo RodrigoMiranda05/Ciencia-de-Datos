{
  "cells": [
    {
      "cell_type": "markdown",
      "metadata": {
        "id": "view-in-github",
        "colab_type": "text"
      },
      "source": [
        "<a href=\"https://colab.research.google.com/github/RodrigoMiranda05/Ciencia-de-Datos/blob/main/regresion_logistica.ipynb\" target=\"_parent\"><img src=\"https://colab.research.google.com/assets/colab-badge.svg\" alt=\"Open In Colab\"/></a>"
      ]
    },
    {
      "cell_type": "markdown",
      "id": "ea9355cb",
      "metadata": {
        "id": "ea9355cb"
      },
      "source": [
        "# Proyecto de Ciencia de Datos: Predicción de Incumplimiento de Préstamos Bancarios\n",
        "\n",
        "En este proyecto de ciencia de datos, abordaremos el desafiante problema de predecir el incumplimiento de préstamos bancarios. El incumplimiento de préstamos es un tema crítico en la industria financiera, y prever cuándo un prestatario puede incumplir es esencial para tomar decisiones financieras informadas y gestionar riesgos.\n",
        "\n",
        "## Regresión Logística en el Contexto de Incumplimiento de Préstamos\n",
        "\n",
        "Para abordar este desafío, implementaremos la regresión logística, una técnica de modelado estadístico ampliamente utilizada en ciencia de datos. La regresión logística es especialmente adecuada para problemas en los que la variable objetivo es categórica binaria, como \"Cumplimiento/Incumplimiento\". A continuación, proporcionamos una breve explicación de la regresión logística y por qué la implementamos en este caso:\n",
        "\n",
        "### ¿Qué es la Regresión Logística?\n",
        "\n",
        "La regresión logística es un método de modelado estadístico que se utiliza para predecir la probabilidad de que ocurra un evento en función de una o más variables independientes. A diferencia de la regresión lineal, que se utiliza para predecir valores continuos, la regresión logística se adapta a problemas de clasificación en los que la variable objetivo es binaria, es decir, toma dos valores, como \"Cumplimiento\" o \"Incumplimiento\".\n",
        "\n",
        "### ¿Por qué Implementar la Regresión Logística?\n",
        "\n",
        "En el contexto de incumplimiento de préstamos, la regresión logística se convierte en una herramienta valiosa para predecir si un prestatario cumplirá o incumplirá con sus pagos. Aquí están algunas de las razones por las que la implementamos:\n",
        "\n",
        "- **Interpretación Clara:** La regresión logística proporciona coeficientes que se pueden interpretar como el impacto de cada variable independiente en la probabilidad de incumplimiento.\n",
        "- **Modelado de Probabilidades:** La regresión logística modela directamente la probabilidad de incumplimiento, lo que es crucial en situaciones de toma de decisiones financieras.\n",
        "- **Eficiencia:** Es una técnica computacionalmente eficiente y se adapta bien a conjuntos de datos de gran tamaño.\n",
        "\n",
        "En este proyecto, utilizaremos la regresión logística como una de las primeras herramientas para abordar la predicción de incumplimiento de préstamos. Este es solo el comienzo de nuestro viaje en la ciencia de datos, y la regresión logística será una base sólida para futuras exploraciones y técnicas más avanzadas.\n"
      ]
    },
    {
      "cell_type": "markdown",
      "id": "5cadc7e1",
      "metadata": {
        "id": "5cadc7e1"
      },
      "source": [
        "## Importación de Bibliotecas y Configuración Inicial\n",
        "\n",
        "En esta sección, se realizan las importaciones de las bibliotecas necesarias para el proyecto de ciencia de datos. Estas bibliotecas son fundamentales para realizar análisis de datos, visualización y modelado. Aquí se mencionan algunas de las bibliotecas importadas:\n",
        "\n",
        "- **pandas:** Utilizada para la manipulación y análisis de datos. Pandas permite trabajar con conjuntos de datos de manera eficiente.\n",
        "- **numpy:** Ofrece funcionalidades para trabajar con matrices y operaciones numéricas.\n",
        "- **matplotlib y seaborn:** Estas bibliotecas se utilizan para crear gráficos y visualizaciones que ayudarán a comprender y comunicar los resultados del análisis.\n",
        "- **warnings:** Se configuran las advertencias para que no se muestren en la salida, lo que puede hacer que el entorno de trabajo sea más limpio.\n",
        "- **%matplotlib inline:** Esta línea de código permite que las visualizaciones se muestren directamente en el notebook.\n",
        "\n",
        "La importación de estas bibliotecas es el primer paso esencial en la preparación de un proyecto de ciencia de datos, ya que proporciona las herramientas necesarias para cargar, explorar y visualizar los datos. A medida que avancemos en el proyecto, estas bibliotecas serán fundamentales en nuestras tareas de análisis y modelado.\n"
      ]
    },
    {
      "cell_type": "code",
      "execution_count": null,
      "id": "3a10b40c",
      "metadata": {
        "id": "3a10b40c"
      },
      "outputs": [],
      "source": [
        "## importo las librerias necesarias\n",
        "import pandas as pd\n",
        "import numpy as np\n",
        "from pandas.core.frame import DataFrame\n",
        "\n",
        "import matplotlib.pyplot as plt\n",
        "from matplotlib import style\n",
        "import seaborn as sns\n",
        "\n",
        "import warnings\n",
        "warnings.filterwarnings('ignore')\n",
        "\n",
        "%matplotlib inline"
      ]
    },
    {
      "cell_type": "markdown",
      "id": "7c5efd9f",
      "metadata": {
        "id": "7c5efd9f"
      },
      "source": [
        "## Importación de Módulos de Machine Learning y Métricas de Evaluación\n",
        "\n",
        "En esta sección, importamos módulos relacionados con el aprendizaje automático y las métricas de evaluación necesarias para nuestro proyecto de predicción de incumplimiento de préstamos. A continuación, se describen brevemente los módulos importados:\n",
        "\n",
        "- **sklearn.linear_model:** Este módulo contiene la clase `LogisticRegression`, que se utilizará para implementar el modelo de regresión logística en nuestro proyecto. La regresión logística es un algoritmo de clasificación utilizado para predecir el incumplimiento de préstamos en este caso.\n",
        "\n",
        "- **sklearn.model_selection:** El módulo `train_test_split` se utiliza para dividir el conjunto de datos en conjuntos de entrenamiento y prueba, lo que es fundamental para evaluar el rendimiento del modelo.\n",
        "\n",
        "- **sklearn.metrics:** Importamos varias métricas de evaluación, como `accuracy_score`, `recall_score`, `precision_score`, `f1_score`, `roc_auc_score`, y `roc_curve`. Estas métricas nos permitirán evaluar la precisión y el rendimiento del modelo de regresión logística.\n",
        "\n",
        "- **statsmodels:** Se importan módulos relacionados con estadísticas y modelado, como `sm` y `smf`. Estos módulos pueden ser útiles para realizar análisis más avanzados y explorar la relación entre las variables independientes y el incumplimiento de préstamos.\n",
        "\n",
        "La importación de estos módulos y métricas es esencial para la implementación y evaluación del modelo de regresión logística. A medida que avancemos en el proyecto, utilizaremos estas herramientas para construir y evaluar nuestro modelo, así como para comprender mejor los resultados obtenidos.\n",
        "\n"
      ]
    },
    {
      "cell_type": "code",
      "execution_count": null,
      "id": "0690ba7a",
      "metadata": {
        "id": "0690ba7a"
      },
      "outputs": [],
      "source": [
        "from sklearn.linear_model import LogisticRegression\n",
        "from sklearn.model_selection import train_test_split\n",
        "from sklearn.metrics import accuracy_score\n",
        "import statsmodels.api as sm\n",
        "import statsmodels.formula.api as smf\n",
        "from statsmodels.stats.weightstats import ttest_ind\n",
        "from sklearn.metrics import accuracy_score, classification_report"
      ]
    },
    {
      "cell_type": "code",
      "execution_count": null,
      "id": "e079b228",
      "metadata": {
        "id": "e079b228"
      },
      "outputs": [],
      "source": [
        "from sklearn.metrics import accuracy_score, recall_score, precision_score, f1_score, roc_auc_score, roc_curve"
      ]
    },
    {
      "cell_type": "markdown",
      "id": "49a81c81",
      "metadata": {
        "id": "49a81c81"
      },
      "source": [
        "## Carga de Datos y Eliminación de Variables Correlacionadas\n",
        "\n",
        "En esta sección, se llevan a cabo dos tareas importantes:\n",
        "\n",
        "### 1. Carga de Datos\n",
        "Primero, se carga un conjunto de datos desde un archivo llamado 'datos_imputados.csv' utilizando la biblioteca pandas. La variable `df` (DataFrame) contiene los datos cargados. A continuación, se muestra una vista previa de las primeras filas del conjunto de datos utilizando `df.head()`, lo que nos permite inspeccionar los primeros registros.\n",
        "\n",
        "### 2. Eliminación de Variables Correlacionadas\n",
        "Luego, se procede a eliminar ciertas variables del conjunto de datos que se consideran correlacionadas. En este caso, se eliminan las columnas 'property_value' y 'income' utilizando el método `.drop()`. La eliminación de variables correlacionadas es un paso común en el preprocesamiento de datos para evitar la multicolinealidad y reducir la complejidad del modelo.\n",
        "\n",
        "Esta etapa es fundamental para garantizar que los datos estén en una forma adecuada para el análisis y la construcción del modelo de regresión logística. A medida que avanzamos en el proyecto, estos datos preprocesados se utilizarán para entrenar y evaluar el modelo.\n",
        "\n"
      ]
    },
    {
      "cell_type": "code",
      "execution_count": null,
      "id": "30491917",
      "metadata": {
        "scrolled": true,
        "id": "30491917",
        "outputId": "42ca5915-b824-4e4d-d21b-9f39ab686b01"
      },
      "outputs": [
        {
          "data": {
            "text/html": [
              "<div>\n",
              "<style scoped>\n",
              "    .dataframe tbody tr th:only-of-type {\n",
              "        vertical-align: middle;\n",
              "    }\n",
              "\n",
              "    .dataframe tbody tr th {\n",
              "        vertical-align: top;\n",
              "    }\n",
              "\n",
              "    .dataframe thead th {\n",
              "        text-align: right;\n",
              "    }\n",
              "</style>\n",
              "<table border=\"1\" class=\"dataframe\">\n",
              "  <thead>\n",
              "    <tr style=\"text-align: right;\">\n",
              "      <th></th>\n",
              "      <th>loan_limit</th>\n",
              "      <th>approv_in_adv</th>\n",
              "      <th>loan_purpose</th>\n",
              "      <th>business_or_commercial</th>\n",
              "      <th>loan_amount</th>\n",
              "      <th>Upfront_charges</th>\n",
              "      <th>Neg_ammortization</th>\n",
              "      <th>property_value</th>\n",
              "      <th>income</th>\n",
              "      <th>Credit_Score</th>\n",
              "      <th>co-applicant_credit_type</th>\n",
              "      <th>submission_of_application</th>\n",
              "      <th>LTV</th>\n",
              "      <th>Status</th>\n",
              "      <th>dtir1</th>\n",
              "    </tr>\n",
              "  </thead>\n",
              "  <tbody>\n",
              "    <tr>\n",
              "      <th>0</th>\n",
              "      <td>cf</td>\n",
              "      <td>nopre</td>\n",
              "      <td>p1</td>\n",
              "      <td>nob/c</td>\n",
              "      <td>116500</td>\n",
              "      <td>0.0</td>\n",
              "      <td>not_neg</td>\n",
              "      <td>118000.0</td>\n",
              "      <td>1740.0</td>\n",
              "      <td>758</td>\n",
              "      <td>CIB</td>\n",
              "      <td>to_inst</td>\n",
              "      <td>98.728814</td>\n",
              "      <td>1</td>\n",
              "      <td>45.0</td>\n",
              "    </tr>\n",
              "    <tr>\n",
              "      <th>1</th>\n",
              "      <td>cf</td>\n",
              "      <td>pre</td>\n",
              "      <td>p1</td>\n",
              "      <td>nob/c</td>\n",
              "      <td>406500</td>\n",
              "      <td>595.0</td>\n",
              "      <td>neg_amm</td>\n",
              "      <td>508000.0</td>\n",
              "      <td>9480.0</td>\n",
              "      <td>834</td>\n",
              "      <td>CIB</td>\n",
              "      <td>to_inst</td>\n",
              "      <td>80.019685</td>\n",
              "      <td>0</td>\n",
              "      <td>46.0</td>\n",
              "    </tr>\n",
              "    <tr>\n",
              "      <th>2</th>\n",
              "      <td>cf</td>\n",
              "      <td>nopre</td>\n",
              "      <td>p4</td>\n",
              "      <td>nob/c</td>\n",
              "      <td>456500</td>\n",
              "      <td>0.0</td>\n",
              "      <td>not_neg</td>\n",
              "      <td>658000.0</td>\n",
              "      <td>11880.0</td>\n",
              "      <td>587</td>\n",
              "      <td>CIB</td>\n",
              "      <td>not_inst</td>\n",
              "      <td>69.376900</td>\n",
              "      <td>0</td>\n",
              "      <td>42.0</td>\n",
              "    </tr>\n",
              "    <tr>\n",
              "      <th>3</th>\n",
              "      <td>cf</td>\n",
              "      <td>pre</td>\n",
              "      <td>p1</td>\n",
              "      <td>nob/c</td>\n",
              "      <td>696500</td>\n",
              "      <td>0.0</td>\n",
              "      <td>not_neg</td>\n",
              "      <td>758000.0</td>\n",
              "      <td>10440.0</td>\n",
              "      <td>602</td>\n",
              "      <td>EXP</td>\n",
              "      <td>not_inst</td>\n",
              "      <td>91.886544</td>\n",
              "      <td>0</td>\n",
              "      <td>39.0</td>\n",
              "    </tr>\n",
              "    <tr>\n",
              "      <th>4</th>\n",
              "      <td>cf</td>\n",
              "      <td>pre</td>\n",
              "      <td>p1</td>\n",
              "      <td>nob/c</td>\n",
              "      <td>706500</td>\n",
              "      <td>370.0</td>\n",
              "      <td>not_neg</td>\n",
              "      <td>1008000.0</td>\n",
              "      <td>10080.0</td>\n",
              "      <td>864</td>\n",
              "      <td>EXP</td>\n",
              "      <td>not_inst</td>\n",
              "      <td>70.089286</td>\n",
              "      <td>0</td>\n",
              "      <td>40.0</td>\n",
              "    </tr>\n",
              "  </tbody>\n",
              "</table>\n",
              "</div>"
            ],
            "text/plain": [
              "  loan_limit approv_in_adv loan_purpose business_or_commercial  loan_amount  \\\n",
              "0         cf         nopre           p1                  nob/c       116500   \n",
              "1         cf           pre           p1                  nob/c       406500   \n",
              "2         cf         nopre           p4                  nob/c       456500   \n",
              "3         cf           pre           p1                  nob/c       696500   \n",
              "4         cf           pre           p1                  nob/c       706500   \n",
              "\n",
              "   Upfront_charges Neg_ammortization  property_value   income  Credit_Score  \\\n",
              "0              0.0           not_neg        118000.0   1740.0           758   \n",
              "1            595.0           neg_amm        508000.0   9480.0           834   \n",
              "2              0.0           not_neg        658000.0  11880.0           587   \n",
              "3              0.0           not_neg        758000.0  10440.0           602   \n",
              "4            370.0           not_neg       1008000.0  10080.0           864   \n",
              "\n",
              "  co-applicant_credit_type submission_of_application        LTV  Status  dtir1  \n",
              "0                      CIB                   to_inst  98.728814       1   45.0  \n",
              "1                      CIB                   to_inst  80.019685       0   46.0  \n",
              "2                      CIB                  not_inst  69.376900       0   42.0  \n",
              "3                      EXP                  not_inst  91.886544       0   39.0  \n",
              "4                      EXP                  not_inst  70.089286       0   40.0  "
            ]
          },
          "execution_count": 5,
          "metadata": {},
          "output_type": "execute_result"
        }
      ],
      "source": [
        "df = pd.read_csv('datos_imputados.csv')\n",
        "df.head()"
      ]
    },
    {
      "cell_type": "code",
      "execution_count": null,
      "id": "2b3f6abc",
      "metadata": {
        "scrolled": true,
        "id": "2b3f6abc"
      },
      "outputs": [],
      "source": [
        "# descarto las variables que estan correlacionadas\n",
        "df = df.drop(['property_value', 'income' ], axis = 1 )\n"
      ]
    },
    {
      "cell_type": "markdown",
      "id": "413b7c4d",
      "metadata": {
        "id": "413b7c4d"
      },
      "source": [
        "## Codificación One-Hot de Variables Categóricas\n",
        "\n",
        "En esta sección, se realiza la codificación one-hot de las variables categóricas en el conjunto de datos. Esto es un paso común en la preparación de datos para modelos de machine learning, como la regresión logística.\n",
        "\n",
        "### 1. Identificación de Columnas Categóricas\n",
        "Se comienza obteniendo una lista de las columnas que son de tipo categórico utilizando la función `.select_dtypes(include=['object'])`. Estas columnas categóricas se almacenan en la variable `columnas_categoricas`.\n",
        "\n",
        "### 2. Aplicación de Codificación One-Hot\n",
        "A continuación, se aplica la codificación one-hot a las columnas categóricas en el DataFrame `df` utilizando la función `pd.get_dummies()`. La codificación one-hot convierte las variables categóricas en un conjunto de variables binarias (0 o 1) que representan la presencia o ausencia de una categoría particular. Esto permite que el modelo de regresión logística trabaje con estas variables categóricas de manera efectiva.\n",
        "\n",
        "Este paso es esencial para asegurarnos de que todas las variables sean numéricas y estén listas para su uso en el modelo de regresión logística.\n",
        "\n"
      ]
    },
    {
      "cell_type": "code",
      "execution_count": null,
      "id": "eb1f41c6",
      "metadata": {
        "id": "eb1f41c6"
      },
      "outputs": [],
      "source": [
        "# Obtén una lista de las columnas categóricas\n",
        "columnas_categoricas = df.select_dtypes(include=['object']).columns.tolist()"
      ]
    },
    {
      "cell_type": "code",
      "execution_count": null,
      "id": "02e37965",
      "metadata": {
        "id": "02e37965"
      },
      "outputs": [],
      "source": [
        "# Aplica one-hot encoding solo a las columnas categóricas\n",
        "df = pd.get_dummies(df, columns=columnas_categoricas)"
      ]
    },
    {
      "cell_type": "code",
      "execution_count": null,
      "id": "12acf8ac",
      "metadata": {
        "scrolled": true,
        "id": "12acf8ac",
        "outputId": "13c4a208-5f67-4016-da5e-ccf384d1a217"
      },
      "outputs": [
        {
          "data": {
            "text/html": [
              "<div>\n",
              "<style scoped>\n",
              "    .dataframe tbody tr th:only-of-type {\n",
              "        vertical-align: middle;\n",
              "    }\n",
              "\n",
              "    .dataframe tbody tr th {\n",
              "        vertical-align: top;\n",
              "    }\n",
              "\n",
              "    .dataframe thead th {\n",
              "        text-align: right;\n",
              "    }\n",
              "</style>\n",
              "<table border=\"1\" class=\"dataframe\">\n",
              "  <thead>\n",
              "    <tr style=\"text-align: right;\">\n",
              "      <th></th>\n",
              "      <th>loan_amount</th>\n",
              "      <th>Upfront_charges</th>\n",
              "      <th>Credit_Score</th>\n",
              "      <th>LTV</th>\n",
              "      <th>Status</th>\n",
              "      <th>dtir1</th>\n",
              "      <th>loan_limit_cf</th>\n",
              "      <th>loan_limit_ncf</th>\n",
              "      <th>approv_in_adv_nopre</th>\n",
              "      <th>approv_in_adv_pre</th>\n",
              "      <th>...</th>\n",
              "      <th>loan_purpose_p3</th>\n",
              "      <th>loan_purpose_p4</th>\n",
              "      <th>business_or_commercial_b/c</th>\n",
              "      <th>business_or_commercial_nob/c</th>\n",
              "      <th>Neg_ammortization_neg_amm</th>\n",
              "      <th>Neg_ammortization_not_neg</th>\n",
              "      <th>co-applicant_credit_type_CIB</th>\n",
              "      <th>co-applicant_credit_type_EXP</th>\n",
              "      <th>submission_of_application_not_inst</th>\n",
              "      <th>submission_of_application_to_inst</th>\n",
              "    </tr>\n",
              "  </thead>\n",
              "  <tbody>\n",
              "    <tr>\n",
              "      <th>0</th>\n",
              "      <td>116500</td>\n",
              "      <td>0.0</td>\n",
              "      <td>758</td>\n",
              "      <td>98.728814</td>\n",
              "      <td>1</td>\n",
              "      <td>45.0</td>\n",
              "      <td>True</td>\n",
              "      <td>False</td>\n",
              "      <td>True</td>\n",
              "      <td>False</td>\n",
              "      <td>...</td>\n",
              "      <td>False</td>\n",
              "      <td>False</td>\n",
              "      <td>False</td>\n",
              "      <td>True</td>\n",
              "      <td>False</td>\n",
              "      <td>True</td>\n",
              "      <td>True</td>\n",
              "      <td>False</td>\n",
              "      <td>False</td>\n",
              "      <td>True</td>\n",
              "    </tr>\n",
              "    <tr>\n",
              "      <th>1</th>\n",
              "      <td>406500</td>\n",
              "      <td>595.0</td>\n",
              "      <td>834</td>\n",
              "      <td>80.019685</td>\n",
              "      <td>0</td>\n",
              "      <td>46.0</td>\n",
              "      <td>True</td>\n",
              "      <td>False</td>\n",
              "      <td>False</td>\n",
              "      <td>True</td>\n",
              "      <td>...</td>\n",
              "      <td>False</td>\n",
              "      <td>False</td>\n",
              "      <td>False</td>\n",
              "      <td>True</td>\n",
              "      <td>True</td>\n",
              "      <td>False</td>\n",
              "      <td>True</td>\n",
              "      <td>False</td>\n",
              "      <td>False</td>\n",
              "      <td>True</td>\n",
              "    </tr>\n",
              "    <tr>\n",
              "      <th>2</th>\n",
              "      <td>456500</td>\n",
              "      <td>0.0</td>\n",
              "      <td>587</td>\n",
              "      <td>69.376900</td>\n",
              "      <td>0</td>\n",
              "      <td>42.0</td>\n",
              "      <td>True</td>\n",
              "      <td>False</td>\n",
              "      <td>True</td>\n",
              "      <td>False</td>\n",
              "      <td>...</td>\n",
              "      <td>False</td>\n",
              "      <td>True</td>\n",
              "      <td>False</td>\n",
              "      <td>True</td>\n",
              "      <td>False</td>\n",
              "      <td>True</td>\n",
              "      <td>True</td>\n",
              "      <td>False</td>\n",
              "      <td>True</td>\n",
              "      <td>False</td>\n",
              "    </tr>\n",
              "    <tr>\n",
              "      <th>3</th>\n",
              "      <td>696500</td>\n",
              "      <td>0.0</td>\n",
              "      <td>602</td>\n",
              "      <td>91.886544</td>\n",
              "      <td>0</td>\n",
              "      <td>39.0</td>\n",
              "      <td>True</td>\n",
              "      <td>False</td>\n",
              "      <td>False</td>\n",
              "      <td>True</td>\n",
              "      <td>...</td>\n",
              "      <td>False</td>\n",
              "      <td>False</td>\n",
              "      <td>False</td>\n",
              "      <td>True</td>\n",
              "      <td>False</td>\n",
              "      <td>True</td>\n",
              "      <td>False</td>\n",
              "      <td>True</td>\n",
              "      <td>True</td>\n",
              "      <td>False</td>\n",
              "    </tr>\n",
              "    <tr>\n",
              "      <th>4</th>\n",
              "      <td>706500</td>\n",
              "      <td>370.0</td>\n",
              "      <td>864</td>\n",
              "      <td>70.089286</td>\n",
              "      <td>0</td>\n",
              "      <td>40.0</td>\n",
              "      <td>True</td>\n",
              "      <td>False</td>\n",
              "      <td>False</td>\n",
              "      <td>True</td>\n",
              "      <td>...</td>\n",
              "      <td>False</td>\n",
              "      <td>False</td>\n",
              "      <td>False</td>\n",
              "      <td>True</td>\n",
              "      <td>False</td>\n",
              "      <td>True</td>\n",
              "      <td>False</td>\n",
              "      <td>True</td>\n",
              "      <td>True</td>\n",
              "      <td>False</td>\n",
              "    </tr>\n",
              "  </tbody>\n",
              "</table>\n",
              "<p>5 rows × 21 columns</p>\n",
              "</div>"
            ],
            "text/plain": [
              "   loan_amount  Upfront_charges  Credit_Score        LTV  Status  dtir1  \\\n",
              "0       116500              0.0           758  98.728814       1   45.0   \n",
              "1       406500            595.0           834  80.019685       0   46.0   \n",
              "2       456500              0.0           587  69.376900       0   42.0   \n",
              "3       696500              0.0           602  91.886544       0   39.0   \n",
              "4       706500            370.0           864  70.089286       0   40.0   \n",
              "\n",
              "   loan_limit_cf  loan_limit_ncf  approv_in_adv_nopre  approv_in_adv_pre  ...  \\\n",
              "0           True           False                 True              False  ...   \n",
              "1           True           False                False               True  ...   \n",
              "2           True           False                 True              False  ...   \n",
              "3           True           False                False               True  ...   \n",
              "4           True           False                False               True  ...   \n",
              "\n",
              "   loan_purpose_p3  loan_purpose_p4  business_or_commercial_b/c  \\\n",
              "0            False            False                       False   \n",
              "1            False            False                       False   \n",
              "2            False             True                       False   \n",
              "3            False            False                       False   \n",
              "4            False            False                       False   \n",
              "\n",
              "   business_or_commercial_nob/c  Neg_ammortization_neg_amm  \\\n",
              "0                          True                      False   \n",
              "1                          True                       True   \n",
              "2                          True                      False   \n",
              "3                          True                      False   \n",
              "4                          True                      False   \n",
              "\n",
              "   Neg_ammortization_not_neg  co-applicant_credit_type_CIB  \\\n",
              "0                       True                          True   \n",
              "1                      False                          True   \n",
              "2                       True                          True   \n",
              "3                       True                         False   \n",
              "4                       True                         False   \n",
              "\n",
              "   co-applicant_credit_type_EXP  submission_of_application_not_inst  \\\n",
              "0                         False                               False   \n",
              "1                         False                               False   \n",
              "2                         False                                True   \n",
              "3                          True                                True   \n",
              "4                          True                                True   \n",
              "\n",
              "   submission_of_application_to_inst  \n",
              "0                               True  \n",
              "1                               True  \n",
              "2                              False  \n",
              "3                              False  \n",
              "4                              False  \n",
              "\n",
              "[5 rows x 21 columns]"
            ]
          },
          "execution_count": 7,
          "metadata": {},
          "output_type": "execute_result"
        }
      ],
      "source": [
        "df.head()"
      ]
    },
    {
      "cell_type": "markdown",
      "id": "0c122780",
      "metadata": {
        "id": "0c122780"
      },
      "source": [
        "## Preparación de Datos para el Modelo\n",
        "\n",
        "En esta sección, se llevan a cabo varios pasos esenciales para preparar los datos antes de construir y entrenar el modelo de regresión logística.\n",
        "\n",
        "### 1. Separación de Variables Dependientes e Independientes\n",
        "Se divide el conjunto de datos en dos partes: `X` y `y`.\n",
        "- `X` contiene todas las variables independientes (características) que se utilizarán para predecir la variable objetivo 'Status'.\n",
        "- `y` contiene la variable objetivo 'Status', que indica si un préstamo está en cumplimiento o incumplimiento.\n",
        "\n",
        "### 2. Estandarización de Variables\n",
        "La estandarización es un proceso importante para asegurarse de que todas las variables tengan una escala similar. Esto es crucial para modelos que utilizan medidas de distancia, como la regresión logística. Se utiliza la clase `StandardScaler` de sklearn para estandarizar las variables en `X`. Esto garantiza que todas las variables tengan media cero y desviación estándar uno.\n",
        "\n",
        "### 3. División en Conjuntos de Entrenamiento y Prueba\n",
        "Se divide el conjunto de datos estandarizado en conjuntos de entrenamiento y prueba. Esto se hace utilizando la función `train_test_split` de sklearn.\n",
        "- `X_train` y `y_train` son los datos de entrenamiento que se utilizarán para entrenar el modelo.\n",
        "- `X_test` y `y_test` son los datos de prueba que se utilizarán para evaluar el rendimiento del modelo.\n",
        "\n",
        "La estratificación se ha configurado con `stratify=y` para asegurarse de que la distribución de las clases en los conjuntos de entrenamiento y prueba sea similar. Esto es especialmente importante en problemas de clasificación binaria para evitar desequilibrios.\n",
        "\n",
        "Con estos pasos, los datos están listos para ser utilizados en la construcción y entrenamiento del modelo de regresión logística. A medida que continuemos con el proyecto, se utilizarán estos conjuntos de datos para ajustar y evaluar el modelo.\n",
        "\n"
      ]
    },
    {
      "cell_type": "code",
      "execution_count": null,
      "id": "55c35cdf",
      "metadata": {
        "id": "55c35cdf"
      },
      "outputs": [],
      "source": [
        "X = df.drop('Status', axis=1)\n",
        "y = df['Status']"
      ]
    },
    {
      "cell_type": "code",
      "execution_count": null,
      "id": "f591c2c1",
      "metadata": {
        "id": "f591c2c1"
      },
      "outputs": [],
      "source": [
        "from sklearn.preprocessing import StandardScaler\n",
        "\n",
        "# Crear un objeto StandardScaler\n",
        "scaler = StandardScaler()\n",
        "\n",
        "# Aplicar la estandarización a todas las variables en X\n",
        "X_estandarizado = scaler.fit_transform(X)"
      ]
    },
    {
      "cell_type": "code",
      "execution_count": null,
      "id": "45f0da7b",
      "metadata": {
        "id": "45f0da7b",
        "outputId": "d5a0e70c-fe8e-4861-a86a-e830377b90dc"
      },
      "outputs": [
        {
          "data": {
            "text/plain": [
              "array([[-1.16500975, -0.85140264,  0.50246263, ..., -0.8796846 ,\n",
              "        -0.7478129 ,  0.7478129 ],\n",
              "       [ 0.42588778, -0.6674507 ,  1.15861229, ..., -0.8796846 ,\n",
              "        -0.7478129 ,  0.7478129 ],\n",
              "       [ 0.70018046, -0.85140264, -0.97387412, ..., -0.8796846 ,\n",
              "         1.33723289, -1.33723289],\n",
              "       ...,\n",
              "       [ 0.64532192, -0.47217104,  0.01898393, ...,  1.13677107,\n",
              "         1.33723289, -1.33723289],\n",
              "       [-0.72614146,  0.48521067,  0.32115811, ...,  1.13677107,\n",
              "        -0.7478129 ,  0.7478129 ],\n",
              "       [ 0.42588778,  1.00357486,  1.1240781 , ..., -0.8796846 ,\n",
              "         1.33723289, -1.33723289]])"
            ]
          },
          "execution_count": 11,
          "metadata": {},
          "output_type": "execute_result"
        }
      ],
      "source": [
        "X_estandarizado"
      ]
    },
    {
      "cell_type": "code",
      "execution_count": null,
      "id": "ac3e14e3",
      "metadata": {
        "id": "ac3e14e3"
      },
      "outputs": [],
      "source": [
        "X_train, X_test, y_train, y_test = train_test_split(X_estandarizado, y, test_size=0.3, random_state=42, stratify=y)"
      ]
    },
    {
      "cell_type": "code",
      "execution_count": null,
      "id": "abc1a019",
      "metadata": {
        "scrolled": true,
        "id": "abc1a019",
        "outputId": "36ffcff4-279b-4ef5-c000-fd8a150201c5"
      },
      "outputs": [
        {
          "data": {
            "image/png": "[encoded data removed]",
            "text/plain": [
              "<Figure size 640x480 with 1 Axes>"
            ]
          },
          "metadata": {},
          "output_type": "display_data"
        }
      ],
      "source": [
        "# Calcula la cantidad de muestras en cada clase\n",
        "unique, counts = np.unique(y_test, return_counts=True)\n",
        "\n",
        "# Crea un gráfico de barras para visualizar la distribución\n",
        "plt.bar(unique, counts)\n",
        "plt.xticks(unique)  # Etiquetas en el eje x\n",
        "\n",
        "# Puedes agregar etiquetas a los ejes y un título\n",
        "plt.xlabel(\"Clases\")\n",
        "plt.ylabel(\"Número de muestras\")\n",
        "plt.title(\"Distribución de clases en y_test\")\n",
        "\n",
        "# Muestra el gráfico\n",
        "plt.show()"
      ]
    },
    {
      "cell_type": "markdown",
      "id": "f2a6ebea",
      "metadata": {
        "id": "f2a6ebea"
      },
      "source": [
        "## Construcción y Entrenamiento del Modelo de Regresión Logística\n",
        "\n",
        "En esta sección, se procede a construir y entrenar el modelo de regresión logística para predecir el incumplimiento de préstamos.\n",
        "\n",
        "### 1. Creación de una Instancia del Modelo\n",
        "Se crea una instancia del modelo de regresión logística utilizando la clase `LogisticRegression` de sklearn. Esta instancia del modelo servirá para realizar predicciones.\n",
        "\n",
        "### 2. Entrenamiento del Modelo\n",
        "Luego, el modelo se entrena utilizando los datos de entrenamiento `X_train` y `y_train`. Durante el entrenamiento, el modelo aprenderá a ajustar los coeficientes de regresión para realizar predicciones basadas en las características de entrada y la variable objetivo.\n",
        "\n",
        "### 3. Realización de Predicciones\n",
        "Una vez entrenado, el modelo se utiliza para realizar predicciones en los datos de prueba `X_test`. Las predicciones se almacenan en la variable `y_pred`.\n",
        "\n",
        "Con estos pasos, el modelo de regresión logística ha sido entrenado y está listo para ser evaluado. Las predicciones se utilizarán para medir el rendimiento del modelo y determinar su capacidad para predecir el incumplimiento de préstamos.\n"
      ]
    },
    {
      "cell_type": "code",
      "execution_count": null,
      "id": "2e846226",
      "metadata": {
        "id": "2e846226"
      },
      "outputs": [],
      "source": [
        "# Crea una instancia del modelo de regresión logística\n",
        "model = LogisticRegression()"
      ]
    },
    {
      "cell_type": "code",
      "execution_count": null,
      "id": "29cca713",
      "metadata": {
        "id": "29cca713",
        "outputId": "b40b18ca-6641-4987-de58-a4f1c4e1c10e"
      },
      "outputs": [
        {
          "data": {
            "text/html": [
              "<style>#sk-container-id-1 {color: black;}#sk-container-id-1 pre{padding: 0;}#sk-container-id-1 div.sk-toggleable {background-color: white;}#sk-container-id-1 label.sk-toggleable__label {cursor: pointer;display: block;width: 100%;margin-bottom: 0;padding: 0.3em;box-sizing: border-box;text-align: center;}#sk-container-id-1 label.sk-toggleable__label-arrow:before {content: \"▸\";float: left;margin-right: 0.25em;color: #696969;}#sk-container-id-1 label.sk-toggleable__label-arrow:hover:before {color: black;}#sk-container-id-1 div.sk-estimator:hover label.sk-toggleable__label-arrow:before {color: black;}#sk-container-id-1 div.sk-toggleable__content {max-height: 0;max-width: 0;overflow: hidden;text-align: left;background-color: #f0f8ff;}#sk-container-id-1 div.sk-toggleable__content pre {margin: 0.2em;color: black;border-radius: 0.25em;background-color: #f0f8ff;}#sk-container-id-1 input.sk-toggleable__control:checked~div.sk-toggleable__content {max-height: 200px;max-width: 100%;overflow: auto;}#sk-container-id-1 input.sk-toggleable__control:checked~label.sk-toggleable__label-arrow:before {content: \"▾\";}#sk-container-id-1 div.sk-estimator input.sk-toggleable__control:checked~label.sk-toggleable__label {background-color: #d4ebff;}#sk-container-id-1 div.sk-label input.sk-toggleable__control:checked~label.sk-toggleable__label {background-color: #d4ebff;}#sk-container-id-1 input.sk-hidden--visually {border: 0;clip: rect(1px 1px 1px 1px);clip: rect(1px, 1px, 1px, 1px);height: 1px;margin: -1px;overflow: hidden;padding: 0;position: absolute;width: 1px;}#sk-container-id-1 div.sk-estimator {font-family: monospace;background-color: #f0f8ff;border: 1px dotted black;border-radius: 0.25em;box-sizing: border-box;margin-bottom: 0.5em;}#sk-container-id-1 div.sk-estimator:hover {background-color: #d4ebff;}#sk-container-id-1 div.sk-parallel-item::after {content: \"\";width: 100%;border-bottom: 1px solid gray;flex-grow: 1;}#sk-container-id-1 div.sk-label:hover label.sk-toggleable__label {background-color: #d4ebff;}#sk-container-id-1 div.sk-serial::before {content: \"\";position: absolute;border-left: 1px solid gray;box-sizing: border-box;top: 0;bottom: 0;left: 50%;z-index: 0;}#sk-container-id-1 div.sk-serial {display: flex;flex-direction: column;align-items: center;background-color: white;padding-right: 0.2em;padding-left: 0.2em;position: relative;}#sk-container-id-1 div.sk-item {position: relative;z-index: 1;}#sk-container-id-1 div.sk-parallel {display: flex;align-items: stretch;justify-content: center;background-color: white;position: relative;}#sk-container-id-1 div.sk-item::before, #sk-container-id-1 div.sk-parallel-item::before {content: \"\";position: absolute;border-left: 1px solid gray;box-sizing: border-box;top: 0;bottom: 0;left: 50%;z-index: -1;}#sk-container-id-1 div.sk-parallel-item {display: flex;flex-direction: column;z-index: 1;position: relative;background-color: white;}#sk-container-id-1 div.sk-parallel-item:first-child::after {align-self: flex-end;width: 50%;}#sk-container-id-1 div.sk-parallel-item:last-child::after {align-self: flex-start;width: 50%;}#sk-container-id-1 div.sk-parallel-item:only-child::after {width: 0;}#sk-container-id-1 div.sk-dashed-wrapped {border: 1px dashed gray;margin: 0 0.4em 0.5em 0.4em;box-sizing: border-box;padding-bottom: 0.4em;background-color: white;}#sk-container-id-1 div.sk-label label {font-family: monospace;font-weight: bold;display: inline-block;line-height: 1.2em;}#sk-container-id-1 div.sk-label-container {text-align: center;}#sk-container-id-1 div.sk-container {/* jupyter's `normalize.less` sets `[hidden] { display: none; }` but bootstrap.min.css set `[hidden] { display: none !important; }` so we also need the `!important` here to be able to override the default hidden behavior on the sphinx rendered scikit-learn.org. See: https://github.com/scikit-learn/scikit-learn/issues/21755 */display: inline-block !important;position: relative;}#sk-container-id-1 div.sk-text-repr-fallback {display: none;}</style><div id=\"sk-container-id-1\" class=\"sk-top-container\"><div class=\"sk-text-repr-fallback\"><pre>LogisticRegression()</pre><b>In a Jupyter environment, please rerun this cell to show the HTML representation or trust the notebook. <br />On GitHub, the HTML representation is unable to render, please try loading this page with nbviewer.org.</b></div><div class=\"sk-container\" hidden><div class=\"sk-item\"><div class=\"sk-estimator sk-toggleable\"><input class=\"sk-toggleable__control sk-hidden--visually\" id=\"sk-estimator-id-1\" type=\"checkbox\" checked><label for=\"sk-estimator-id-1\" class=\"sk-toggleable__label sk-toggleable__label-arrow\">LogisticRegression</label><div class=\"sk-toggleable__content\"><pre>LogisticRegression()</pre></div></div></div></div></div>"
            ],
            "text/plain": [
              "LogisticRegression()"
            ]
          },
          "execution_count": 14,
          "metadata": {},
          "output_type": "execute_result"
        }
      ],
      "source": [
        "# Entrena el modelo utilizando los datos de entrenamiento\n",
        "model.fit(X_train, y_train)"
      ]
    },
    {
      "cell_type": "code",
      "execution_count": null,
      "id": "df237a5c",
      "metadata": {
        "id": "df237a5c"
      },
      "outputs": [],
      "source": [
        "# Realiza predicciones en los datos de prueba\n",
        "y_pred = model.predict(X_test)"
      ]
    },
    {
      "cell_type": "markdown",
      "id": "fcff7485",
      "metadata": {
        "id": "fcff7485"
      },
      "source": [
        "## Evaluación del Modelo con Matriz de Confusión\n",
        "\n",
        "La matriz de confusión es una herramienta fundamental en la evaluación de modelos de clasificación y se utiliza para resumir el rendimiento de un modelo en términos de sus predicciones. Proporciona información detallada sobre las predicciones correctas e incorrectas realizadas por el modelo.\n",
        "\n",
        "### 1. Cálculo de la Matriz de Confusión\n",
        "Se utiliza la función `confusion_matrix` de sklearn para calcular la matriz de confusión. Esta matriz es una tabla que organiza las predicciones del modelo en cuatro categorías:\n",
        "- Verdaderos positivos (TP): Predicciones correctas de casos positivos.\n",
        "- Verdaderos negativos (TN): Predicciones correctas de casos negativos.\n",
        "- Falsos positivos (FP): Predicciones incorrectas de casos negativos (clasificados incorrectamente como positivos).\n",
        "- Falsos negativos (FN): Predicciones incorrectas de casos positivos (clasificados incorrectamente como negativos).\n",
        "\n",
        "### 2. Visualización de la Matriz de Confusión\n",
        "Se utiliza la biblioteca seaborn para visualizar la matriz de confusión. La matriz se representa como un gráfico de calor (heatmap). Los valores en la matriz se muestran con anotaciones para resaltar la cantidad de predicciones en cada categoría. Los colores y sombreado del heatmap facilitan la interpretación de la matriz.\n",
        "\n",
        "La matriz de confusión es una herramienta esencial para comprender cómo se desempeña el modelo en términos de precisión y errores, lo que es crucial para la toma de decisiones informadas en problemas de clasificación.\n",
        "\n",
        "Si tienes más código o pasos que deseas que explique o si necesitas continuar con tu proyecto, por favor, indícamelo. Estoy aquí para ayudarte en cada etapa de tu proyecto.\n"
      ]
    },
    {
      "cell_type": "code",
      "execution_count": null,
      "id": "f36aaaf6",
      "metadata": {
        "scrolled": true,
        "id": "f36aaaf6",
        "outputId": "cb3bc856-c230-477b-dd13-12332c618c4d"
      },
      "outputs": [
        {
          "name": "stdout",
          "output_type": "stream",
          "text": [
            "Matriz de Confusión:\n"
          ]
        },
        {
          "data": {
            "image/png": "[encoded data removed]",
            "text/plain": [
              "<Figure size 640x480 with 1 Axes>"
            ]
          },
          "metadata": {},
          "output_type": "display_data"
        }
      ],
      "source": [
        "from sklearn.metrics import confusion_matrix\n",
        "\n",
        "matriz = confusion_matrix(y_test, y_pred)\n",
        "print('Matriz de Confusión:')\n",
        "\n",
        "## np.set_printoptions(suppress=True) # evita la notacion cientifica\n",
        "\n",
        "sns.heatmap(matriz, annot=True, fmt=\"d\", cmap=\"Blues\", cbar=False)\n",
        "plt.show()"
      ]
    },
    {
      "cell_type": "markdown",
      "id": "fcb8fabd",
      "metadata": {
        "id": "fcb8fabd"
      },
      "source": [
        "## Evaluación del Modelo: Precisión y Puntaje F1\n",
        "\n",
        "En esta sección, se calculan dos métricas clave para evaluar el rendimiento del modelo de regresión logística en la predicción del incumplimiento de préstamos.\n",
        "\n",
        "### 1. Precisión (Accuracy)\n",
        "La precisión se calcula utilizando la función `accuracy_score` de sklearn. Esta métrica mide la proporción de predicciones correctas en relación con el total de predicciones. En el contexto de incumplimiento de préstamos, la precisión se refiere a la proporción de préstamos clasificados correctamente, ya sea como \"cumplimiento\" o \"incumplimiento\". Una precisión alta indica que el modelo realiza predicciones precisas.\n",
        "\n",
        "### 2. Puntaje F1 (F1 Score)\n",
        "El puntaje F1 se calcula utilizando la función `f1_score` de sklearn. Esta métrica es una medida de la precisión y la exhaustividad (recall) del modelo. El puntaje F1 tiene en cuenta tanto los falsos positivos como los falsos negativos y proporciona una métrica equilibrada. Es especialmente útil cuando hay un desequilibrio entre las clases, como en el caso de incumplimiento de préstamos.\n",
        "\n",
        "Ambas métricas son fundamentales para evaluar el rendimiento del modelo y comprender su capacidad para realizar predicciones precisas en el problema de clasificación binaria.\n",
        "\n",
        "Al evaluar el rendimiento del modelo de regresión logística, observamos los siguientes resultados:\n",
        "\n",
        "- **Precisión (Accuracy):** 92.24%\n",
        "- **Puntaje F1 (F1 Score):** 76.75%\n",
        "\n",
        "Si bien la precisión del modelo es relativamente alta, con un 92.24%, el puntaje F1 de 76.75% sugiere que hay margen de mejora en términos de la capacidad del modelo para equilibrar la precisión y la exhaustividad. Un puntaje F1 más bajo podría indicar que el modelo está teniendo dificultades para lidiar con los falsos positivos y falsos negativos, lo que podría ser crítico en un problema de incumplimiento de préstamos.\n",
        "\n",
        "Es importante considerar que, en el contexto de incumplimiento de préstamos, los falsos negativos (casos de incumplimiento clasificados como cumplimiento) pueden tener consecuencias financieras significativas. Por lo tanto, es fundamental mejorar la capacidad del modelo para identificar estos casos.\n",
        "\n",
        "Para mejorar el rendimiento del modelo, podríamos considerar ajustar hiperparámetros, explorar otras técnicas de modelado o abordar el desequilibrio de clases, si es relevante.\n"
      ]
    },
    {
      "cell_type": "code",
      "execution_count": null,
      "id": "b81aeae1",
      "metadata": {
        "id": "b81aeae1",
        "outputId": "9a99bc5c-2d4c-44d8-884e-c031be3347c8"
      },
      "outputs": [
        {
          "name": "stdout",
          "output_type": "stream",
          "text": [
            "accuracy:  0.922452587592414\n"
          ]
        }
      ],
      "source": [
        "print('accuracy: ', accuracy_score(y_test,y_pred))"
      ]
    },
    {
      "cell_type": "code",
      "execution_count": null,
      "id": "1563eb68",
      "metadata": {
        "id": "1563eb68",
        "outputId": "2e6a89f2-4539-4558-b8de-5a94994ed262"
      },
      "outputs": [
        {
          "name": "stdout",
          "output_type": "stream",
          "text": [
            "f1Score:  0.7674885551361337\n"
          ]
        }
      ],
      "source": [
        "print('f1Score: ', f1_score(y_test,y_pred))"
      ]
    },
    {
      "cell_type": "code",
      "execution_count": null,
      "id": "f2bdd82c",
      "metadata": {
        "scrolled": true,
        "id": "f2bdd82c",
        "outputId": "6debc097-7232-4172-91d4-a9519f3541e5"
      },
      "outputs": [
        {
          "name": "stdout",
          "output_type": "stream",
          "text": [
            "Reporte de clasificación:\n",
            "              precision    recall  f1-score   support\n",
            "\n",
            "           0       0.96      0.95      0.95     31236\n",
            "           1       0.75      0.78      0.77      6096\n",
            "\n",
            "    accuracy                           0.92     37332\n",
            "   macro avg       0.85      0.87      0.86     37332\n",
            "weighted avg       0.92      0.92      0.92     37332\n",
            "\n"
          ]
        }
      ],
      "source": [
        "# Paso 5: Evaluar el rendimiento utilizando métricas de clasificación\n",
        "print(\"Reporte de clasificación:\")\n",
        "print(classification_report(y_test, y_pred))"
      ]
    },
    {
      "cell_type": "markdown",
      "id": "91cd0148",
      "metadata": {
        "id": "91cd0148"
      },
      "source": [
        "## Ajuste de Hiperparámetros y Búsqueda en Rejilla\n",
        "\n",
        "En esta sección, se lleva a cabo una búsqueda de hiperparámetros para el modelo de regresión logística con el objetivo de mejorar su rendimiento, específicamente enfocándose en el puntaje F1. El proceso incluye lo siguiente:\n",
        "\n",
        "### 1. Definición de Hiperparámetros\n",
        "- Se crea una instancia del modelo de regresión logística llamada `logistic`.\n",
        "- Se utiliza el método `get_params()` para obtener una lista de los hiperparámetros ajustables disponibles para el modelo.\n",
        "\n",
        "### 2. Especificación de Parámetros de Búsqueda\n",
        "- Se definen diferentes conjuntos de hiperparámetros en el diccionario `parametros`. Estos incluyen diferentes valores de 'C' (parámetro de regularización), tipos de penalización ('l1', 'l2', 'elasticnet') y opciones de ponderación de clases.\n",
        "\n",
        "### 3. Establecimiento de la Métrica de Evaluación\n",
        "- Se define el puntaje F1 como la métrica de evaluación utilizando `make_scorer(f1_score)`.\n",
        "\n",
        "### 4. Búsqueda en Rejilla\n",
        "- Se utiliza `GridSearchCV` de sklearn para realizar la búsqueda en rejilla. Esto implica probar diferentes combinaciones de hiperparámetros y evaluar el modelo en el conjunto de datos de entrenamiento mediante validación cruzada con 5 divisiones (cv=5).\n",
        "- El objetivo es encontrar la combinación de hiperparámetros que maximice el puntaje F1 en el conjunto de datos de entrenamiento.\n",
        "\n",
        "Este proceso es fundamental para optimizar el modelo y mejorar su capacidad para predecir el incumplimiento de préstamos. Una vez finalizada la búsqueda en rejilla, los mejores hiperparámetros se utilizarán en el modelo final.\n",
        "\n"
      ]
    },
    {
      "cell_type": "code",
      "execution_count": null,
      "id": "2f3b021e",
      "metadata": {
        "scrolled": true,
        "id": "2f3b021e",
        "outputId": "c2228b3f-e328-4c71-9d1e-35cad066b121"
      },
      "outputs": [
        {
          "data": {
            "text/plain": [
              "{'C': 1.0,\n",
              " 'class_weight': None,\n",
              " 'dual': False,\n",
              " 'fit_intercept': True,\n",
              " 'intercept_scaling': 1,\n",
              " 'l1_ratio': None,\n",
              " 'max_iter': 100,\n",
              " 'multi_class': 'auto',\n",
              " 'n_jobs': None,\n",
              " 'penalty': 'l2',\n",
              " 'random_state': None,\n",
              " 'solver': 'lbfgs',\n",
              " 'tol': 0.0001,\n",
              " 'verbose': 0,\n",
              " 'warm_start': False}"
            ]
          },
          "execution_count": 20,
          "metadata": {},
          "output_type": "execute_result"
        }
      ],
      "source": [
        "logistic = LogisticRegression()\n",
        "logistic.get_params()"
      ]
    },
    {
      "cell_type": "code",
      "execution_count": null,
      "id": "e65db79d",
      "metadata": {
        "scrolled": true,
        "id": "e65db79d",
        "outputId": "0ad9ab4d-a4fc-42d5-edb8-3a1695929ae2"
      },
      "outputs": [
        {
          "data": {
            "text/html": [
              "<style>#sk-container-id-2 {color: black;}#sk-container-id-2 pre{padding: 0;}#sk-container-id-2 div.sk-toggleable {background-color: white;}#sk-container-id-2 label.sk-toggleable__label {cursor: pointer;display: block;width: 100%;margin-bottom: 0;padding: 0.3em;box-sizing: border-box;text-align: center;}#sk-container-id-2 label.sk-toggleable__label-arrow:before {content: \"▸\";float: left;margin-right: 0.25em;color: #696969;}#sk-container-id-2 label.sk-toggleable__label-arrow:hover:before {color: black;}#sk-container-id-2 div.sk-estimator:hover label.sk-toggleable__label-arrow:before {color: black;}#sk-container-id-2 div.sk-toggleable__content {max-height: 0;max-width: 0;overflow: hidden;text-align: left;background-color: #f0f8ff;}#sk-container-id-2 div.sk-toggleable__content pre {margin: 0.2em;color: black;border-radius: 0.25em;background-color: #f0f8ff;}#sk-container-id-2 input.sk-toggleable__control:checked~div.sk-toggleable__content {max-height: 200px;max-width: 100%;overflow: auto;}#sk-container-id-2 input.sk-toggleable__control:checked~label.sk-toggleable__label-arrow:before {content: \"▾\";}#sk-container-id-2 div.sk-estimator input.sk-toggleable__control:checked~label.sk-toggleable__label {background-color: #d4ebff;}#sk-container-id-2 div.sk-label input.sk-toggleable__control:checked~label.sk-toggleable__label {background-color: #d4ebff;}#sk-container-id-2 input.sk-hidden--visually {border: 0;clip: rect(1px 1px 1px 1px);clip: rect(1px, 1px, 1px, 1px);height: 1px;margin: -1px;overflow: hidden;padding: 0;position: absolute;width: 1px;}#sk-container-id-2 div.sk-estimator {font-family: monospace;background-color: #f0f8ff;border: 1px dotted black;border-radius: 0.25em;box-sizing: border-box;margin-bottom: 0.5em;}#sk-container-id-2 div.sk-estimator:hover {background-color: #d4ebff;}#sk-container-id-2 div.sk-parallel-item::after {content: \"\";width: 100%;border-bottom: 1px solid gray;flex-grow: 1;}#sk-container-id-2 div.sk-label:hover label.sk-toggleable__label {background-color: #d4ebff;}#sk-container-id-2 div.sk-serial::before {content: \"\";position: absolute;border-left: 1px solid gray;box-sizing: border-box;top: 0;bottom: 0;left: 50%;z-index: 0;}#sk-container-id-2 div.sk-serial {display: flex;flex-direction: column;align-items: center;background-color: white;padding-right: 0.2em;padding-left: 0.2em;position: relative;}#sk-container-id-2 div.sk-item {position: relative;z-index: 1;}#sk-container-id-2 div.sk-parallel {display: flex;align-items: stretch;justify-content: center;background-color: white;position: relative;}#sk-container-id-2 div.sk-item::before, #sk-container-id-2 div.sk-parallel-item::before {content: \"\";position: absolute;border-left: 1px solid gray;box-sizing: border-box;top: 0;bottom: 0;left: 50%;z-index: -1;}#sk-container-id-2 div.sk-parallel-item {display: flex;flex-direction: column;z-index: 1;position: relative;background-color: white;}#sk-container-id-2 div.sk-parallel-item:first-child::after {align-self: flex-end;width: 50%;}#sk-container-id-2 div.sk-parallel-item:last-child::after {align-self: flex-start;width: 50%;}#sk-container-id-2 div.sk-parallel-item:only-child::after {width: 0;}#sk-container-id-2 div.sk-dashed-wrapped {border: 1px dashed gray;margin: 0 0.4em 0.5em 0.4em;box-sizing: border-box;padding-bottom: 0.4em;background-color: white;}#sk-container-id-2 div.sk-label label {font-family: monospace;font-weight: bold;display: inline-block;line-height: 1.2em;}#sk-container-id-2 div.sk-label-container {text-align: center;}#sk-container-id-2 div.sk-container {/* jupyter's `normalize.less` sets `[hidden] { display: none; }` but bootstrap.min.css set `[hidden] { display: none !important; }` so we also need the `!important` here to be able to override the default hidden behavior on the sphinx rendered scikit-learn.org. See: https://github.com/scikit-learn/scikit-learn/issues/21755 */display: inline-block !important;position: relative;}#sk-container-id-2 div.sk-text-repr-fallback {display: none;}</style><div id=\"sk-container-id-2\" class=\"sk-top-container\"><div class=\"sk-text-repr-fallback\"><pre>GridSearchCV(cv=5, estimator=LogisticRegression(),\n",
              "             param_grid={&#x27;C&#x27;: [0.01, 0.1, 1.0, 10],\n",
              "                         &#x27;class_weight&#x27;: ({0: 1, 1: 10}, {0: 1, 1: 100},\n",
              "                                          &#x27;balanced&#x27;),\n",
              "                         &#x27;penalty&#x27;: (&#x27;l1&#x27;, &#x27;l2&#x27;, &#x27;elasticnet&#x27;)},\n",
              "             scoring=make_scorer(f1_score))</pre><b>In a Jupyter environment, please rerun this cell to show the HTML representation or trust the notebook. <br />On GitHub, the HTML representation is unable to render, please try loading this page with nbviewer.org.</b></div><div class=\"sk-container\" hidden><div class=\"sk-item sk-dashed-wrapped\"><div class=\"sk-label-container\"><div class=\"sk-label sk-toggleable\"><input class=\"sk-toggleable__control sk-hidden--visually\" id=\"sk-estimator-id-2\" type=\"checkbox\" ><label for=\"sk-estimator-id-2\" class=\"sk-toggleable__label sk-toggleable__label-arrow\">GridSearchCV</label><div class=\"sk-toggleable__content\"><pre>GridSearchCV(cv=5, estimator=LogisticRegression(),\n",
              "             param_grid={&#x27;C&#x27;: [0.01, 0.1, 1.0, 10],\n",
              "                         &#x27;class_weight&#x27;: ({0: 1, 1: 10}, {0: 1, 1: 100},\n",
              "                                          &#x27;balanced&#x27;),\n",
              "                         &#x27;penalty&#x27;: (&#x27;l1&#x27;, &#x27;l2&#x27;, &#x27;elasticnet&#x27;)},\n",
              "             scoring=make_scorer(f1_score))</pre></div></div></div><div class=\"sk-parallel\"><div class=\"sk-parallel-item\"><div class=\"sk-item\"><div class=\"sk-label-container\"><div class=\"sk-label sk-toggleable\"><input class=\"sk-toggleable__control sk-hidden--visually\" id=\"sk-estimator-id-3\" type=\"checkbox\" ><label for=\"sk-estimator-id-3\" class=\"sk-toggleable__label sk-toggleable__label-arrow\">estimator: LogisticRegression</label><div class=\"sk-toggleable__content\"><pre>LogisticRegression()</pre></div></div></div><div class=\"sk-serial\"><div class=\"sk-item\"><div class=\"sk-estimator sk-toggleable\"><input class=\"sk-toggleable__control sk-hidden--visually\" id=\"sk-estimator-id-4\" type=\"checkbox\" ><label for=\"sk-estimator-id-4\" class=\"sk-toggleable__label sk-toggleable__label-arrow\">LogisticRegression</label><div class=\"sk-toggleable__content\"><pre>LogisticRegression()</pre></div></div></div></div></div></div></div></div></div></div>"
            ],
            "text/plain": [
              "GridSearchCV(cv=5, estimator=LogisticRegression(),\n",
              "             param_grid={'C': [0.01, 0.1, 1.0, 10],\n",
              "                         'class_weight': ({0: 1, 1: 10}, {0: 1, 1: 100},\n",
              "                                          'balanced'),\n",
              "                         'penalty': ('l1', 'l2', 'elasticnet')},\n",
              "             scoring=make_scorer(f1_score))"
            ]
          },
          "execution_count": 21,
          "metadata": {},
          "output_type": "execute_result"
        }
      ],
      "source": [
        "from sklearn.model_selection import GridSearchCV\n",
        "from sklearn.metrics import make_scorer, f1_score\n",
        "\n",
        "weights1 = {0: 1, 1: 10}\n",
        "weights2 = {0: 1, 1: 100}\n",
        "\n",
        "\n",
        "parametros = {'C': [0.01, 0.1, 1.0, 10],\n",
        "              'penalty':('l1','l2','elasticnet'),\n",
        "              'class_weight':(weights1, weights2, 'balanced')\n",
        "              }\n",
        "\n",
        "scorer = make_scorer(f1_score)\n",
        "\n",
        "rejilla = GridSearchCV(logistic, parametros, scoring=scorer, cv=5)\n",
        "rejilla.fit(X_train, y_train)"
      ]
    },
    {
      "cell_type": "markdown",
      "id": "3ad03fa1",
      "metadata": {
        "id": "3ad03fa1"
      },
      "source": [
        "## Selección de los Mejores Hiperparámetros\n",
        "\n",
        "Una vez finalizada la búsqueda en rejilla, es importante identificar los mejores hiperparámetros encontrados para el modelo de regresión logística. Esto te permite utilizar la configuración óptima para lograr el mejor rendimiento en la predicción del incumplimiento de préstamos.\n",
        "\n",
        "### 1. Obtención de los Mejores Hiperparámetros\n",
        "- Se utiliza `rejilla.best_params_` para obtener los mejores hiperparámetros encontrados durante la búsqueda en rejilla.\n",
        "- Estos hiperparámetros incluyen el valor óptimo de 'C' (parámetro de regularización), el tipo de penalización ('l1', 'l2', 'elasticnet'), y la opción de ponderación de clases ('balanced' o valores personalizados).\n",
        "\n",
        "### 2. Impresión de los Mejores Hiperparámetros\n",
        "- Los mejores hiperparámetros se imprimen en la salida para poder verificar cuál es la configuración que maximiza el rendimiento del modelo.\n",
        "\n",
        "Una vez que obtenidos los mejores hiperparámetros, podremos utilizarlos para entrenar el modelo de regresión logística con la configuración óptima y, posteriormente, evaluar su rendimiento en el conjunto de prueba.\n",
        "\n"
      ]
    },
    {
      "cell_type": "code",
      "execution_count": null,
      "id": "514bb70a",
      "metadata": {
        "id": "514bb70a",
        "outputId": "d388c609-a811-4d9b-fba1-603faeb915b0"
      },
      "outputs": [
        {
          "name": "stdout",
          "output_type": "stream",
          "text": [
            "Mejores hiperparámetros: {'C': 10, 'class_weight': 'balanced', 'penalty': 'l2'}\n"
          ]
        }
      ],
      "source": [
        "# Obtener los mejores hiperparámetros encontrados\n",
        "best_params = rejilla.best_params_\n",
        "print(\"Mejores hiperparámetros:\", best_params)"
      ]
    },
    {
      "cell_type": "markdown",
      "id": "887fa66d",
      "metadata": {
        "id": "887fa66d"
      },
      "source": [
        "## Entrenamiento del Modelo con los Mejores Hiperparámetros\n",
        "\n",
        "\n",
        "En esta etapa del proyecto, hemos avanzado con la selección de los mejores hiperparámetros encontrados para nuestro modelo de regresión logística. Estos hiperparámetros se han determinado tras una búsqueda exhaustiva en rejilla, con el objetivo de optimizar el rendimiento del modelo en la predicción de incumplimientos de préstamos.\n",
        "\n",
        "### 1. Entrenamiento con los Mejores Hiperparámetros\n",
        "Hemos creado una nueva instancia del modelo de regresión logística, denominada `best_clf`, utilizando los mejores hiperparámetros encontrados durante la búsqueda en rejilla. Esta configuración óptima nos permitirá entrenar el modelo con la máxima precisión posible.\n",
        "\n",
        "### 2. Realización de Predicciones en el Conjunto de Prueba\n",
        "El modelo ha sido entrenado con los mejores hiperparámetros y, a continuación, hemos realizado predicciones en el conjunto de prueba `X_test`. Estas predicciones se almacenan en la variable `y_pred`.\n",
        "\n",
        "Este paso es crítico en nuestro proyecto, ya que nos permitirá evaluar el rendimiento del modelo utilizando los hiperparámetros óptimos. Una vez completada esta etapa, estaremos listos para analizar los resultados y tomar decisiones informadas sobre la capacidad de nuestro modelo para predecir incumplimientos de préstamos.\n",
        "\n"
      ]
    },
    {
      "cell_type": "code",
      "execution_count": null,
      "id": "e0cba47f",
      "metadata": {
        "id": "e0cba47f",
        "outputId": "de002910-2a62-4f7c-85ef-1e74f2141013"
      },
      "outputs": [
        {
          "data": {
            "text/html": [
              "<style>#sk-container-id-3 {color: black;}#sk-container-id-3 pre{padding: 0;}#sk-container-id-3 div.sk-toggleable {background-color: white;}#sk-container-id-3 label.sk-toggleable__label {cursor: pointer;display: block;width: 100%;margin-bottom: 0;padding: 0.3em;box-sizing: border-box;text-align: center;}#sk-container-id-3 label.sk-toggleable__label-arrow:before {content: \"▸\";float: left;margin-right: 0.25em;color: #696969;}#sk-container-id-3 label.sk-toggleable__label-arrow:hover:before {color: black;}#sk-container-id-3 div.sk-estimator:hover label.sk-toggleable__label-arrow:before {color: black;}#sk-container-id-3 div.sk-toggleable__content {max-height: 0;max-width: 0;overflow: hidden;text-align: left;background-color: #f0f8ff;}#sk-container-id-3 div.sk-toggleable__content pre {margin: 0.2em;color: black;border-radius: 0.25em;background-color: #f0f8ff;}#sk-container-id-3 input.sk-toggleable__control:checked~div.sk-toggleable__content {max-height: 200px;max-width: 100%;overflow: auto;}#sk-container-id-3 input.sk-toggleable__control:checked~label.sk-toggleable__label-arrow:before {content: \"▾\";}#sk-container-id-3 div.sk-estimator input.sk-toggleable__control:checked~label.sk-toggleable__label {background-color: #d4ebff;}#sk-container-id-3 div.sk-label input.sk-toggleable__control:checked~label.sk-toggleable__label {background-color: #d4ebff;}#sk-container-id-3 input.sk-hidden--visually {border: 0;clip: rect(1px 1px 1px 1px);clip: rect(1px, 1px, 1px, 1px);height: 1px;margin: -1px;overflow: hidden;padding: 0;position: absolute;width: 1px;}#sk-container-id-3 div.sk-estimator {font-family: monospace;background-color: #f0f8ff;border: 1px dotted black;border-radius: 0.25em;box-sizing: border-box;margin-bottom: 0.5em;}#sk-container-id-3 div.sk-estimator:hover {background-color: #d4ebff;}#sk-container-id-3 div.sk-parallel-item::after {content: \"\";width: 100%;border-bottom: 1px solid gray;flex-grow: 1;}#sk-container-id-3 div.sk-label:hover label.sk-toggleable__label {background-color: #d4ebff;}#sk-container-id-3 div.sk-serial::before {content: \"\";position: absolute;border-left: 1px solid gray;box-sizing: border-box;top: 0;bottom: 0;left: 50%;z-index: 0;}#sk-container-id-3 div.sk-serial {display: flex;flex-direction: column;align-items: center;background-color: white;padding-right: 0.2em;padding-left: 0.2em;position: relative;}#sk-container-id-3 div.sk-item {position: relative;z-index: 1;}#sk-container-id-3 div.sk-parallel {display: flex;align-items: stretch;justify-content: center;background-color: white;position: relative;}#sk-container-id-3 div.sk-item::before, #sk-container-id-3 div.sk-parallel-item::before {content: \"\";position: absolute;border-left: 1px solid gray;box-sizing: border-box;top: 0;bottom: 0;left: 50%;z-index: -1;}#sk-container-id-3 div.sk-parallel-item {display: flex;flex-direction: column;z-index: 1;position: relative;background-color: white;}#sk-container-id-3 div.sk-parallel-item:first-child::after {align-self: flex-end;width: 50%;}#sk-container-id-3 div.sk-parallel-item:last-child::after {align-self: flex-start;width: 50%;}#sk-container-id-3 div.sk-parallel-item:only-child::after {width: 0;}#sk-container-id-3 div.sk-dashed-wrapped {border: 1px dashed gray;margin: 0 0.4em 0.5em 0.4em;box-sizing: border-box;padding-bottom: 0.4em;background-color: white;}#sk-container-id-3 div.sk-label label {font-family: monospace;font-weight: bold;display: inline-block;line-height: 1.2em;}#sk-container-id-3 div.sk-label-container {text-align: center;}#sk-container-id-3 div.sk-container {/* jupyter's `normalize.less` sets `[hidden] { display: none; }` but bootstrap.min.css set `[hidden] { display: none !important; }` so we also need the `!important` here to be able to override the default hidden behavior on the sphinx rendered scikit-learn.org. See: https://github.com/scikit-learn/scikit-learn/issues/21755 */display: inline-block !important;position: relative;}#sk-container-id-3 div.sk-text-repr-fallback {display: none;}</style><div id=\"sk-container-id-3\" class=\"sk-top-container\"><div class=\"sk-text-repr-fallback\"><pre>LogisticRegression(C=10, class_weight=&#x27;balanced&#x27;)</pre><b>In a Jupyter environment, please rerun this cell to show the HTML representation or trust the notebook. <br />On GitHub, the HTML representation is unable to render, please try loading this page with nbviewer.org.</b></div><div class=\"sk-container\" hidden><div class=\"sk-item\"><div class=\"sk-estimator sk-toggleable\"><input class=\"sk-toggleable__control sk-hidden--visually\" id=\"sk-estimator-id-5\" type=\"checkbox\" checked><label for=\"sk-estimator-id-5\" class=\"sk-toggleable__label sk-toggleable__label-arrow\">LogisticRegression</label><div class=\"sk-toggleable__content\"><pre>LogisticRegression(C=10, class_weight=&#x27;balanced&#x27;)</pre></div></div></div></div></div>"
            ],
            "text/plain": [
              "LogisticRegression(C=10, class_weight='balanced')"
            ]
          },
          "execution_count": 23,
          "metadata": {},
          "output_type": "execute_result"
        }
      ],
      "source": [
        "# Entrena el modelo con los mejores hiperparámetros encontrados\n",
        "best_clf = LogisticRegression(**best_params)\n",
        "best_clf.fit(X_train, y_train)"
      ]
    },
    {
      "cell_type": "code",
      "execution_count": null,
      "id": "14747283",
      "metadata": {
        "id": "14747283"
      },
      "outputs": [],
      "source": [
        "# Realiza predicciones en el conjunto de prueba\n",
        "y_pred = best_clf.predict(X_test)"
      ]
    },
    {
      "cell_type": "code",
      "execution_count": null,
      "id": "9db5d441",
      "metadata": {
        "scrolled": false,
        "id": "9db5d441",
        "outputId": "c2658b40-0fd4-499f-fa31-805aeebb8552"
      },
      "outputs": [
        {
          "name": "stdout",
          "output_type": "stream",
          "text": [
            "Matriz de Confusión:\n"
          ]
        },
        {
          "data": {
            "image/png": "[encoded data removed]",
            "text/plain": [
              "<Figure size 640x480 with 1 Axes>"
            ]
          },
          "metadata": {},
          "output_type": "display_data"
        }
      ],
      "source": [
        "matriz_final = confusion_matrix(y_test, y_pred)\n",
        "print('Matriz de Confusión:')\n",
        "\n",
        "\n",
        "## np.set_printoptions(suppress=True) # evita la notacion cientifica\n",
        "\n",
        "sns.heatmap(matriz_final, annot=True, fmt=\"d\", cmap=\"Blues\", cbar=False)\n",
        "plt.show()"
      ]
    },
    {
      "cell_type": "markdown",
      "id": "f7629add",
      "metadata": {
        "id": "f7629add"
      },
      "source": [
        "## Comparación de Matrices de Confusión y Cálculo de Diferencias\n",
        "\n",
        "En lo que sigue se observa una lebe diferencia en los resultados obtenidos con el nuevo ajuste de hiperparametros, referido a los nuevos valores de la matriz de confusión y las metricas resultantes. Si bien los resultados son mejores, creemos que podemos obtener mejores resultados mediante la implementación de otros modelos que trabajen con metodos no paremetricos, que no requieran que los datos sigan una distribución especifica."
      ]
    },
    {
      "cell_type": "code",
      "execution_count": null,
      "id": "e70f4bf0",
      "metadata": {
        "id": "e70f4bf0",
        "outputId": "4ae6adc9-ce82-4c72-9c29-8771c90c1bb8"
      },
      "outputs": [
        {
          "name": "stdout",
          "output_type": "stream",
          "text": [
            "Diferencia entre Matriz 1 y Matriz 2:\n",
            "[[ 3257 -3257]\n",
            " [ 1142 -1142]]\n"
          ]
        }
      ],
      "source": [
        "\n",
        "\n",
        "# Supongamos que tienes dos matrices de confusión: matriz1 y matriz2\n",
        "diferencia = matriz - matriz_final\n",
        "\n",
        "# Calcula la suma de las diferencias para obtener un resumen\n",
        "suma_diferencias = np.sum(diferencia)\n",
        "\n",
        "print(\"Diferencia entre Matriz 1 y Matriz 2:\")\n",
        "print(diferencia)\n"
      ]
    },
    {
      "cell_type": "code",
      "execution_count": null,
      "id": "0fc8e094",
      "metadata": {
        "id": "0fc8e094",
        "outputId": "9988f5b4-15c2-483d-87e9-cae01a710759"
      },
      "outputs": [
        {
          "name": "stdout",
          "output_type": "stream",
          "text": [
            "Reporte de clasificación:\n",
            "              precision    recall  f1-score   support\n",
            "\n",
            "           0       0.99      0.85      0.91     31236\n",
            "           1       0.55      0.97      0.70      6096\n",
            "\n",
            "    accuracy                           0.87     37332\n",
            "   macro avg       0.77      0.91      0.81     37332\n",
            "weighted avg       0.92      0.87      0.88     37332\n",
            "\n"
          ]
        }
      ],
      "source": [
        "# Evaluar el rendimiento utilizando métricas de clasificación\n",
        "print(\"Reporte de clasificación:\")\n",
        "print(classification_report(y_test, y_pred))"
      ]
    },
    {
      "cell_type": "code",
      "execution_count": null,
      "id": "18ab14f4",
      "metadata": {
        "scrolled": true,
        "id": "18ab14f4",
        "outputId": "7abfdf75-45af-4302-fba0-9008a5dd65c7"
      },
      "outputs": [
        {
          "data": {
            "image/png": "[encoded data removed]",
            "text/plain": [
              "<Figure size 640x480 with 1 Axes>"
            ]
          },
          "metadata": {},
          "output_type": "display_data"
        }
      ],
      "source": [
        "from sklearn.metrics import RocCurveDisplay\n",
        "log_cor_est = RocCurveDisplay.from_estimator(best_clf,X_test, y_test, response_method ='decision_function')\n",
        "plt.show()"
      ]
    },
    {
      "cell_type": "markdown",
      "id": "a4292369",
      "metadata": {
        "id": "a4292369"
      },
      "source": [
        "## Análisis de Coeficientes de la Regresión Logística\n",
        "\n",
        "En esta sección, estamos realizando un análisis de los coeficientes obtenidos a partir de un modelo de regresión logística con los mejores hiperparámetros encontrados. Los coeficientes son valores numéricos que indican la influencia de cada variable independiente en la predicción de incumplimientos de préstamos.\n",
        "\n",
        "- `coeficientes = best_clf.coef_[0]`: Se obtienen los coeficientes del modelo de regresión logística. Estos coeficientes representan cuánto cambia la probabilidad de incumplimiento de préstamos para cada unidad de cambio en las variables independientes.\n",
        "\n",
        "- `nombres_variables = X.columns`: Se obtienen los nombres de las variables independientes que se utilizan en el modelo.\n",
        "\n",
        "- `coeficientes_df`: Se crea un DataFrame que visualiza los coeficientes junto con los nombres de las variables independientes.\n",
        "\n",
        "- `coeficientes_df['Abs_Coeficiente']`: Se agrega una columna al DataFrame que contiene el valor absoluto de los coeficientes. Esto permite ordenar los coeficientes en función de su magnitud en lugar de su dirección.\n",
        "\n",
        "- `coeficientes_df = coeficientes_df.sort_values(by='Abs_Coeficiente', ascending=False)`: Se ordena el DataFrame por el valor absoluto de los coeficientes en orden descendente, lo que permite identificar las variables más influyentes en la predicción de incumplimientos de préstamos.\n",
        "\n",
        "- Finalmente, se imprime el DataFrame `coeficientes_df`, que muestra los nombres de las variables junto con sus coeficientes ordenados por magnitud.\n",
        "\n",
        "Este análisis de coeficientes es fundamental para comprender qué variables tienen un mayor impacto en la predicción de incumplimientos de préstamos y cómo influyen en la toma de decisiones del modelo de regresión logística.\n",
        "\n"
      ]
    },
    {
      "cell_type": "code",
      "execution_count": null,
      "id": "8868bdd9",
      "metadata": {
        "id": "8868bdd9"
      },
      "outputs": [],
      "source": [
        "coeficientes = best_clf.coef_[0]  # Los coeficientes del modelo\n",
        "nombres_variables = X.columns  # Los nombres de las variables independientes\n",
        "\n"
      ]
    },
    {
      "cell_type": "code",
      "execution_count": null,
      "id": "e43d17c6",
      "metadata": {
        "id": "e43d17c6"
      },
      "outputs": [],
      "source": [
        "# Crear un DataFrame para visualizar los coeficientes junto con los nombres de las variables\n",
        "\n",
        "coeficientes_df = pd.DataFrame({'Variable': nombres_variables, 'Coeficiente': coeficientes})"
      ]
    },
    {
      "cell_type": "code",
      "execution_count": null,
      "id": "ee41aa0d",
      "metadata": {
        "id": "ee41aa0d",
        "outputId": "97f25557-dce6-4ef4-b904-f1153e82b180"
      },
      "outputs": [
        {
          "name": "stdout",
          "output_type": "stream",
          "text": [
            "                              Variable  Coeficiente  Abs_Coeficiente\n",
            "1                      Upfront_charges   -67.280244        67.280244\n",
            "19   submission_of_application_to_inst     0.473169         0.473169\n",
            "18  submission_of_application_not_inst    -0.473169         0.473169\n",
            "3                                  LTV     0.197117         0.197117\n",
            "0                          loan_amount    -0.151925         0.151925\n",
            "10                     loan_purpose_p3     0.123473         0.123473\n",
            "14           Neg_ammortization_neg_amm     0.119599         0.119599\n",
            "15           Neg_ammortization_not_neg    -0.119599         0.119599\n",
            "5                        loan_limit_cf    -0.103784         0.103784\n",
            "6                       loan_limit_ncf     0.103784         0.103784\n",
            "4                                dtir1     0.095182         0.095182\n",
            "11                     loan_purpose_p4    -0.092289         0.092289\n",
            "16        co-applicant_credit_type_CIB     0.088555         0.088555\n",
            "17        co-applicant_credit_type_EXP    -0.088555         0.088555\n",
            "8                    approv_in_adv_pre    -0.041132         0.041132\n",
            "7                  approv_in_adv_nopre     0.041132         0.041132\n",
            "9                      loan_purpose_p1    -0.039641         0.039641\n",
            "2                         Credit_Score     0.016005         0.016005\n",
            "12          business_or_commercial_b/c     0.013943         0.013943\n",
            "13        business_or_commercial_nob/c    -0.013943         0.013943\n"
          ]
        }
      ],
      "source": [
        "# Ordenar el DataFrame por valor absoluto de los coeficientes en orden descendente\n",
        "coeficientes_df['Abs_Coeficiente'] = abs(coeficientes_df['Coeficiente'])\n",
        "coeficientes_df = coeficientes_df.sort_values(by='Abs_Coeficiente', ascending=False)\n",
        "\n",
        "# Visualizar los coeficientes\n",
        "print(coeficientes_df)"
      ]
    },
    {
      "cell_type": "markdown",
      "id": "8d65e746",
      "metadata": {
        "id": "8d65e746"
      },
      "source": [
        "## Análisis de Coeficientes de la Regresión Logística\n",
        "\n",
        "A continuación, presentamos los coeficientes y los valores absolutos de los coeficientes obtenidos a partir del modelo de regresión logística. Estos coeficientes indican la influencia de cada variable independiente en la predicción de incumplimientos de préstamos:\n",
        "\n",
        "- `Upfront_charges`: El coeficiente de -67.280244 indica que un aumento en esta variable se asocia fuertemente con una disminución en la probabilidad de incumplimiento de préstamos.\n",
        "\n",
        "- `submission_of_application_to_inst`: El coeficiente de 0.473169 muestra que esta variable tiene un impacto positivo moderado en la predicción de incumplimientos.\n",
        "\n",
        "- `submission_of_application_not_inst`: Tiene el mismo coeficiente que `submission_of_application_to_inst`, pero en dirección opuesta, lo que sugiere un impacto negativo similar en la predicción.\n",
        "\n",
        "- Otros coeficientes y variables siguen un patrón similar, indicando su influencia y dirección en la predicción.\n",
        "\n",
        "Los coeficientes con los valores absolutos más grandes (mayor magnitud) tienen un impacto más significativo en la predicción de incumplimientos de préstamos. En este contexto, variables como `Upfront_charges`, `LTV`, y `loan_amount` tienen una influencia notable en el modelo.\n",
        "\n",
        "Este análisis de coeficientes es crucial para comprender qué características del conjunto de datos son más relevantes para predecir incumplimientos de préstamos. Permite identificar las variables clave que afectan las decisiones del modelo de regresión logística.\n",
        "\n"
      ]
    },
    {
      "cell_type": "markdown",
      "id": "bae74791",
      "metadata": {
        "id": "bae74791"
      },
      "source": [
        "## Cierre y Sugerencia de Próximos Pasos\n",
        "\n",
        "En este proyecto, hemos realizado un análisis exhaustivo de incumplimientos de préstamos bancarios utilizando un modelo de regresión logística. Hemos llevado a cabo limpieza de datos, análisis exploratorio y ajuste de hiperparámetros para mejorar el rendimiento del modelo. Además, hemos examinado los coeficientes del modelo para comprender qué variables influyen más en nuestras predicciones.\n",
        "\n",
        "Los resultados obtenidos de este análisis nos han proporcionado información valiosa sobre las variables clave que afectan la predicción de incumplimientos de préstamos. Sin embargo, es importante recordar que el modelo de regresión logística asume una relación lineal entre las variables independientes y la variable objetivo. En algunos casos, esta suposición podría no ser adecuada para capturar relaciones más complejas en los datos.\n",
        "\n",
        "Dado que nuestro objetivo es mejorar aún más el rendimiento del modelo, una sugerencia es explorar modelos no paramétricos, como Arboles de Decision, Random Forest u otros. Estos modelos tienen la capacidad de capturar relaciones no lineales y complejas en los datos, lo que podría resultar en una mejora en la precisión de las predicciones de incumplimientos de préstamos.\n",
        "\n",
        "Los próximos pasos podrían incluir la implementación y ajuste de estos modelos no paramétricos, seguidos de una evaluación exhaustiva de su rendimiento. Además, se podría considerar la utilización de técnicas de selección de variables para identificar las características más relevantes.\n",
        "\n",
        "En resumen, nuestro análisis actual nos sugiere que existe potencial para mejorar aún más la predicción de incumplimientos de préstamos mediante la exploración de modelos no paramétricos y técnicas adicionales. Estamos en el camino correcto para lograr un modelo más preciso y eficiente en este desafío.\n",
        "\n",
        "\n"
      ]
    },
    {
      "cell_type": "code",
      "execution_count": null,
      "id": "bd12ee5f",
      "metadata": {
        "id": "bd12ee5f"
      },
      "outputs": [],
      "source": []
    }
  ],
  "metadata": {
    "kernelspec": {
      "display_name": "Python 3 (ipykernel)",
      "language": "python",
      "name": "python3"
    },
    "language_info": {
      "codemirror_mode": {
        "name": "ipython",
        "version": 3
      },
      "file_extension": ".py",
      "mimetype": "text/x-python",
      "name": "python",
      "nbconvert_exporter": "python",
      "pygments_lexer": "ipython3",
      "version": "3.11.5"
    },
    "colab": {
      "provenance": [],
      "include_colab_link": true
    }
  },
  "nbformat": 4,
  "nbformat_minor": 5
}